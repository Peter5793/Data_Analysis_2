{
  "nbformat": 4,
  "nbformat_minor": 0,
  "metadata": {
    "colab": {
      "name": "student_algo_1.ipynb",
      "provenance": [],
      "authorship_tag": "ABX9TyOkHWv7OkyEmT3o4wFt+TeQ",
      "include_colab_link": true
    },
    "kernelspec": {
      "name": "python3",
      "display_name": "Python 3"
    },
    "language_info": {
      "name": "python"
    }
  },
  "cells": [
    {
      "cell_type": "markdown",
      "metadata": {
        "id": "view-in-github",
        "colab_type": "text"
      },
      "source": [
        "<a href=\"https://colab.research.google.com/github/Peter5793/Data_Analysis_2/blob/master/student_algo_1.ipynb\" target=\"_parent\"><img src=\"https://colab.research.google.com/assets/colab-badge.svg\" alt=\"Open In Colab\"/></a>"
      ]
    },
    {
      "cell_type": "markdown",
      "metadata": {
        "id": "Y0ZRYMxtX5ky"
      },
      "source": [
        "# Student Binary Classification\n",
        "Determine the classifiers for the student that may lead to a drop out"
      ]
    },
    {
      "cell_type": "code",
      "metadata": {
        "colab": {
          "base_uri": "https://localhost:8080/"
        },
        "id": "gpTc6jW1XguV",
        "outputId": "07fbce1a-b39c-4d4e-f8b2-32233acde269"
      },
      "source": [
        "#update the modules to be used\n",
        "!pip install matplotlib"
      ],
      "execution_count": 1,
      "outputs": [
        {
          "output_type": "stream",
          "text": [
            "Requirement already satisfied: matplotlib in /usr/local/lib/python3.7/dist-packages (3.2.2)\n",
            "Requirement already satisfied: numpy>=1.11 in /usr/local/lib/python3.7/dist-packages (from matplotlib) (1.19.5)\n",
            "Requirement already satisfied: python-dateutil>=2.1 in /usr/local/lib/python3.7/dist-packages (from matplotlib) (2.8.1)\n",
            "Requirement already satisfied: pyparsing!=2.0.4,!=2.1.2,!=2.1.6,>=2.0.1 in /usr/local/lib/python3.7/dist-packages (from matplotlib) (2.4.7)\n",
            "Requirement already satisfied: kiwisolver>=1.0.1 in /usr/local/lib/python3.7/dist-packages (from matplotlib) (1.3.1)\n",
            "Requirement already satisfied: cycler>=0.10 in /usr/local/lib/python3.7/dist-packages (from matplotlib) (0.10.0)\n",
            "Requirement already satisfied: six>=1.5 in /usr/local/lib/python3.7/dist-packages (from python-dateutil>=2.1->matplotlib) (1.15.0)\n"
          ],
          "name": "stdout"
        }
      ]
    },
    {
      "cell_type": "code",
      "metadata": {
        "id": "YBGF_nkmYAnT"
      },
      "source": [
        "#importing the libraries to be used in the \n",
        "import pandas as pd\n",
        "from matplotlib import pyplot as plt\n",
        "import seaborn as sns\n",
        "import plotly.express as px\n",
        "import numpy as np\n",
        "import warnings\n",
        "warnings.filterwarnings('ignore')"
      ],
      "execution_count": 5,
      "outputs": []
    },
    {
      "cell_type": "code",
      "metadata": {
        "colab": {
          "base_uri": "https://localhost:8080/"
        },
        "id": "7kfOwmpsYC_v",
        "outputId": "fd697893-9214-4988-b440-03019bdebfb8"
      },
      "source": [
        "\"\"\"To partially automate the process, we shall connect to the google worksheet\"\"\"\n",
        "\n",
        "#importing libraries to read from googlesheets\n",
        "from google.colab import drive\n",
        "drive.mount('/content/drive')"
      ],
      "execution_count": 6,
      "outputs": [
        {
          "output_type": "stream",
          "text": [
            "Mounted at /content/drive\n"
          ],
          "name": "stdout"
        }
      ]
    },
    {
      "cell_type": "code",
      "metadata": {
        "colab": {
          "base_uri": "https://localhost:8080/"
        },
        "id": "3lQq5NfsYE4e",
        "outputId": "841e0187-568f-47a8-cc30-464f859a0cdc"
      },
      "source": [
        "#install gspread pip for connection to google sheet\n",
        "!pip install --upgrade -q gspread\n",
        "!pip install gspread-dataframe"
      ],
      "execution_count": 2,
      "outputs": [
        {
          "output_type": "stream",
          "text": [
            "Requirement already satisfied: gspread-dataframe in /usr/local/lib/python3.7/dist-packages (3.0.8)\n",
            "Requirement already satisfied: gspread>=3.0.0 in /usr/local/lib/python3.7/dist-packages (from gspread-dataframe) (3.7.0)\n",
            "Requirement already satisfied: pandas>=0.14.0 in /usr/local/lib/python3.7/dist-packages (from gspread-dataframe) (1.1.5)\n",
            "Requirement already satisfied: google-auth>=1.12.0 in /usr/local/lib/python3.7/dist-packages (from gspread>=3.0.0->gspread-dataframe) (1.28.1)\n",
            "Requirement already satisfied: google-auth-oauthlib>=0.4.1 in /usr/local/lib/python3.7/dist-packages (from gspread>=3.0.0->gspread-dataframe) (0.4.4)\n",
            "Requirement already satisfied: python-dateutil>=2.7.3 in /usr/local/lib/python3.7/dist-packages (from pandas>=0.14.0->gspread-dataframe) (2.8.1)\n",
            "Requirement already satisfied: numpy>=1.15.4 in /usr/local/lib/python3.7/dist-packages (from pandas>=0.14.0->gspread-dataframe) (1.19.5)\n",
            "Requirement already satisfied: pytz>=2017.2 in /usr/local/lib/python3.7/dist-packages (from pandas>=0.14.0->gspread-dataframe) (2018.9)\n",
            "Requirement already satisfied: cachetools<5.0,>=2.0.0 in /usr/local/lib/python3.7/dist-packages (from google-auth>=1.12.0->gspread>=3.0.0->gspread-dataframe) (4.2.1)\n",
            "Requirement already satisfied: rsa<5,>=3.1.4; python_version >= \"3.6\" in /usr/local/lib/python3.7/dist-packages (from google-auth>=1.12.0->gspread>=3.0.0->gspread-dataframe) (4.7.2)\n",
            "Requirement already satisfied: pyasn1-modules>=0.2.1 in /usr/local/lib/python3.7/dist-packages (from google-auth>=1.12.0->gspread>=3.0.0->gspread-dataframe) (0.2.8)\n",
            "Requirement already satisfied: setuptools>=40.3.0 in /usr/local/lib/python3.7/dist-packages (from google-auth>=1.12.0->gspread>=3.0.0->gspread-dataframe) (56.0.0)\n",
            "Requirement already satisfied: six>=1.9.0 in /usr/local/lib/python3.7/dist-packages (from google-auth>=1.12.0->gspread>=3.0.0->gspread-dataframe) (1.15.0)\n",
            "Requirement already satisfied: requests-oauthlib>=0.7.0 in /usr/local/lib/python3.7/dist-packages (from google-auth-oauthlib>=0.4.1->gspread>=3.0.0->gspread-dataframe) (1.3.0)\n",
            "Requirement already satisfied: pyasn1>=0.1.3 in /usr/local/lib/python3.7/dist-packages (from rsa<5,>=3.1.4; python_version >= \"3.6\"->google-auth>=1.12.0->gspread>=3.0.0->gspread-dataframe) (0.4.8)\n",
            "Requirement already satisfied: requests>=2.0.0 in /usr/local/lib/python3.7/dist-packages (from requests-oauthlib>=0.7.0->google-auth-oauthlib>=0.4.1->gspread>=3.0.0->gspread-dataframe) (2.23.0)\n",
            "Requirement already satisfied: oauthlib>=3.0.0 in /usr/local/lib/python3.7/dist-packages (from requests-oauthlib>=0.7.0->google-auth-oauthlib>=0.4.1->gspread>=3.0.0->gspread-dataframe) (3.1.0)\n",
            "Requirement already satisfied: urllib3!=1.25.0,!=1.25.1,<1.26,>=1.21.1 in /usr/local/lib/python3.7/dist-packages (from requests>=2.0.0->requests-oauthlib>=0.7.0->google-auth-oauthlib>=0.4.1->gspread>=3.0.0->gspread-dataframe) (1.24.3)\n",
            "Requirement already satisfied: certifi>=2017.4.17 in /usr/local/lib/python3.7/dist-packages (from requests>=2.0.0->requests-oauthlib>=0.7.0->google-auth-oauthlib>=0.4.1->gspread>=3.0.0->gspread-dataframe) (2020.12.5)\n",
            "Requirement already satisfied: idna<3,>=2.5 in /usr/local/lib/python3.7/dist-packages (from requests>=2.0.0->requests-oauthlib>=0.7.0->google-auth-oauthlib>=0.4.1->gspread>=3.0.0->gspread-dataframe) (2.10)\n",
            "Requirement already satisfied: chardet<4,>=3.0.2 in /usr/local/lib/python3.7/dist-packages (from requests>=2.0.0->requests-oauthlib>=0.7.0->google-auth-oauthlib>=0.4.1->gspread>=3.0.0->gspread-dataframe) (3.0.4)\n"
          ],
          "name": "stdout"
        }
      ]
    },
    {
      "cell_type": "code",
      "metadata": {
        "id": "UaYO92ErYHfs"
      },
      "source": [
        "#authenticating the account \n",
        "import gspread\n",
        "from google.colab import auth\n",
        "auth.authenticate_user()\n",
        "from oauth2client.client import GoogleCredentials\n",
        "gc = gspread.authorize(GoogleCredentials.get_application_default())"
      ],
      "execution_count": 3,
      "outputs": []
    },
    {
      "cell_type": "code",
      "metadata": {
        "id": "Ijfs9kP-YK49"
      },
      "source": [
        "#import the csv format of the dataset\n",
        "student = gc.open_by_url('https://docs.google.com/spreadsheets/d/1PqGgqRiU4v5tnGqJgXhcfgZFzkqJgIhkimTx3-2oGA4/edit#gid=0')\n"
      ],
      "execution_count": 4,
      "outputs": []
    },
    {
      "cell_type": "code",
      "metadata": {
        "id": "BEbtbXQRYT2Z"
      },
      "source": [
        "from gspread_dataframe import get_as_dataframe, set_with_dataframe\n",
        "ws = student.worksheet('Sheet1')\n",
        "student_df = get_as_dataframe(ws)"
      ],
      "execution_count": 8,
      "outputs": []
    },
    {
      "cell_type": "code",
      "metadata": {
        "colab": {
          "base_uri": "https://localhost:8080/",
          "height": 482
        },
        "id": "foFm5yHnYhjB",
        "outputId": "9837240a-6b99-439e-c3bd-aaa2d8a2845c"
      },
      "source": [
        "#oberving the data frame\n",
        "student_df.head()"
      ],
      "execution_count": 9,
      "outputs": [
        {
          "output_type": "execute_result",
          "data": {
            "text/html": [
              "<div>\n",
              "<style scoped>\n",
              "    .dataframe tbody tr th:only-of-type {\n",
              "        vertical-align: middle;\n",
              "    }\n",
              "\n",
              "    .dataframe tbody tr th {\n",
              "        vertical-align: top;\n",
              "    }\n",
              "\n",
              "    .dataframe thead th {\n",
              "        text-align: right;\n",
              "    }\n",
              "</style>\n",
              "<table border=\"1\" class=\"dataframe\">\n",
              "  <thead>\n",
              "    <tr style=\"text-align: right;\">\n",
              "      <th></th>\n",
              "      <th>Gender</th>\n",
              "      <th>Date of Birth</th>\n",
              "      <th>Age</th>\n",
              "      <th>20-25_years</th>\n",
              "      <th>&gt;28_years</th>\n",
              "      <th>&gt;30_years</th>\n",
              "      <th>Country</th>\n",
              "      <th>LevelStatus</th>\n",
              "      <th>Confirmed Desire to Drop out</th>\n",
              "      <th>Score_1</th>\n",
              "      <th>Score_2</th>\n",
              "      <th>Score_3</th>\n",
              "      <th>Score_4</th>\n",
              "      <th>Score_5</th>\n",
              "      <th>Overal_&lt;60_?</th>\n",
              "      <th>Drop_out</th>\n",
              "      <th>Source</th>\n",
              "      <th>Source part 2</th>\n",
              "      <th>Why drop or behind</th>\n",
              "      <th>Stage</th>\n",
              "      <th>PLD 12 Feb</th>\n",
              "    </tr>\n",
              "  </thead>\n",
              "  <tbody>\n",
              "    <tr>\n",
              "      <th>0</th>\n",
              "      <td>Male</td>\n",
              "      <td>6/16/2000</td>\n",
              "      <td>21.0</td>\n",
              "      <td>1.0</td>\n",
              "      <td>0.0</td>\n",
              "      <td>0.0</td>\n",
              "      <td>Ethiopia</td>\n",
              "      <td>Student accepted to join</td>\n",
              "      <td>Yes</td>\n",
              "      <td>23.72</td>\n",
              "      <td>31.50</td>\n",
              "      <td>34.65</td>\n",
              "      <td>39.53</td>\n",
              "      <td>45.61</td>\n",
              "      <td>Yes</td>\n",
              "      <td>Yes</td>\n",
              "      <td>blank</td>\n",
              "      <td>Google</td>\n",
              "      <td>Balance School</td>\n",
              "      <td>High School</td>\n",
              "      <td>Absent</td>\n",
              "    </tr>\n",
              "    <tr>\n",
              "      <th>1</th>\n",
              "      <td>Male</td>\n",
              "      <td>5/27/1992</td>\n",
              "      <td>29.0</td>\n",
              "      <td>0.0</td>\n",
              "      <td>1.0</td>\n",
              "      <td>0.0</td>\n",
              "      <td>Eswatini</td>\n",
              "      <td>Student accepted to join</td>\n",
              "      <td>Yes</td>\n",
              "      <td>0.00</td>\n",
              "      <td>4.55</td>\n",
              "      <td>5.00</td>\n",
              "      <td>0.00</td>\n",
              "      <td>0.00</td>\n",
              "      <td>Yes</td>\n",
              "      <td>Yes</td>\n",
              "      <td>Facebook Organic</td>\n",
              "      <td>l.facebook.com</td>\n",
              "      <td>NaN</td>\n",
              "      <td>NaN</td>\n",
              "      <td>Absent</td>\n",
              "    </tr>\n",
              "    <tr>\n",
              "      <th>2</th>\n",
              "      <td>Male</td>\n",
              "      <td>8/29/1997</td>\n",
              "      <td>24.0</td>\n",
              "      <td>1.0</td>\n",
              "      <td>0.0</td>\n",
              "      <td>0.0</td>\n",
              "      <td>Ivory Coast</td>\n",
              "      <td>Student accepted to join</td>\n",
              "      <td>Yes</td>\n",
              "      <td>2.65</td>\n",
              "      <td>7.56</td>\n",
              "      <td>8.31</td>\n",
              "      <td>4.42</td>\n",
              "      <td>5.10</td>\n",
              "      <td>Yes</td>\n",
              "      <td>Yes</td>\n",
              "      <td>Facebook Organic</td>\n",
              "      <td>l.facebook.com</td>\n",
              "      <td>Balance Work</td>\n",
              "      <td>Working</td>\n",
              "      <td>Absent</td>\n",
              "    </tr>\n",
              "    <tr>\n",
              "      <th>3</th>\n",
              "      <td>Male</td>\n",
              "      <td>7/15/1998</td>\n",
              "      <td>23.0</td>\n",
              "      <td>1.0</td>\n",
              "      <td>0.0</td>\n",
              "      <td>0.0</td>\n",
              "      <td>Nigeria</td>\n",
              "      <td>Student accepted to join</td>\n",
              "      <td>Yes</td>\n",
              "      <td>10.21</td>\n",
              "      <td>15.69</td>\n",
              "      <td>17.25</td>\n",
              "      <td>16.34</td>\n",
              "      <td>18.85</td>\n",
              "      <td>Yes</td>\n",
              "      <td>Yes</td>\n",
              "      <td>blank</td>\n",
              "      <td>direct</td>\n",
              "      <td>NaN</td>\n",
              "      <td>NaN</td>\n",
              "      <td>Absent</td>\n",
              "    </tr>\n",
              "    <tr>\n",
              "      <th>4</th>\n",
              "      <td>Male</td>\n",
              "      <td>5/11/2000</td>\n",
              "      <td>21.0</td>\n",
              "      <td>1.0</td>\n",
              "      <td>0.0</td>\n",
              "      <td>0.0</td>\n",
              "      <td>Rwanda</td>\n",
              "      <td>Student accepted to join</td>\n",
              "      <td>Yes</td>\n",
              "      <td>3.16</td>\n",
              "      <td>8.13</td>\n",
              "      <td>8.95</td>\n",
              "      <td>5.26</td>\n",
              "      <td>6.07</td>\n",
              "      <td>Yes</td>\n",
              "      <td>Yes</td>\n",
              "      <td>Not in System Before Application Import</td>\n",
              "      <td>NaN</td>\n",
              "      <td>NaN</td>\n",
              "      <td>NaN</td>\n",
              "      <td>Absent</td>\n",
              "    </tr>\n",
              "  </tbody>\n",
              "</table>\n",
              "</div>"
            ],
            "text/plain": [
              "  Gender Date of Birth   Age  ...  Why drop or behind        Stage  PLD 12 Feb\n",
              "0   Male     6/16/2000  21.0  ...      Balance School  High School      Absent\n",
              "1   Male     5/27/1992  29.0  ...                 NaN          NaN      Absent\n",
              "2   Male     8/29/1997  24.0  ...        Balance Work      Working      Absent\n",
              "3   Male     7/15/1998  23.0  ...                 NaN          NaN      Absent\n",
              "4   Male     5/11/2000  21.0  ...                 NaN          NaN      Absent\n",
              "\n",
              "[5 rows x 21 columns]"
            ]
          },
          "metadata": {
            "tags": []
          },
          "execution_count": 9
        }
      ]
    },
    {
      "cell_type": "code",
      "metadata": {
        "colab": {
          "base_uri": "https://localhost:8080/"
        },
        "id": "WDJe7pJuYjTa",
        "outputId": "775a1953-4b6a-4f5e-f9a8-01b725f18de8"
      },
      "source": [
        "#we do not need all the columns for the regression analysis therefore , we shall drop some of them \n",
        "# Intial droping of columns was made in the googles sheet\n",
        "student_df.columns.to_list()"
      ],
      "execution_count": 10,
      "outputs": [
        {
          "output_type": "execute_result",
          "data": {
            "text/plain": [
              "['Gender',\n",
              " 'Date of Birth',\n",
              " 'Age',\n",
              " '20-25_years',\n",
              " '>28_years',\n",
              " '>30_years',\n",
              " 'Country',\n",
              " 'LevelStatus',\n",
              " 'Confirmed Desire to Drop out',\n",
              " 'Score_1',\n",
              " 'Score_2',\n",
              " 'Score_3',\n",
              " 'Score_4',\n",
              " 'Score_5',\n",
              " 'Overal_<60_?',\n",
              " 'Drop_out',\n",
              " 'Source',\n",
              " 'Source part 2',\n",
              " 'Why drop or behind',\n",
              " 'Stage',\n",
              " 'PLD 12 Feb']"
            ]
          },
          "metadata": {
            "tags": []
          },
          "execution_count": 10
        }
      ]
    },
    {
      "cell_type": "code",
      "metadata": {
        "colab": {
          "base_uri": "https://localhost:8080/"
        },
        "id": "871NvDAFYrOl",
        "outputId": "f887a1c2-bf81-44b4-8bbf-1a569bcafd86"
      },
      "source": [
        "# looking at the shape of the data frame\n",
        "shape = student_df.shape\n",
        "print(\"{}\".format(shape))"
      ],
      "execution_count": 11,
      "outputs": [
        {
          "output_type": "stream",
          "text": [
            "(999, 21)\n"
          ],
          "name": "stdout"
        }
      ]
    },
    {
      "cell_type": "code",
      "metadata": {
        "colab": {
          "base_uri": "https://localhost:8080/"
        },
        "id": "rDjGQcVMYta_",
        "outputId": "5e39e3f5-296a-44f4-c31e-71f71bef8e37"
      },
      "source": [
        "#looking at the columns with Null values\n",
        "student_df.apply(lambda x: sum(x.isnull()), axis=0)"
      ],
      "execution_count": 12,
      "outputs": [
        {
          "output_type": "execute_result",
          "data": {
            "text/plain": [
              "Gender                          773\n",
              "Date of Birth                   773\n",
              "Age                             773\n",
              "20-25_years                     773\n",
              ">28_years                       773\n",
              ">30_years                       773\n",
              "Country                         773\n",
              "LevelStatus                     773\n",
              "Confirmed Desire to Drop out    773\n",
              "Score_1                         773\n",
              "Score_2                         773\n",
              "Score_3                         773\n",
              "Score_4                         773\n",
              "Score_5                         773\n",
              "Overal_<60_?                    773\n",
              "Drop_out                        773\n",
              "Source                          773\n",
              "Source part 2                   823\n",
              "Why drop or behind              944\n",
              "Stage                           827\n",
              "PLD 12 Feb                      773\n",
              "dtype: int64"
            ]
          },
          "metadata": {
            "tags": []
          },
          "execution_count": 12
        }
      ]
    },
    {
      "cell_type": "markdown",
      "metadata": {
        "id": "-H6HIO1wY1Nd"
      },
      "source": [
        "There are columns that have > 773 Nan values and we will perform some feature engineering in the columns to get data for > 28 years and > 30 years\n"
      ]
    },
    {
      "cell_type": "code",
      "metadata": {
        "id": "BHOxxjuwYt76"
      },
      "source": [
        "student_df.drop(['Date of Birth','Source part 2','Source','Why drop or behind','Stage'], axis = 1, inplace  = True)"
      ],
      "execution_count": 13,
      "outputs": []
    },
    {
      "cell_type": "code",
      "metadata": {
        "colab": {
          "base_uri": "https://localhost:8080/"
        },
        "id": "dFB7P9c8Y_UF",
        "outputId": "3205dd65-9680-47b9-827e-ec244f4a4b93"
      },
      "source": [
        "#looking at the columns again\n",
        "student_df.apply(lambda x: sum(x.isnull()), axis = 0)"
      ],
      "execution_count": 14,
      "outputs": [
        {
          "output_type": "execute_result",
          "data": {
            "text/plain": [
              "Gender                          773\n",
              "Age                             773\n",
              "20-25_years                     773\n",
              ">28_years                       773\n",
              ">30_years                       773\n",
              "Country                         773\n",
              "LevelStatus                     773\n",
              "Confirmed Desire to Drop out    773\n",
              "Score_1                         773\n",
              "Score_2                         773\n",
              "Score_3                         773\n",
              "Score_4                         773\n",
              "Score_5                         773\n",
              "Overal_<60_?                    773\n",
              "Drop_out                        773\n",
              "PLD 12 Feb                      773\n",
              "dtype: int64"
            ]
          },
          "metadata": {
            "tags": []
          },
          "execution_count": 14
        }
      ]
    },
    {
      "cell_type": "code",
      "metadata": {
        "id": "4I_6RpXZZBIE"
      },
      "source": [
        "# let us drop the missing values in the data frame\n",
        "student_df.dropna(inplace=True)"
      ],
      "execution_count": 15,
      "outputs": []
    },
    {
      "cell_type": "code",
      "metadata": {
        "colab": {
          "base_uri": "https://localhost:8080/"
        },
        "id": "IrT513N4ZFtr",
        "outputId": "1a97b664-c9e3-4dd3-d875-d44d3a7ef862"
      },
      "source": [
        "student_df.apply(lambda x: sum(x.isnull()), axis = 0)"
      ],
      "execution_count": 16,
      "outputs": [
        {
          "output_type": "execute_result",
          "data": {
            "text/plain": [
              "Gender                          0\n",
              "Age                             0\n",
              "20-25_years                     0\n",
              ">28_years                       0\n",
              ">30_years                       0\n",
              "Country                         0\n",
              "LevelStatus                     0\n",
              "Confirmed Desire to Drop out    0\n",
              "Score_1                         0\n",
              "Score_2                         0\n",
              "Score_3                         0\n",
              "Score_4                         0\n",
              "Score_5                         0\n",
              "Overal_<60_?                    0\n",
              "Drop_out                        0\n",
              "PLD 12 Feb                      0\n",
              "dtype: int64"
            ]
          },
          "metadata": {
            "tags": []
          },
          "execution_count": 16
        }
      ]
    },
    {
      "cell_type": "markdown",
      "metadata": {
        "id": "C7OEdqPcZI3c"
      },
      "source": [
        "The dataset does not have any missing values, right now, we have dropped all the missing values.\n",
        "This was done inorder to avoid any disturbance in our model.\n"
      ]
    },
    {
      "cell_type": "code",
      "metadata": {
        "colab": {
          "base_uri": "https://localhost:8080/"
        },
        "id": "JFuT-NgYZHRj",
        "outputId": "593e8db9-b285-4244-8c98-eac1c0249818"
      },
      "source": [
        "student_df.shape"
      ],
      "execution_count": 17,
      "outputs": [
        {
          "output_type": "execute_result",
          "data": {
            "text/plain": [
              "(226, 16)"
            ]
          },
          "metadata": {
            "tags": []
          },
          "execution_count": 17
        }
      ]
    },
    {
      "cell_type": "markdown",
      "metadata": {
        "id": "oCvMZ4xqZPhN"
      },
      "source": [
        "# Explortory Analysis & Feature Engineering\n",
        "Comparison between parameters in dropping out\n"
      ]
    },
    {
      "cell_type": "code",
      "metadata": {
        "colab": {
          "base_uri": "https://localhost:8080/",
          "height": 332
        },
        "id": "31ne65fxZOio",
        "outputId": "b6fb3d01-32ef-45e6-d047-d4ab34730516"
      },
      "source": [
        "student_df.head(3)\n",
        "\n",
        "#statistical sumamry of the data\n",
        "student_df.describe()"
      ],
      "execution_count": 18,
      "outputs": [
        {
          "output_type": "execute_result",
          "data": {
            "text/html": [
              "<div>\n",
              "<style scoped>\n",
              "    .dataframe tbody tr th:only-of-type {\n",
              "        vertical-align: middle;\n",
              "    }\n",
              "\n",
              "    .dataframe tbody tr th {\n",
              "        vertical-align: top;\n",
              "    }\n",
              "\n",
              "    .dataframe thead th {\n",
              "        text-align: right;\n",
              "    }\n",
              "</style>\n",
              "<table border=\"1\" class=\"dataframe\">\n",
              "  <thead>\n",
              "    <tr style=\"text-align: right;\">\n",
              "      <th></th>\n",
              "      <th>Age</th>\n",
              "      <th>20-25_years</th>\n",
              "      <th>&gt;28_years</th>\n",
              "      <th>&gt;30_years</th>\n",
              "      <th>Score_1</th>\n",
              "      <th>Score_2</th>\n",
              "      <th>Score_3</th>\n",
              "      <th>Score_4</th>\n",
              "      <th>Score_5</th>\n",
              "    </tr>\n",
              "  </thead>\n",
              "  <tbody>\n",
              "    <tr>\n",
              "      <th>count</th>\n",
              "      <td>226.000000</td>\n",
              "      <td>226.000000</td>\n",
              "      <td>226.000000</td>\n",
              "      <td>226.000000</td>\n",
              "      <td>226.000000</td>\n",
              "      <td>226.000000</td>\n",
              "      <td>226.000000</td>\n",
              "      <td>226.000000</td>\n",
              "      <td>226.000000</td>\n",
              "    </tr>\n",
              "    <tr>\n",
              "      <th>mean</th>\n",
              "      <td>24.575221</td>\n",
              "      <td>0.606195</td>\n",
              "      <td>0.176991</td>\n",
              "      <td>0.061947</td>\n",
              "      <td>51.186858</td>\n",
              "      <td>55.322434</td>\n",
              "      <td>55.845398</td>\n",
              "      <td>53.570752</td>\n",
              "      <td>54.326327</td>\n",
              "    </tr>\n",
              "    <tr>\n",
              "      <th>std</th>\n",
              "      <td>3.678902</td>\n",
              "      <td>0.489677</td>\n",
              "      <td>0.382508</td>\n",
              "      <td>0.241594</td>\n",
              "      <td>50.430440</td>\n",
              "      <td>49.901160</td>\n",
              "      <td>49.323075</td>\n",
              "      <td>50.517040</td>\n",
              "      <td>49.814726</td>\n",
              "    </tr>\n",
              "    <tr>\n",
              "      <th>min</th>\n",
              "      <td>18.000000</td>\n",
              "      <td>0.000000</td>\n",
              "      <td>0.000000</td>\n",
              "      <td>0.000000</td>\n",
              "      <td>0.000000</td>\n",
              "      <td>4.350000</td>\n",
              "      <td>4.760000</td>\n",
              "      <td>0.000000</td>\n",
              "      <td>0.000000</td>\n",
              "    </tr>\n",
              "    <tr>\n",
              "      <th>25%</th>\n",
              "      <td>22.000000</td>\n",
              "      <td>0.000000</td>\n",
              "      <td>0.000000</td>\n",
              "      <td>0.000000</td>\n",
              "      <td>2.000000</td>\n",
              "      <td>6.820000</td>\n",
              "      <td>7.500000</td>\n",
              "      <td>2.665000</td>\n",
              "      <td>2.852500</td>\n",
              "    </tr>\n",
              "    <tr>\n",
              "      <th>50%</th>\n",
              "      <td>24.000000</td>\n",
              "      <td>1.000000</td>\n",
              "      <td>0.000000</td>\n",
              "      <td>0.000000</td>\n",
              "      <td>34.765000</td>\n",
              "      <td>40.010000</td>\n",
              "      <td>41.000000</td>\n",
              "      <td>39.030000</td>\n",
              "      <td>42.825000</td>\n",
              "    </tr>\n",
              "    <tr>\n",
              "      <th>75%</th>\n",
              "      <td>27.000000</td>\n",
              "      <td>1.000000</td>\n",
              "      <td>0.000000</td>\n",
              "      <td>0.000000</td>\n",
              "      <td>91.395000</td>\n",
              "      <td>95.965000</td>\n",
              "      <td>95.522500</td>\n",
              "      <td>96.127500</td>\n",
              "      <td>97.680000</td>\n",
              "    </tr>\n",
              "    <tr>\n",
              "      <th>max</th>\n",
              "      <td>39.000000</td>\n",
              "      <td>1.000000</td>\n",
              "      <td>1.000000</td>\n",
              "      <td>1.000000</td>\n",
              "      <td>168.490000</td>\n",
              "      <td>175.740000</td>\n",
              "      <td>173.430000</td>\n",
              "      <td>171.370000</td>\n",
              "      <td>167.280000</td>\n",
              "    </tr>\n",
              "  </tbody>\n",
              "</table>\n",
              "</div>"
            ],
            "text/plain": [
              "              Age  20-25_years   >28_years  ...     Score_3     Score_4     Score_5\n",
              "count  226.000000   226.000000  226.000000  ...  226.000000  226.000000  226.000000\n",
              "mean    24.575221     0.606195    0.176991  ...   55.845398   53.570752   54.326327\n",
              "std      3.678902     0.489677    0.382508  ...   49.323075   50.517040   49.814726\n",
              "min     18.000000     0.000000    0.000000  ...    4.760000    0.000000    0.000000\n",
              "25%     22.000000     0.000000    0.000000  ...    7.500000    2.665000    2.852500\n",
              "50%     24.000000     1.000000    0.000000  ...   41.000000   39.030000   42.825000\n",
              "75%     27.000000     1.000000    0.000000  ...   95.522500   96.127500   97.680000\n",
              "max     39.000000     1.000000    1.000000  ...  173.430000  171.370000  167.280000\n",
              "\n",
              "[8 rows x 9 columns]"
            ]
          },
          "metadata": {
            "tags": []
          },
          "execution_count": 18
        }
      ]
    },
    {
      "cell_type": "code",
      "metadata": {
        "colab": {
          "base_uri": "https://localhost:8080/"
        },
        "id": "W24QQOGmZW8B",
        "outputId": "fa3fbb99-4ca9-470c-e4d4-0c3736906b3d"
      },
      "source": [
        "# looking at the columns and the index, so that we could select columns\n",
        "for count, i in enumerate(student_df.columns):\n",
        "  print(\"{} : {}\".format(count, i))"
      ],
      "execution_count": 19,
      "outputs": [
        {
          "output_type": "stream",
          "text": [
            "0 : Gender\n",
            "1 : Age\n",
            "2 : 20-25_years\n",
            "3 : >28_years\n",
            "4 : >30_years\n",
            "5 : Country\n",
            "6 : LevelStatus\n",
            "7 : Confirmed Desire to Drop out\n",
            "8 : Score_1\n",
            "9 : Score_2\n",
            "10 : Score_3\n",
            "11 : Score_4\n",
            "12 : Score_5\n",
            "13 : Overal_<60_?\n",
            "14 : Drop_out\n",
            "15 : PLD 12 Feb\n"
          ],
          "name": "stdout"
        }
      ]
    },
    {
      "cell_type": "code",
      "metadata": {
        "id": "RR6X9x-GZcbs"
      },
      "source": [
        "scores_df = student_df.iloc[:,[8,9,10,11,12]]\n",
        "\n",
        "mean_score = scores_df.mean(axis=1)\n",
        "\n",
        "student_df['mean_score'] = mean_score"
      ],
      "execution_count": 20,
      "outputs": []
    },
    {
      "cell_type": "code",
      "metadata": {
        "colab": {
          "base_uri": "https://localhost:8080/",
          "height": 430
        },
        "id": "vvSHPJ3aZfc-",
        "outputId": "dfa23e1d-51bc-4e3e-d3ce-d09b15bf2592"
      },
      "source": [
        "student_df.head()"
      ],
      "execution_count": 21,
      "outputs": [
        {
          "output_type": "execute_result",
          "data": {
            "text/html": [
              "<div>\n",
              "<style scoped>\n",
              "    .dataframe tbody tr th:only-of-type {\n",
              "        vertical-align: middle;\n",
              "    }\n",
              "\n",
              "    .dataframe tbody tr th {\n",
              "        vertical-align: top;\n",
              "    }\n",
              "\n",
              "    .dataframe thead th {\n",
              "        text-align: right;\n",
              "    }\n",
              "</style>\n",
              "<table border=\"1\" class=\"dataframe\">\n",
              "  <thead>\n",
              "    <tr style=\"text-align: right;\">\n",
              "      <th></th>\n",
              "      <th>Gender</th>\n",
              "      <th>Age</th>\n",
              "      <th>20-25_years</th>\n",
              "      <th>&gt;28_years</th>\n",
              "      <th>&gt;30_years</th>\n",
              "      <th>Country</th>\n",
              "      <th>LevelStatus</th>\n",
              "      <th>Confirmed Desire to Drop out</th>\n",
              "      <th>Score_1</th>\n",
              "      <th>Score_2</th>\n",
              "      <th>Score_3</th>\n",
              "      <th>Score_4</th>\n",
              "      <th>Score_5</th>\n",
              "      <th>Overal_&lt;60_?</th>\n",
              "      <th>Drop_out</th>\n",
              "      <th>PLD 12 Feb</th>\n",
              "      <th>mean_score</th>\n",
              "    </tr>\n",
              "  </thead>\n",
              "  <tbody>\n",
              "    <tr>\n",
              "      <th>0</th>\n",
              "      <td>Male</td>\n",
              "      <td>21.0</td>\n",
              "      <td>1.0</td>\n",
              "      <td>0.0</td>\n",
              "      <td>0.0</td>\n",
              "      <td>Ethiopia</td>\n",
              "      <td>Student accepted to join</td>\n",
              "      <td>Yes</td>\n",
              "      <td>23.72</td>\n",
              "      <td>31.50</td>\n",
              "      <td>34.65</td>\n",
              "      <td>39.53</td>\n",
              "      <td>45.61</td>\n",
              "      <td>Yes</td>\n",
              "      <td>Yes</td>\n",
              "      <td>Absent</td>\n",
              "      <td>35.002</td>\n",
              "    </tr>\n",
              "    <tr>\n",
              "      <th>1</th>\n",
              "      <td>Male</td>\n",
              "      <td>29.0</td>\n",
              "      <td>0.0</td>\n",
              "      <td>1.0</td>\n",
              "      <td>0.0</td>\n",
              "      <td>Eswatini</td>\n",
              "      <td>Student accepted to join</td>\n",
              "      <td>Yes</td>\n",
              "      <td>0.00</td>\n",
              "      <td>4.55</td>\n",
              "      <td>5.00</td>\n",
              "      <td>0.00</td>\n",
              "      <td>0.00</td>\n",
              "      <td>Yes</td>\n",
              "      <td>Yes</td>\n",
              "      <td>Absent</td>\n",
              "      <td>1.910</td>\n",
              "    </tr>\n",
              "    <tr>\n",
              "      <th>2</th>\n",
              "      <td>Male</td>\n",
              "      <td>24.0</td>\n",
              "      <td>1.0</td>\n",
              "      <td>0.0</td>\n",
              "      <td>0.0</td>\n",
              "      <td>Ivory Coast</td>\n",
              "      <td>Student accepted to join</td>\n",
              "      <td>Yes</td>\n",
              "      <td>2.65</td>\n",
              "      <td>7.56</td>\n",
              "      <td>8.31</td>\n",
              "      <td>4.42</td>\n",
              "      <td>5.10</td>\n",
              "      <td>Yes</td>\n",
              "      <td>Yes</td>\n",
              "      <td>Absent</td>\n",
              "      <td>5.608</td>\n",
              "    </tr>\n",
              "    <tr>\n",
              "      <th>3</th>\n",
              "      <td>Male</td>\n",
              "      <td>23.0</td>\n",
              "      <td>1.0</td>\n",
              "      <td>0.0</td>\n",
              "      <td>0.0</td>\n",
              "      <td>Nigeria</td>\n",
              "      <td>Student accepted to join</td>\n",
              "      <td>Yes</td>\n",
              "      <td>10.21</td>\n",
              "      <td>15.69</td>\n",
              "      <td>17.25</td>\n",
              "      <td>16.34</td>\n",
              "      <td>18.85</td>\n",
              "      <td>Yes</td>\n",
              "      <td>Yes</td>\n",
              "      <td>Absent</td>\n",
              "      <td>15.668</td>\n",
              "    </tr>\n",
              "    <tr>\n",
              "      <th>4</th>\n",
              "      <td>Male</td>\n",
              "      <td>21.0</td>\n",
              "      <td>1.0</td>\n",
              "      <td>0.0</td>\n",
              "      <td>0.0</td>\n",
              "      <td>Rwanda</td>\n",
              "      <td>Student accepted to join</td>\n",
              "      <td>Yes</td>\n",
              "      <td>3.16</td>\n",
              "      <td>8.13</td>\n",
              "      <td>8.95</td>\n",
              "      <td>5.26</td>\n",
              "      <td>6.07</td>\n",
              "      <td>Yes</td>\n",
              "      <td>Yes</td>\n",
              "      <td>Absent</td>\n",
              "      <td>6.314</td>\n",
              "    </tr>\n",
              "  </tbody>\n",
              "</table>\n",
              "</div>"
            ],
            "text/plain": [
              "  Gender   Age  20-25_years  ...  Drop_out  PLD 12 Feb mean_score\n",
              "0   Male  21.0          1.0  ...       Yes      Absent     35.002\n",
              "1   Male  29.0          0.0  ...       Yes      Absent      1.910\n",
              "2   Male  24.0          1.0  ...       Yes      Absent      5.608\n",
              "3   Male  23.0          1.0  ...       Yes      Absent     15.668\n",
              "4   Male  21.0          1.0  ...       Yes      Absent      6.314\n",
              "\n",
              "[5 rows x 17 columns]"
            ]
          },
          "metadata": {
            "tags": []
          },
          "execution_count": 21
        }
      ]
    },
    {
      "cell_type": "code",
      "metadata": {
        "id": "Od6xYVuOZi1X"
      },
      "source": [
        "#we shall rearrange the columns\n",
        "student_df = student_df.iloc[:,[0, 1,2,3,4,5,6, 8,9,10,11,12,16,13,14]]"
      ],
      "execution_count": 22,
      "outputs": []
    },
    {
      "cell_type": "code",
      "metadata": {
        "colab": {
          "base_uri": "https://localhost:8080/",
          "height": 413
        },
        "id": "KbP91lCGZkf9",
        "outputId": "4146fa6a-ba47-432e-8762-3c4013d7b0cf"
      },
      "source": [
        "#this is the new dataframe that we shall use for our analysis\n",
        "student_df.head()"
      ],
      "execution_count": 23,
      "outputs": [
        {
          "output_type": "execute_result",
          "data": {
            "text/html": [
              "<div>\n",
              "<style scoped>\n",
              "    .dataframe tbody tr th:only-of-type {\n",
              "        vertical-align: middle;\n",
              "    }\n",
              "\n",
              "    .dataframe tbody tr th {\n",
              "        vertical-align: top;\n",
              "    }\n",
              "\n",
              "    .dataframe thead th {\n",
              "        text-align: right;\n",
              "    }\n",
              "</style>\n",
              "<table border=\"1\" class=\"dataframe\">\n",
              "  <thead>\n",
              "    <tr style=\"text-align: right;\">\n",
              "      <th></th>\n",
              "      <th>Gender</th>\n",
              "      <th>Age</th>\n",
              "      <th>20-25_years</th>\n",
              "      <th>&gt;28_years</th>\n",
              "      <th>&gt;30_years</th>\n",
              "      <th>Country</th>\n",
              "      <th>LevelStatus</th>\n",
              "      <th>Score_1</th>\n",
              "      <th>Score_2</th>\n",
              "      <th>Score_3</th>\n",
              "      <th>Score_4</th>\n",
              "      <th>Score_5</th>\n",
              "      <th>mean_score</th>\n",
              "      <th>Overal_&lt;60_?</th>\n",
              "      <th>Drop_out</th>\n",
              "    </tr>\n",
              "  </thead>\n",
              "  <tbody>\n",
              "    <tr>\n",
              "      <th>0</th>\n",
              "      <td>Male</td>\n",
              "      <td>21.0</td>\n",
              "      <td>1.0</td>\n",
              "      <td>0.0</td>\n",
              "      <td>0.0</td>\n",
              "      <td>Ethiopia</td>\n",
              "      <td>Student accepted to join</td>\n",
              "      <td>23.72</td>\n",
              "      <td>31.50</td>\n",
              "      <td>34.65</td>\n",
              "      <td>39.53</td>\n",
              "      <td>45.61</td>\n",
              "      <td>35.002</td>\n",
              "      <td>Yes</td>\n",
              "      <td>Yes</td>\n",
              "    </tr>\n",
              "    <tr>\n",
              "      <th>1</th>\n",
              "      <td>Male</td>\n",
              "      <td>29.0</td>\n",
              "      <td>0.0</td>\n",
              "      <td>1.0</td>\n",
              "      <td>0.0</td>\n",
              "      <td>Eswatini</td>\n",
              "      <td>Student accepted to join</td>\n",
              "      <td>0.00</td>\n",
              "      <td>4.55</td>\n",
              "      <td>5.00</td>\n",
              "      <td>0.00</td>\n",
              "      <td>0.00</td>\n",
              "      <td>1.910</td>\n",
              "      <td>Yes</td>\n",
              "      <td>Yes</td>\n",
              "    </tr>\n",
              "    <tr>\n",
              "      <th>2</th>\n",
              "      <td>Male</td>\n",
              "      <td>24.0</td>\n",
              "      <td>1.0</td>\n",
              "      <td>0.0</td>\n",
              "      <td>0.0</td>\n",
              "      <td>Ivory Coast</td>\n",
              "      <td>Student accepted to join</td>\n",
              "      <td>2.65</td>\n",
              "      <td>7.56</td>\n",
              "      <td>8.31</td>\n",
              "      <td>4.42</td>\n",
              "      <td>5.10</td>\n",
              "      <td>5.608</td>\n",
              "      <td>Yes</td>\n",
              "      <td>Yes</td>\n",
              "    </tr>\n",
              "    <tr>\n",
              "      <th>3</th>\n",
              "      <td>Male</td>\n",
              "      <td>23.0</td>\n",
              "      <td>1.0</td>\n",
              "      <td>0.0</td>\n",
              "      <td>0.0</td>\n",
              "      <td>Nigeria</td>\n",
              "      <td>Student accepted to join</td>\n",
              "      <td>10.21</td>\n",
              "      <td>15.69</td>\n",
              "      <td>17.25</td>\n",
              "      <td>16.34</td>\n",
              "      <td>18.85</td>\n",
              "      <td>15.668</td>\n",
              "      <td>Yes</td>\n",
              "      <td>Yes</td>\n",
              "    </tr>\n",
              "    <tr>\n",
              "      <th>4</th>\n",
              "      <td>Male</td>\n",
              "      <td>21.0</td>\n",
              "      <td>1.0</td>\n",
              "      <td>0.0</td>\n",
              "      <td>0.0</td>\n",
              "      <td>Rwanda</td>\n",
              "      <td>Student accepted to join</td>\n",
              "      <td>3.16</td>\n",
              "      <td>8.13</td>\n",
              "      <td>8.95</td>\n",
              "      <td>5.26</td>\n",
              "      <td>6.07</td>\n",
              "      <td>6.314</td>\n",
              "      <td>Yes</td>\n",
              "      <td>Yes</td>\n",
              "    </tr>\n",
              "  </tbody>\n",
              "</table>\n",
              "</div>"
            ],
            "text/plain": [
              "  Gender   Age  20-25_years  ...  mean_score  Overal_<60_? Drop_out\n",
              "0   Male  21.0          1.0  ...      35.002           Yes      Yes\n",
              "1   Male  29.0          0.0  ...       1.910           Yes      Yes\n",
              "2   Male  24.0          1.0  ...       5.608           Yes      Yes\n",
              "3   Male  23.0          1.0  ...      15.668           Yes      Yes\n",
              "4   Male  21.0          1.0  ...       6.314           Yes      Yes\n",
              "\n",
              "[5 rows x 15 columns]"
            ]
          },
          "metadata": {
            "tags": []
          },
          "execution_count": 23
        }
      ]
    },
    {
      "cell_type": "code",
      "metadata": {
        "colab": {
          "base_uri": "https://localhost:8080/",
          "height": 542
        },
        "id": "WYlYi_rPZmNp",
        "outputId": "ea073455-067b-48d2-b628-6e42f7b86710"
      },
      "source": [
        "#visulizing the age and gender distribution by country\n",
        "fig = px.histogram(student_df, x='Age', nbins=10, color=\"Gender\", \n",
        "                   title = \"Student Distribution by age and Country\",\n",
        "                   labels = {#repalces default color mapping by value\n",
        "                             \"Age\": \"Age distribution\",\n",
        "                             \"count\":\"Number of students\"\n",
        "                       \n",
        "                   }, hover_name='Country',marginal = \"rug\")\n",
        "fig.update_layout(# customize font and legend orientation & position\n",
        "                  font_family = \"Rockwell\",\n",
        "                  legend = dict(\n",
        "                      orientation=\"h\", y=1, yanchor='bottom', xanchor='center'\n",
        "                  )\n",
        "    \n",
        ")\n",
        "fig.show()"
      ],
      "execution_count": 24,
      "outputs": [
        {
          "output_type": "display_data",
          "data": {
            "text/html": [
              "<html>\n",
              "<head><meta charset=\"utf-8\" /></head>\n",
              "<body>\n",
              "    <div>\n",
              "            <script src=\"https://cdnjs.cloudflare.com/ajax/libs/mathjax/2.7.5/MathJax.js?config=TeX-AMS-MML_SVG\"></script><script type=\"text/javascript\">if (window.MathJax) {MathJax.Hub.Config({SVG: {font: \"STIX-Web\"}});}</script>\n",
              "                <script type=\"text/javascript\">window.PlotlyConfig = {MathJaxConfig: 'local'};</script>\n",
              "        <script src=\"https://cdn.plot.ly/plotly-latest.min.js\"></script>    \n",
              "            <div id=\"9017a9cc-07e4-4822-8d11-c4539d4d649e\" class=\"plotly-graph-div\" style=\"height:525px; width:100%;\"></div>\n",
              "            <script type=\"text/javascript\">\n",
              "                \n",
              "                    window.PLOTLYENV=window.PLOTLYENV || {};\n",
              "                    \n",
              "                if (document.getElementById(\"9017a9cc-07e4-4822-8d11-c4539d4d649e\")) {\n",
              "                    Plotly.newPlot(\n",
              "                        '9017a9cc-07e4-4822-8d11-c4539d4d649e',\n",
              "                        [{\"alignmentgroup\": \"True\", \"bingroup\": \"x\", \"hoverlabel\": {\"namelength\": 0}, \"hovertemplate\": \"Gender=Male<br>Age distribution=%{x}<br>count=%{y}\", \"legendgroup\": \"Gender=Male\", \"marker\": {\"color\": \"#636efa\"}, \"name\": \"Gender=Male\", \"nbinsx\": 10, \"offsetgroup\": \"Gender=Male\", \"orientation\": \"v\", \"showlegend\": true, \"type\": \"histogram\", \"x\": [21.0, 29.0, 24.0, 23.0, 21.0, 34.0, 25.0, 24.0, 29.0, 23.0, 27.0, 27.0, 21.0, 25.0, 20.0, 34.0, 25.0, 20.0, 27.0, 21.0, 23.0, 27.0, 26.0, 22.0, 25.0, 39.0, 27.0, 22.0, 26.0, 23.0, 24.0, 23.0, 27.0, 26.0, 27.0, 27.0, 19.0, 19.0, 24.0, 29.0, 31.0, 24.0, 29.0, 22.0, 27.0, 20.0, 23.0, 26.0, 20.0, 26.0, 26.0, 22.0, 22.0, 26.0, 20.0, 26.0, 29.0, 25.0, 23.0, 25.0, 20.0, 22.0, 21.0, 22.0, 24.0, 21.0, 19.0, 27.0, 22.0, 24.0, 22.0, 23.0, 28.0, 27.0, 24.0, 26.0, 24.0, 20.0, 20.0, 21.0, 24.0, 25.0, 33.0, 19.0, 27.0, 23.0, 21.0, 24.0, 22.0, 22.0, 24.0, 27.0, 23.0, 21.0, 27.0, 25.0, 39.0, 21.0, 29.0, 23.0, 26.0, 18.0, 21.0, 20.0, 25.0, 21.0, 20.0, 21.0, 22.0, 28.0, 21.0, 25.0, 23.0, 28.0, 23.0, 22.0, 21.0, 22.0, 21.0, 25.0, 23.0, 23.0, 23.0, 22.0, 25.0, 26.0, 24.0, 26.0, 29.0, 24.0, 28.0, 30.0, 34.0, 29.0, 28.0, 24.0, 20.0, 25.0, 32.0, 24.0, 20.0, 27.0, 23.0, 34.0, 23.0, 30.0, 26.0, 20.0, 19.0, 19.0, 28.0, 21.0, 20.0, 24.0, 25.0, 28.0, 24.0, 27.0, 24.0, 24.0, 32.0, 36.0, 23.0, 31.0, 26.0, 24.0, 23.0, 25.0, 26.0, 26.0, 24.0, 22.0, 21.0, 29.0, 25.0, 28.0, 29.0, 23.0, 28.0, 19.0, 30.0, 24.0, 25.0, 24.0, 24.0, 24.0, 25.0, 27.0, 29.0, 24.0, 28.0, 20.0, 24.0, 25.0], \"xaxis\": \"x\", \"yaxis\": \"y\"}, {\"alignmentgroup\": \"True\", \"boxpoints\": \"all\", \"fillcolor\": \"rgba(255,255,255,0)\", \"hoverlabel\": {\"namelength\": 0}, \"hoveron\": \"points\", \"hovertemplate\": \"<b>%{hovertext}</b><br><br>Gender=Male<br>Age distribution=%{x}\", \"hovertext\": [\"Ethiopia\", \"Eswatini\", \"Ivory Coast\", \"Nigeria\", \"Rwanda\", \"Ethiopia\", \"Eswatini\", \"Nigeria\", \"Nigeria\", \"Ethiopia\", \"Ethiopia\", \"Kenya\", \"Kenya\", \"Nigeria\", \"Kenya\", \"Ethiopia\", \"Rwanda\", \"South Africa\", \"Kenya\", \"Kenya\", \"Kenya\", \"Kenya\", \"Ethiopia\", \"Nigeria\", \"Nigeria\", \"Ethiopia\", \"Ethiopia\", \"Kenya\", \"Kenya\", \"Kenya\", \"Ethiopia\", \"Ethiopia\", \"Nigeria\", \"Kenya\", \"Rwanda\", \"Rwanda\", \"Ethiopia\", \"Nigeria\", \"Ethiopia\", \"Ethiopia\", \"Ethiopia\", \"US\", \"Eswatini\", \"Ethiopia\", \"Ethiopia\", \"Kenya\", \"Kenya\", \"Kenya\", \"Nigeria\", \"Kenya\", \"Kenya\", \"Kenya\", \"Kenya\", \"Kenya\", \"Ethiopia\", \"Kenya\", \"Ethiopia\", \"Kenya\", \"Kenya\", \"Kenya\", \"Nigeria\", \"Ethiopia\", \"Ethiopia\", \"Ethiopia\", \"Ethiopia\", \"Ethiopia\", \"Ethiopia\", \"Ethiopia\", \"Ethiopia\", \"Kenya\", \"Rwanda\", \"Kenya\", \"Ethiopia\", \"Ethiopia\", \"Ethiopia\", \"Ethiopia\", \"Ethiopia\", \"Ethiopia\", \"Ethiopia\", \"Ethiopia\", \"Ethiopia\", \"Kenya\", \"Kenya\", \"Kenya\", \"Kenya\", \"Rwanda\", \"Ethiopia\", \"Ethiopia\", \"Kenya\", \"Kenya\", \"Kenya\", \"Nigeria\", \"Ethiopia\", \"Ethiopia\", \"Kenya\", \"Nigeria\", \"Rwanda\", \"Ethiopia\", \"Eswatini\", \"Kenya\", \"Kenya\", \"Nigeria\", \"Nigeria\", \"Rwanda\", \"South Africa\", \"Ethiopia\", \"Ethiopia\", \"Kenya\", \"Ethiopia\", \"Nigeria\", \"Ethiopia\", \"Kenya\", \"Ghana\", \"Ethiopia\", \"Ethiopia\", \"Ethiopia\", \"Ethiopia\", \"Ethiopia\", \"Ethiopia\", \"Ethiopia\", \"Ethiopia\", \"Ethiopia\", \"Nigeria\", \"Kenya\", \"Kenya\", \"Kenya\", \"Kenya\", \"Kenya\", \"Nigeria\", \"Nigeria\", \"Eswatini\", \"Ethiopia\", \"Ethiopia\", \"Ethiopia\", \"Ethiopia\", \"Ethiopia\", \"Ethiopia\", \"Ethiopia\", \"Ethiopia\", \"Ethiopia\", \"Ethiopia\", \"Ethiopia\", \"Ethiopia\", \"Ethiopia\", \"Ethiopia\", \"Ethiopia\", \"Ethiopia\", \"Ethiopia\", \"Ethiopia\", \"Ethiopia\", \"Ethiopia\", \"Ethiopia\", \"Ethiopia\", \"Ethiopia\", \"Ethiopia\", \"Ethiopia\", \"Ethiopia\", \"Ethiopia\", \"Ethiopia\", \"Ethiopia\", \"Ethiopia\", \"Ethiopia\", \"Kenya\", \"Kenya\", \"Kenya\", \"Kenya\", \"Kenya\", \"Kenya\", \"Kenya\", \"Kenya\", \"Kenya\", \"Kenya\", \"Kenya\", \"Kenya\", \"Kenya\", \"Kenya\", \"Kenya\", \"Kenya\", \"Kenya\", \"Kenya\", \"Kenya\", \"Kenya\", \"Kenya\", \"Kenya\", \"Kenya\", \"Kenya\", \"Kenya\", \"Nigeria\", \"Nigeria\", \"Nigeria\", \"Nigeria\", \"Rwanda\", \"Rwanda\", \"Rwanda\"], \"jitter\": 0, \"legendgroup\": \"Gender=Male\", \"line\": {\"color\": \"rgba(255,255,255,0)\"}, \"marker\": {\"color\": \"#636efa\", \"symbol\": \"line-ns-open\"}, \"name\": \"Gender=Male\", \"offsetgroup\": \"Gender=Male\", \"showlegend\": false, \"type\": \"box\", \"x\": [21.0, 29.0, 24.0, 23.0, 21.0, 34.0, 25.0, 24.0, 29.0, 23.0, 27.0, 27.0, 21.0, 25.0, 20.0, 34.0, 25.0, 20.0, 27.0, 21.0, 23.0, 27.0, 26.0, 22.0, 25.0, 39.0, 27.0, 22.0, 26.0, 23.0, 24.0, 23.0, 27.0, 26.0, 27.0, 27.0, 19.0, 19.0, 24.0, 29.0, 31.0, 24.0, 29.0, 22.0, 27.0, 20.0, 23.0, 26.0, 20.0, 26.0, 26.0, 22.0, 22.0, 26.0, 20.0, 26.0, 29.0, 25.0, 23.0, 25.0, 20.0, 22.0, 21.0, 22.0, 24.0, 21.0, 19.0, 27.0, 22.0, 24.0, 22.0, 23.0, 28.0, 27.0, 24.0, 26.0, 24.0, 20.0, 20.0, 21.0, 24.0, 25.0, 33.0, 19.0, 27.0, 23.0, 21.0, 24.0, 22.0, 22.0, 24.0, 27.0, 23.0, 21.0, 27.0, 25.0, 39.0, 21.0, 29.0, 23.0, 26.0, 18.0, 21.0, 20.0, 25.0, 21.0, 20.0, 21.0, 22.0, 28.0, 21.0, 25.0, 23.0, 28.0, 23.0, 22.0, 21.0, 22.0, 21.0, 25.0, 23.0, 23.0, 23.0, 22.0, 25.0, 26.0, 24.0, 26.0, 29.0, 24.0, 28.0, 30.0, 34.0, 29.0, 28.0, 24.0, 20.0, 25.0, 32.0, 24.0, 20.0, 27.0, 23.0, 34.0, 23.0, 30.0, 26.0, 20.0, 19.0, 19.0, 28.0, 21.0, 20.0, 24.0, 25.0, 28.0, 24.0, 27.0, 24.0, 24.0, 32.0, 36.0, 23.0, 31.0, 26.0, 24.0, 23.0, 25.0, 26.0, 26.0, 24.0, 22.0, 21.0, 29.0, 25.0, 28.0, 29.0, 23.0, 28.0, 19.0, 30.0, 24.0, 25.0, 24.0, 24.0, 24.0, 25.0, 27.0, 29.0, 24.0, 28.0, 20.0, 24.0, 25.0], \"xaxis\": \"x2\", \"yaxis\": \"y2\"}, {\"alignmentgroup\": \"True\", \"bingroup\": \"x\", \"hoverlabel\": {\"namelength\": 0}, \"hovertemplate\": \"Gender=Female<br>Age distribution=%{x}<br>count=%{y}\", \"legendgroup\": \"Gender=Female\", \"marker\": {\"color\": \"#EF553B\"}, \"name\": \"Gender=Female\", \"nbinsx\": 10, \"offsetgroup\": \"Gender=Female\", \"orientation\": \"v\", \"showlegend\": true, \"type\": \"histogram\", \"x\": [26.0, 22.0, 22.0, 24.0, 26.0, 19.0, 22.0, 21.0, 26.0, 24.0, 28.0, 22.0, 21.0, 23.0, 22.0, 25.0, 28.0, 20.0, 22.0, 19.0, 21.0, 23.0, 21.0, 25.0, 33.0, 32.0, 24.0, 27.0, 25.0, 27.0, 24.0, 26.0], \"xaxis\": \"x\", \"yaxis\": \"y\"}, {\"alignmentgroup\": \"True\", \"boxpoints\": \"all\", \"fillcolor\": \"rgba(255,255,255,0)\", \"hoverlabel\": {\"namelength\": 0}, \"hoveron\": \"points\", \"hovertemplate\": \"<b>%{hovertext}</b><br><br>Gender=Female<br>Age distribution=%{x}\", \"hovertext\": [\"Ethiopia\", \"Ethiopia\", \"Kenya\", \"Ethiopia\", \"Kenya\", \"Kenya\", \"Ethiopia\", \"Kenya\", \"Kenya\", \"Kenya\", \"Kenya\", \"Ethiopia\", \"Ethiopia\", \"Ethiopia\", \"Ethiopia\", \"Kenya\", \"Nigeria\", \"Arab Emirates\", \"Kenya\", \"Nigeria\", \"Arab Emirates\", \"Rwanda\", \"Arab Emirates\", \"Ethiopia\", \"Ethiopia\", \"Kenya\", \"Kenya\", \"Kenya\", \"Kenya\", \"Kenya\", \"Kenya\", \"Nigeria\"], \"jitter\": 0, \"legendgroup\": \"Gender=Female\", \"line\": {\"color\": \"rgba(255,255,255,0)\"}, \"marker\": {\"color\": \"#EF553B\", \"symbol\": \"line-ns-open\"}, \"name\": \"Gender=Female\", \"offsetgroup\": \"Gender=Female\", \"showlegend\": false, \"type\": \"box\", \"x\": [26.0, 22.0, 22.0, 24.0, 26.0, 19.0, 22.0, 21.0, 26.0, 24.0, 28.0, 22.0, 21.0, 23.0, 22.0, 25.0, 28.0, 20.0, 22.0, 19.0, 21.0, 23.0, 21.0, 25.0, 33.0, 32.0, 24.0, 27.0, 25.0, 27.0, 24.0, 26.0], \"xaxis\": \"x2\", \"yaxis\": \"y2\"}],\n",
              "                        {\"barmode\": \"relative\", \"font\": {\"family\": \"Rockwell\"}, \"legend\": {\"orientation\": \"h\", \"tracegroupgap\": 0, \"xanchor\": \"center\", \"y\": 1, \"yanchor\": \"bottom\"}, \"template\": {\"data\": {\"bar\": [{\"error_x\": {\"color\": \"#2a3f5f\"}, \"error_y\": {\"color\": \"#2a3f5f\"}, \"marker\": {\"line\": {\"color\": \"#E5ECF6\", \"width\": 0.5}}, \"type\": \"bar\"}], \"barpolar\": [{\"marker\": {\"line\": {\"color\": \"#E5ECF6\", \"width\": 0.5}}, \"type\": \"barpolar\"}], \"carpet\": [{\"aaxis\": {\"endlinecolor\": \"#2a3f5f\", \"gridcolor\": \"white\", \"linecolor\": \"white\", \"minorgridcolor\": \"white\", \"startlinecolor\": \"#2a3f5f\"}, \"baxis\": {\"endlinecolor\": \"#2a3f5f\", \"gridcolor\": \"white\", \"linecolor\": \"white\", \"minorgridcolor\": \"white\", \"startlinecolor\": \"#2a3f5f\"}, \"type\": \"carpet\"}], \"choropleth\": [{\"colorbar\": {\"outlinewidth\": 0, \"ticks\": \"\"}, \"type\": \"choropleth\"}], \"contour\": [{\"colorbar\": {\"outlinewidth\": 0, \"ticks\": \"\"}, \"colorscale\": [[0.0, \"#0d0887\"], [0.1111111111111111, \"#46039f\"], [0.2222222222222222, \"#7201a8\"], [0.3333333333333333, \"#9c179e\"], [0.4444444444444444, \"#bd3786\"], [0.5555555555555556, \"#d8576b\"], [0.6666666666666666, \"#ed7953\"], [0.7777777777777778, \"#fb9f3a\"], [0.8888888888888888, \"#fdca26\"], [1.0, \"#f0f921\"]], \"type\": \"contour\"}], \"contourcarpet\": [{\"colorbar\": {\"outlinewidth\": 0, \"ticks\": \"\"}, \"type\": \"contourcarpet\"}], \"heatmap\": [{\"colorbar\": {\"outlinewidth\": 0, \"ticks\": \"\"}, \"colorscale\": [[0.0, \"#0d0887\"], [0.1111111111111111, \"#46039f\"], [0.2222222222222222, \"#7201a8\"], [0.3333333333333333, \"#9c179e\"], [0.4444444444444444, \"#bd3786\"], [0.5555555555555556, \"#d8576b\"], [0.6666666666666666, \"#ed7953\"], [0.7777777777777778, \"#fb9f3a\"], [0.8888888888888888, \"#fdca26\"], [1.0, \"#f0f921\"]], \"type\": \"heatmap\"}], \"heatmapgl\": [{\"colorbar\": {\"outlinewidth\": 0, \"ticks\": \"\"}, \"colorscale\": [[0.0, \"#0d0887\"], [0.1111111111111111, \"#46039f\"], [0.2222222222222222, \"#7201a8\"], [0.3333333333333333, \"#9c179e\"], [0.4444444444444444, \"#bd3786\"], [0.5555555555555556, \"#d8576b\"], [0.6666666666666666, \"#ed7953\"], [0.7777777777777778, \"#fb9f3a\"], [0.8888888888888888, \"#fdca26\"], [1.0, \"#f0f921\"]], \"type\": \"heatmapgl\"}], \"histogram\": [{\"marker\": {\"colorbar\": {\"outlinewidth\": 0, \"ticks\": \"\"}}, \"type\": \"histogram\"}], \"histogram2d\": [{\"colorbar\": {\"outlinewidth\": 0, \"ticks\": \"\"}, \"colorscale\": [[0.0, \"#0d0887\"], [0.1111111111111111, \"#46039f\"], [0.2222222222222222, \"#7201a8\"], [0.3333333333333333, \"#9c179e\"], [0.4444444444444444, \"#bd3786\"], [0.5555555555555556, \"#d8576b\"], [0.6666666666666666, \"#ed7953\"], [0.7777777777777778, \"#fb9f3a\"], [0.8888888888888888, \"#fdca26\"], [1.0, \"#f0f921\"]], \"type\": \"histogram2d\"}], \"histogram2dcontour\": [{\"colorbar\": {\"outlinewidth\": 0, \"ticks\": \"\"}, \"colorscale\": [[0.0, \"#0d0887\"], [0.1111111111111111, \"#46039f\"], [0.2222222222222222, \"#7201a8\"], [0.3333333333333333, \"#9c179e\"], [0.4444444444444444, \"#bd3786\"], [0.5555555555555556, \"#d8576b\"], [0.6666666666666666, \"#ed7953\"], [0.7777777777777778, \"#fb9f3a\"], [0.8888888888888888, \"#fdca26\"], [1.0, \"#f0f921\"]], \"type\": \"histogram2dcontour\"}], \"mesh3d\": [{\"colorbar\": {\"outlinewidth\": 0, \"ticks\": \"\"}, \"type\": \"mesh3d\"}], \"parcoords\": [{\"line\": {\"colorbar\": {\"outlinewidth\": 0, \"ticks\": \"\"}}, \"type\": \"parcoords\"}], \"pie\": [{\"automargin\": true, \"type\": \"pie\"}], \"scatter\": [{\"marker\": {\"colorbar\": {\"outlinewidth\": 0, \"ticks\": \"\"}}, \"type\": \"scatter\"}], \"scatter3d\": [{\"line\": {\"colorbar\": {\"outlinewidth\": 0, \"ticks\": \"\"}}, \"marker\": {\"colorbar\": {\"outlinewidth\": 0, \"ticks\": \"\"}}, \"type\": \"scatter3d\"}], \"scattercarpet\": [{\"marker\": {\"colorbar\": {\"outlinewidth\": 0, \"ticks\": \"\"}}, \"type\": \"scattercarpet\"}], \"scattergeo\": [{\"marker\": {\"colorbar\": {\"outlinewidth\": 0, \"ticks\": \"\"}}, \"type\": \"scattergeo\"}], \"scattergl\": [{\"marker\": {\"colorbar\": {\"outlinewidth\": 0, \"ticks\": \"\"}}, \"type\": \"scattergl\"}], \"scattermapbox\": [{\"marker\": {\"colorbar\": {\"outlinewidth\": 0, \"ticks\": \"\"}}, \"type\": \"scattermapbox\"}], \"scatterpolar\": [{\"marker\": {\"colorbar\": {\"outlinewidth\": 0, \"ticks\": \"\"}}, \"type\": \"scatterpolar\"}], \"scatterpolargl\": [{\"marker\": {\"colorbar\": {\"outlinewidth\": 0, \"ticks\": \"\"}}, \"type\": \"scatterpolargl\"}], \"scatterternary\": [{\"marker\": {\"colorbar\": {\"outlinewidth\": 0, \"ticks\": \"\"}}, \"type\": \"scatterternary\"}], \"surface\": [{\"colorbar\": {\"outlinewidth\": 0, \"ticks\": \"\"}, \"colorscale\": [[0.0, \"#0d0887\"], [0.1111111111111111, \"#46039f\"], [0.2222222222222222, \"#7201a8\"], [0.3333333333333333, \"#9c179e\"], [0.4444444444444444, \"#bd3786\"], [0.5555555555555556, \"#d8576b\"], [0.6666666666666666, \"#ed7953\"], [0.7777777777777778, \"#fb9f3a\"], [0.8888888888888888, \"#fdca26\"], [1.0, \"#f0f921\"]], \"type\": \"surface\"}], \"table\": [{\"cells\": {\"fill\": {\"color\": \"#EBF0F8\"}, \"line\": {\"color\": \"white\"}}, \"header\": {\"fill\": {\"color\": \"#C8D4E3\"}, \"line\": {\"color\": \"white\"}}, \"type\": \"table\"}]}, \"layout\": {\"annotationdefaults\": {\"arrowcolor\": \"#2a3f5f\", \"arrowhead\": 0, \"arrowwidth\": 1}, \"coloraxis\": {\"colorbar\": {\"outlinewidth\": 0, \"ticks\": \"\"}}, \"colorscale\": {\"diverging\": [[0, \"#8e0152\"], [0.1, \"#c51b7d\"], [0.2, \"#de77ae\"], [0.3, \"#f1b6da\"], [0.4, \"#fde0ef\"], [0.5, \"#f7f7f7\"], [0.6, \"#e6f5d0\"], [0.7, \"#b8e186\"], [0.8, \"#7fbc41\"], [0.9, \"#4d9221\"], [1, \"#276419\"]], \"sequential\": [[0.0, \"#0d0887\"], [0.1111111111111111, \"#46039f\"], [0.2222222222222222, \"#7201a8\"], [0.3333333333333333, \"#9c179e\"], [0.4444444444444444, \"#bd3786\"], [0.5555555555555556, \"#d8576b\"], [0.6666666666666666, \"#ed7953\"], [0.7777777777777778, \"#fb9f3a\"], [0.8888888888888888, \"#fdca26\"], [1.0, \"#f0f921\"]], \"sequentialminus\": [[0.0, \"#0d0887\"], [0.1111111111111111, \"#46039f\"], [0.2222222222222222, \"#7201a8\"], [0.3333333333333333, \"#9c179e\"], [0.4444444444444444, \"#bd3786\"], [0.5555555555555556, \"#d8576b\"], [0.6666666666666666, \"#ed7953\"], [0.7777777777777778, \"#fb9f3a\"], [0.8888888888888888, \"#fdca26\"], [1.0, \"#f0f921\"]]}, \"colorway\": [\"#636efa\", \"#EF553B\", \"#00cc96\", \"#ab63fa\", \"#FFA15A\", \"#19d3f3\", \"#FF6692\", \"#B6E880\", \"#FF97FF\", \"#FECB52\"], \"font\": {\"color\": \"#2a3f5f\"}, \"geo\": {\"bgcolor\": \"white\", \"lakecolor\": \"white\", \"landcolor\": \"#E5ECF6\", \"showlakes\": true, \"showland\": true, \"subunitcolor\": \"white\"}, \"hoverlabel\": {\"align\": \"left\"}, \"hovermode\": \"closest\", \"mapbox\": {\"style\": \"light\"}, \"paper_bgcolor\": \"white\", \"plot_bgcolor\": \"#E5ECF6\", \"polar\": {\"angularaxis\": {\"gridcolor\": \"white\", \"linecolor\": \"white\", \"ticks\": \"\"}, \"bgcolor\": \"#E5ECF6\", \"radialaxis\": {\"gridcolor\": \"white\", \"linecolor\": \"white\", \"ticks\": \"\"}}, \"scene\": {\"xaxis\": {\"backgroundcolor\": \"#E5ECF6\", \"gridcolor\": \"white\", \"gridwidth\": 2, \"linecolor\": \"white\", \"showbackground\": true, \"ticks\": \"\", \"zerolinecolor\": \"white\"}, \"yaxis\": {\"backgroundcolor\": \"#E5ECF6\", \"gridcolor\": \"white\", \"gridwidth\": 2, \"linecolor\": \"white\", \"showbackground\": true, \"ticks\": \"\", \"zerolinecolor\": \"white\"}, \"zaxis\": {\"backgroundcolor\": \"#E5ECF6\", \"gridcolor\": \"white\", \"gridwidth\": 2, \"linecolor\": \"white\", \"showbackground\": true, \"ticks\": \"\", \"zerolinecolor\": \"white\"}}, \"shapedefaults\": {\"line\": {\"color\": \"#2a3f5f\"}}, \"ternary\": {\"aaxis\": {\"gridcolor\": \"white\", \"linecolor\": \"white\", \"ticks\": \"\"}, \"baxis\": {\"gridcolor\": \"white\", \"linecolor\": \"white\", \"ticks\": \"\"}, \"bgcolor\": \"#E5ECF6\", \"caxis\": {\"gridcolor\": \"white\", \"linecolor\": \"white\", \"ticks\": \"\"}}, \"title\": {\"x\": 0.05}, \"xaxis\": {\"automargin\": true, \"gridcolor\": \"white\", \"linecolor\": \"white\", \"ticks\": \"\", \"title\": {\"standoff\": 15}, \"zerolinecolor\": \"white\", \"zerolinewidth\": 2}, \"yaxis\": {\"automargin\": true, \"gridcolor\": \"white\", \"linecolor\": \"white\", \"ticks\": \"\", \"title\": {\"standoff\": 15}, \"zerolinecolor\": \"white\", \"zerolinewidth\": 2}}}, \"title\": {\"text\": \"Student Distribution by age and Country\"}, \"xaxis\": {\"anchor\": \"y\", \"domain\": [0.0, 1.0], \"title\": {\"text\": \"Age distribution\"}}, \"xaxis2\": {\"anchor\": \"y2\", \"domain\": [0.0, 1.0], \"matches\": \"x\", \"showgrid\": true, \"showticklabels\": false}, \"yaxis\": {\"anchor\": \"x\", \"domain\": [0.0, 0.7326], \"title\": {\"text\": \"count\"}}, \"yaxis2\": {\"anchor\": \"x2\", \"domain\": [0.7426, 1.0], \"matches\": \"y2\", \"showgrid\": false, \"showline\": false, \"showticklabels\": false, \"ticks\": \"\"}},\n",
              "                        {\"responsive\": true}\n",
              "                    ).then(function(){\n",
              "                            \n",
              "var gd = document.getElementById('9017a9cc-07e4-4822-8d11-c4539d4d649e');\n",
              "var x = new MutationObserver(function (mutations, observer) {{\n",
              "        var display = window.getComputedStyle(gd).display;\n",
              "        if (!display || display === 'none') {{\n",
              "            console.log([gd, 'removed!']);\n",
              "            Plotly.purge(gd);\n",
              "            observer.disconnect();\n",
              "        }}\n",
              "}});\n",
              "\n",
              "// Listen for the removal of the full notebook cells\n",
              "var notebookContainer = gd.closest('#notebook-container');\n",
              "if (notebookContainer) {{\n",
              "    x.observe(notebookContainer, {childList: true});\n",
              "}}\n",
              "\n",
              "// Listen for the clearing of the current output cell\n",
              "var outputEl = gd.closest('.output');\n",
              "if (outputEl) {{\n",
              "    x.observe(outputEl, {childList: true});\n",
              "}}\n",
              "\n",
              "                        })\n",
              "                };\n",
              "                \n",
              "            </script>\n",
              "        </div>\n",
              "</body>\n",
              "</html>"
            ]
          },
          "metadata": {
            "tags": []
          }
        }
      ]
    },
    {
      "cell_type": "code",
      "metadata": {
        "colab": {
          "base_uri": "https://localhost:8080/",
          "height": 542
        },
        "id": "GlMXwfTxZojE",
        "outputId": "d9401da5-2dee-46ba-f424-fdf8747cf68b"
      },
      "source": [
        "#visualize the scores and drop outs distribution\n",
        "fig = px.histogram(student_df, x='mean_score',\n",
        "                   color='Drop_out', nbins=10, hover_name = 'Country',marginal = 'rug',\n",
        "                   title=\"Score Distribution and Drop_Outs\",\n",
        "                   color_discrete_map = { #replace the default color values\n",
        "                                         'Drop_out = Yes':\"cornflowerblue\",\n",
        "                                          'Drop_out = No':\"blue\"\n",
        "                       \n",
        "                   },\n",
        "                   )\n",
        "fig.update_layout(# customize fonts and the legends\n",
        "                  font_family = \"Rockwell\",\n",
        "                  legend = dict(\n",
        "                      orientation=\"h\", y=1, yanchor=\"bottom\", x=0.5, xanchor=\"center\"\n",
        "                  ))\n",
        "fig.show()"
      ],
      "execution_count": 25,
      "outputs": [
        {
          "output_type": "display_data",
          "data": {
            "text/html": [
              "<html>\n",
              "<head><meta charset=\"utf-8\" /></head>\n",
              "<body>\n",
              "    <div>\n",
              "            <script src=\"https://cdnjs.cloudflare.com/ajax/libs/mathjax/2.7.5/MathJax.js?config=TeX-AMS-MML_SVG\"></script><script type=\"text/javascript\">if (window.MathJax) {MathJax.Hub.Config({SVG: {font: \"STIX-Web\"}});}</script>\n",
              "                <script type=\"text/javascript\">window.PlotlyConfig = {MathJaxConfig: 'local'};</script>\n",
              "        <script src=\"https://cdn.plot.ly/plotly-latest.min.js\"></script>    \n",
              "            <div id=\"f475046a-f1e3-49cb-ab4e-a6d1e11cfc22\" class=\"plotly-graph-div\" style=\"height:525px; width:100%;\"></div>\n",
              "            <script type=\"text/javascript\">\n",
              "                \n",
              "                    window.PLOTLYENV=window.PLOTLYENV || {};\n",
              "                    \n",
              "                if (document.getElementById(\"f475046a-f1e3-49cb-ab4e-a6d1e11cfc22\")) {\n",
              "                    Plotly.newPlot(\n",
              "                        'f475046a-f1e3-49cb-ab4e-a6d1e11cfc22',\n",
              "                        [{\"alignmentgroup\": \"True\", \"bingroup\": \"x\", \"hoverlabel\": {\"namelength\": 0}, \"hovertemplate\": \"Drop_out=Yes<br>mean_score=%{x}<br>count=%{y}\", \"legendgroup\": \"Drop_out=Yes\", \"marker\": {\"color\": \"#00cc96\"}, \"name\": \"Drop_out=Yes\", \"nbinsx\": 10, \"offsetgroup\": \"Drop_out=Yes\", \"orientation\": \"v\", \"showlegend\": true, \"type\": \"histogram\", \"x\": [35.001999999999995, 1.9100000000000001, 5.608, 15.668000000000001, 6.314, 21.404000000000003, 4.7, 1.9100000000000001, 1.9100000000000001, 1.9100000000000001, 9.956, 5.044, 53.568000000000005, 2.468, 72.776, 11.010000000000002, 33.61, 23.282, 29.442, 17.529999999999998, 15.925999999999998, 2.468, 3.6100000000000003, 46.02, 39.664, 27.192, 14.068000000000001, 62.65, 49.00000000000001, 22.49, 4.156000000000001, 81.53, 118.83, 2.144, 16.755999999999997, 13.963999999999999, 20.582, 61.288, 3.9899999999999998, 1.9100000000000001, 88.49199999999999, 1.9100000000000001, 30.558000000000003, 1.9100000000000001, 36.258, 2.468, 1.9100000000000001, 1.9100000000000001, 4.7, 50.012, 1.9100000000000001, 2.468, 29.46, 50.678, 78.572, 75.95, 44.776, 95.95199999999998, 44.46600000000001, 100.546, 126.73799999999999, 2.468, 11.484, 10.066, 2.468, 1.9100000000000001, 105.83, 66.00999999999999, 2.468, 6.119999999999999, 1.9100000000000001, 2.468, 2.468, 1.9100000000000001, 1.9100000000000001, 1.8219999999999998, 1.9100000000000001, 5.356, 1.9100000000000001, 1.9100000000000001, 1.9100000000000001, 1.9100000000000001, 1.9100000000000001, 1.9100000000000001, 2.272, 2.272, 2.468, 5.914000000000001, 2.468, 2.468, 2.468, 2.468, 2.468, 2.468, 2.468, 2.468, 2.468, 2.468, 2.468, 2.468, 2.468, 2.468, 2.468, 2.468, 2.598, 4.7, 7.523999999999999, 8.73, 8.506, 17.708, 12.309999999999999, 19.176, 16.848, 16.794000000000004, 21.522, 18.702, 32.274, 27.784, 26.572000000000003, 47.546, 26.272, 26.682, 40.52, 33.263999999999996, 33.49, 25.676, 51.75, 55.394000000000005, 18.97, 5.69, 28.089999999999996, 11.76, 37.436, 34.642, 43.705999999999996, 62.746, 56.977999999999994, 73.084, 52.348, 56.928, 42.736000000000004, 54.378, 39.974000000000004, 49.706, 35.358000000000004], \"xaxis\": \"x\", \"yaxis\": \"y\"}, {\"alignmentgroup\": \"True\", \"boxpoints\": \"all\", \"fillcolor\": \"rgba(255,255,255,0)\", \"hoverlabel\": {\"namelength\": 0}, \"hoveron\": \"points\", \"hovertemplate\": \"<b>%{hovertext}</b><br><br>Drop_out=Yes<br>mean_score=%{x}\", \"hovertext\": [\"Ethiopia\", \"Eswatini\", \"Ivory Coast\", \"Nigeria\", \"Rwanda\", \"Ethiopia\", \"Ethiopia\", \"Ethiopia\", \"Eswatini\", \"Nigeria\", \"Kenya\", \"Nigeria\", \"Ethiopia\", \"Ethiopia\", \"Kenya\", \"Kenya\", \"Nigeria\", \"Kenya\", \"Ethiopia\", \"Ethiopia\", \"Kenya\", \"Rwanda\", \"South Africa\", \"Kenya\", \"Kenya\", \"Kenya\", \"Kenya\", \"Ethiopia\", \"Nigeria\", \"Kenya\", \"Nigeria\", \"Ethiopia\", \"Ethiopia\", \"Kenya\", \"Kenya\", \"Kenya\", \"Ethiopia\", \"Ethiopia\", \"Nigeria\", \"Kenya\", \"Rwanda\", \"Rwanda\", \"Ethiopia\", \"Nigeria\", \"Ethiopia\", \"Ethiopia\", \"Ethiopia\", \"Ethiopia\", \"Kenya\", \"Kenya\", \"US\", \"Kenya\", \"Eswatini\", \"Ethiopia\", \"Ethiopia\", \"Kenya\", \"Kenya\", \"Kenya\", \"Nigeria\", \"Kenya\", \"Kenya\", \"Kenya\", \"Kenya\", \"Kenya\", \"Kenya\", \"Ethiopia\", \"Kenya\", \"Ethiopia\", \"Ethiopia\", \"Kenya\", \"Kenya\", \"Kenya\", \"Nigeria\", \"Ethiopia\", \"Ethiopia\", \"Ethiopia\", \"Ethiopia\", \"Ethiopia\", \"Ethiopia\", \"Ethiopia\", \"Ethiopia\", \"Ethiopia\", \"Kenya\", \"Rwanda\", \"Ethiopia\", \"Kenya\", \"Ethiopia\", \"Ethiopia\", \"Ethiopia\", \"Ethiopia\", \"Ethiopia\", \"Ethiopia\", \"Ethiopia\", \"Ethiopia\", \"Ethiopia\", \"Ethiopia\", \"Kenya\", \"Kenya\", \"Kenya\", \"Kenya\", \"Kenya\", \"Nigeria\", \"Rwanda\", \"Ethiopia\", \"Ethiopia\", \"Kenya\", \"Kenya\", \"Kenya\", \"Nigeria\", \"Arab Emirates\", \"Ethiopia\", \"Ethiopia\", \"Kenya\", \"Kenya\", \"Nigeria\", \"Rwanda\", \"Ethiopia\", \"Eswatini\", \"Kenya\", \"Kenya\", \"Nigeria\", \"Nigeria\", \"Nigeria\", \"Rwanda\", \"South Africa\", \"Arab Emirates\", \"Ethiopia\", \"Ethiopia\", \"Kenya\", \"Ethiopia\", \"Rwanda\", \"Nigeria\", \"Ethiopia\", \"Kenya\", \"Ghana\", \"Ethiopia\", \"Nigeria\", \"Nigeria\", \"Ethiopia\", \"Ethiopia\", \"Kenya\", \"Kenya\", \"Kenya\", \"Kenya\", \"Nigeria\"], \"jitter\": 0, \"legendgroup\": \"Drop_out=Yes\", \"line\": {\"color\": \"rgba(255,255,255,0)\"}, \"marker\": {\"color\": \"#00cc96\", \"symbol\": \"line-ns-open\"}, \"name\": \"Drop_out=Yes\", \"offsetgroup\": \"Drop_out=Yes\", \"showlegend\": false, \"type\": \"box\", \"x\": [35.001999999999995, 1.9100000000000001, 5.608, 15.668000000000001, 6.314, 21.404000000000003, 4.7, 1.9100000000000001, 1.9100000000000001, 1.9100000000000001, 9.956, 5.044, 53.568000000000005, 2.468, 72.776, 11.010000000000002, 33.61, 23.282, 29.442, 17.529999999999998, 15.925999999999998, 2.468, 3.6100000000000003, 46.02, 39.664, 27.192, 14.068000000000001, 62.65, 49.00000000000001, 22.49, 4.156000000000001, 81.53, 118.83, 2.144, 16.755999999999997, 13.963999999999999, 20.582, 61.288, 3.9899999999999998, 1.9100000000000001, 88.49199999999999, 1.9100000000000001, 30.558000000000003, 1.9100000000000001, 36.258, 2.468, 1.9100000000000001, 1.9100000000000001, 4.7, 50.012, 1.9100000000000001, 2.468, 29.46, 50.678, 78.572, 75.95, 44.776, 95.95199999999998, 44.46600000000001, 100.546, 126.73799999999999, 2.468, 11.484, 10.066, 2.468, 1.9100000000000001, 105.83, 66.00999999999999, 2.468, 6.119999999999999, 1.9100000000000001, 2.468, 2.468, 1.9100000000000001, 1.9100000000000001, 1.8219999999999998, 1.9100000000000001, 5.356, 1.9100000000000001, 1.9100000000000001, 1.9100000000000001, 1.9100000000000001, 1.9100000000000001, 1.9100000000000001, 2.272, 2.272, 2.468, 5.914000000000001, 2.468, 2.468, 2.468, 2.468, 2.468, 2.468, 2.468, 2.468, 2.468, 2.468, 2.468, 2.468, 2.468, 2.468, 2.468, 2.468, 2.598, 4.7, 7.523999999999999, 8.73, 8.506, 17.708, 12.309999999999999, 19.176, 16.848, 16.794000000000004, 21.522, 18.702, 32.274, 27.784, 26.572000000000003, 47.546, 26.272, 26.682, 40.52, 33.263999999999996, 33.49, 25.676, 51.75, 55.394000000000005, 18.97, 5.69, 28.089999999999996, 11.76, 37.436, 34.642, 43.705999999999996, 62.746, 56.977999999999994, 73.084, 52.348, 56.928, 42.736000000000004, 54.378, 39.974000000000004, 49.706, 35.358000000000004], \"xaxis\": \"x2\", \"yaxis\": \"y2\"}, {\"alignmentgroup\": \"True\", \"bingroup\": \"x\", \"hoverlabel\": {\"namelength\": 0}, \"hovertemplate\": \"Drop_out=No<br>mean_score=%{x}<br>count=%{y}\", \"legendgroup\": \"Drop_out=No\", \"marker\": {\"color\": \"#ab63fa\"}, \"name\": \"Drop_out=No\", \"nbinsx\": 10, \"offsetgroup\": \"Drop_out=No\", \"orientation\": \"v\", \"showlegend\": true, \"type\": \"histogram\", \"x\": [74.99199999999999, 122.79, 89.97200000000001, 142.516, 128.844, 111.58800000000001, 105.54, 103.09200000000001, 147.312, 126.69800000000001, 99.39, 81.946, 73.2, 136.926, 67.16, 73.46199999999999, 27.303999999999995, 73.22200000000001, 66.77000000000001, 145.56199999999998, 105.876, 122.082, 80.864, 118.68400000000001, 158.49, 98.28399999999999, 147.31599999999997, 98.716, 138.094, 82.61999999999998, 84.444, 166.846, 167.874, 127.17199999999998, 128.916, 171.262, 167.758, 97.074, 97.136, 136.134, 128.648, 108.25, 155.4, 94.446, 98.90799999999999, 122.606, 83.43199999999999, 57.062, 56.779999999999994, 145.58999999999997, 77.014, 91.56199999999998, 121.33399999999999, 98.128, 117.316, 110.574, 94.524, 97.132, 130.73600000000002, 135.676, 85.006, 111.63, 133.246, 102.312, 111.10999999999999, 78.36800000000001, 87.85799999999999, 114.204, 62.944, 71.982, 101.91400000000002, 146.37400000000002, 94.452, 90.484, 146.16, 91.198, 78.43, 114.58800000000001, 135.202, 126.46, 98.18400000000001], \"xaxis\": \"x\", \"yaxis\": \"y\"}, {\"alignmentgroup\": \"True\", \"boxpoints\": \"all\", \"fillcolor\": \"rgba(255,255,255,0)\", \"hoverlabel\": {\"namelength\": 0}, \"hoveron\": \"points\", \"hovertemplate\": \"<b>%{hovertext}</b><br><br>Drop_out=No<br>mean_score=%{x}\", \"hovertext\": [\"Arab Emirates\", \"Ethiopia\", \"Ethiopia\", \"Ethiopia\", \"Ethiopia\", \"Ethiopia\", \"Ethiopia\", \"Ethiopia\", \"Ethiopia\", \"Kenya\", \"Kenya\", \"Kenya\", \"Kenya\", \"Kenya\", \"Nigeria\", \"Eswatini\", \"Ethiopia\", \"Ethiopia\", \"Ethiopia\", \"Ethiopia\", \"Ethiopia\", \"Ethiopia\", \"Ethiopia\", \"Ethiopia\", \"Ethiopia\", \"Ethiopia\", \"Ethiopia\", \"Ethiopia\", \"Ethiopia\", \"Ethiopia\", \"Ethiopia\", \"Ethiopia\", \"Ethiopia\", \"Ethiopia\", \"Ethiopia\", \"Ethiopia\", \"Ethiopia\", \"Ethiopia\", \"Ethiopia\", \"Ethiopia\", \"Ethiopia\", \"Ethiopia\", \"Ethiopia\", \"Ethiopia\", \"Ethiopia\", \"Ethiopia\", \"Ethiopia\", \"Kenya\", \"Kenya\", \"Kenya\", \"Kenya\", \"Kenya\", \"Kenya\", \"Kenya\", \"Kenya\", \"Kenya\", \"Kenya\", \"Kenya\", \"Kenya\", \"Kenya\", \"Kenya\", \"Kenya\", \"Kenya\", \"Kenya\", \"Kenya\", \"Kenya\", \"Kenya\", \"Kenya\", \"Kenya\", \"Kenya\", \"Kenya\", \"Kenya\", \"Kenya\", \"Kenya\", \"Nigeria\", \"Nigeria\", \"Nigeria\", \"Nigeria\", \"Rwanda\", \"Rwanda\", \"Rwanda\"], \"jitter\": 0, \"legendgroup\": \"Drop_out=No\", \"line\": {\"color\": \"rgba(255,255,255,0)\"}, \"marker\": {\"color\": \"#ab63fa\", \"symbol\": \"line-ns-open\"}, \"name\": \"Drop_out=No\", \"offsetgroup\": \"Drop_out=No\", \"showlegend\": false, \"type\": \"box\", \"x\": [74.99199999999999, 122.79, 89.97200000000001, 142.516, 128.844, 111.58800000000001, 105.54, 103.09200000000001, 147.312, 126.69800000000001, 99.39, 81.946, 73.2, 136.926, 67.16, 73.46199999999999, 27.303999999999995, 73.22200000000001, 66.77000000000001, 145.56199999999998, 105.876, 122.082, 80.864, 118.68400000000001, 158.49, 98.28399999999999, 147.31599999999997, 98.716, 138.094, 82.61999999999998, 84.444, 166.846, 167.874, 127.17199999999998, 128.916, 171.262, 167.758, 97.074, 97.136, 136.134, 128.648, 108.25, 155.4, 94.446, 98.90799999999999, 122.606, 83.43199999999999, 57.062, 56.779999999999994, 145.58999999999997, 77.014, 91.56199999999998, 121.33399999999999, 98.128, 117.316, 110.574, 94.524, 97.132, 130.73600000000002, 135.676, 85.006, 111.63, 133.246, 102.312, 111.10999999999999, 78.36800000000001, 87.85799999999999, 114.204, 62.944, 71.982, 101.91400000000002, 146.37400000000002, 94.452, 90.484, 146.16, 91.198, 78.43, 114.58800000000001, 135.202, 126.46, 98.18400000000001], \"xaxis\": \"x2\", \"yaxis\": \"y2\"}],\n",
              "                        {\"barmode\": \"relative\", \"font\": {\"family\": \"Rockwell\"}, \"legend\": {\"orientation\": \"h\", \"tracegroupgap\": 0, \"x\": 0.5, \"xanchor\": \"center\", \"y\": 1, \"yanchor\": \"bottom\"}, \"template\": {\"data\": {\"bar\": [{\"error_x\": {\"color\": \"#2a3f5f\"}, \"error_y\": {\"color\": \"#2a3f5f\"}, \"marker\": {\"line\": {\"color\": \"#E5ECF6\", \"width\": 0.5}}, \"type\": \"bar\"}], \"barpolar\": [{\"marker\": {\"line\": {\"color\": \"#E5ECF6\", \"width\": 0.5}}, \"type\": \"barpolar\"}], \"carpet\": [{\"aaxis\": {\"endlinecolor\": \"#2a3f5f\", \"gridcolor\": \"white\", \"linecolor\": \"white\", \"minorgridcolor\": \"white\", \"startlinecolor\": \"#2a3f5f\"}, \"baxis\": {\"endlinecolor\": \"#2a3f5f\", \"gridcolor\": \"white\", \"linecolor\": \"white\", \"minorgridcolor\": \"white\", \"startlinecolor\": \"#2a3f5f\"}, \"type\": \"carpet\"}], \"choropleth\": [{\"colorbar\": {\"outlinewidth\": 0, \"ticks\": \"\"}, \"type\": \"choropleth\"}], \"contour\": [{\"colorbar\": {\"outlinewidth\": 0, \"ticks\": \"\"}, \"colorscale\": [[0.0, \"#0d0887\"], [0.1111111111111111, \"#46039f\"], [0.2222222222222222, \"#7201a8\"], [0.3333333333333333, \"#9c179e\"], [0.4444444444444444, \"#bd3786\"], [0.5555555555555556, \"#d8576b\"], [0.6666666666666666, \"#ed7953\"], [0.7777777777777778, \"#fb9f3a\"], [0.8888888888888888, \"#fdca26\"], [1.0, \"#f0f921\"]], \"type\": \"contour\"}], \"contourcarpet\": [{\"colorbar\": {\"outlinewidth\": 0, \"ticks\": \"\"}, \"type\": \"contourcarpet\"}], \"heatmap\": [{\"colorbar\": {\"outlinewidth\": 0, \"ticks\": \"\"}, \"colorscale\": [[0.0, \"#0d0887\"], [0.1111111111111111, \"#46039f\"], [0.2222222222222222, \"#7201a8\"], [0.3333333333333333, \"#9c179e\"], [0.4444444444444444, \"#bd3786\"], [0.5555555555555556, \"#d8576b\"], [0.6666666666666666, \"#ed7953\"], [0.7777777777777778, \"#fb9f3a\"], [0.8888888888888888, \"#fdca26\"], [1.0, \"#f0f921\"]], \"type\": \"heatmap\"}], \"heatmapgl\": [{\"colorbar\": {\"outlinewidth\": 0, \"ticks\": \"\"}, \"colorscale\": [[0.0, \"#0d0887\"], [0.1111111111111111, \"#46039f\"], [0.2222222222222222, \"#7201a8\"], [0.3333333333333333, \"#9c179e\"], [0.4444444444444444, \"#bd3786\"], [0.5555555555555556, \"#d8576b\"], [0.6666666666666666, \"#ed7953\"], [0.7777777777777778, \"#fb9f3a\"], [0.8888888888888888, \"#fdca26\"], [1.0, \"#f0f921\"]], \"type\": \"heatmapgl\"}], \"histogram\": [{\"marker\": {\"colorbar\": {\"outlinewidth\": 0, \"ticks\": \"\"}}, \"type\": \"histogram\"}], \"histogram2d\": [{\"colorbar\": {\"outlinewidth\": 0, \"ticks\": \"\"}, \"colorscale\": [[0.0, \"#0d0887\"], [0.1111111111111111, \"#46039f\"], [0.2222222222222222, \"#7201a8\"], [0.3333333333333333, \"#9c179e\"], [0.4444444444444444, \"#bd3786\"], [0.5555555555555556, \"#d8576b\"], [0.6666666666666666, \"#ed7953\"], [0.7777777777777778, \"#fb9f3a\"], [0.8888888888888888, \"#fdca26\"], [1.0, \"#f0f921\"]], \"type\": \"histogram2d\"}], \"histogram2dcontour\": [{\"colorbar\": {\"outlinewidth\": 0, \"ticks\": \"\"}, \"colorscale\": [[0.0, \"#0d0887\"], [0.1111111111111111, \"#46039f\"], [0.2222222222222222, \"#7201a8\"], [0.3333333333333333, \"#9c179e\"], [0.4444444444444444, \"#bd3786\"], [0.5555555555555556, \"#d8576b\"], [0.6666666666666666, \"#ed7953\"], [0.7777777777777778, \"#fb9f3a\"], [0.8888888888888888, \"#fdca26\"], [1.0, \"#f0f921\"]], \"type\": \"histogram2dcontour\"}], \"mesh3d\": [{\"colorbar\": {\"outlinewidth\": 0, \"ticks\": \"\"}, \"type\": \"mesh3d\"}], \"parcoords\": [{\"line\": {\"colorbar\": {\"outlinewidth\": 0, \"ticks\": \"\"}}, \"type\": \"parcoords\"}], \"pie\": [{\"automargin\": true, \"type\": \"pie\"}], \"scatter\": [{\"marker\": {\"colorbar\": {\"outlinewidth\": 0, \"ticks\": \"\"}}, \"type\": \"scatter\"}], \"scatter3d\": [{\"line\": {\"colorbar\": {\"outlinewidth\": 0, \"ticks\": \"\"}}, \"marker\": {\"colorbar\": {\"outlinewidth\": 0, \"ticks\": \"\"}}, \"type\": \"scatter3d\"}], \"scattercarpet\": [{\"marker\": {\"colorbar\": {\"outlinewidth\": 0, \"ticks\": \"\"}}, \"type\": \"scattercarpet\"}], \"scattergeo\": [{\"marker\": {\"colorbar\": {\"outlinewidth\": 0, \"ticks\": \"\"}}, \"type\": \"scattergeo\"}], \"scattergl\": [{\"marker\": {\"colorbar\": {\"outlinewidth\": 0, \"ticks\": \"\"}}, \"type\": \"scattergl\"}], \"scattermapbox\": [{\"marker\": {\"colorbar\": {\"outlinewidth\": 0, \"ticks\": \"\"}}, \"type\": \"scattermapbox\"}], \"scatterpolar\": [{\"marker\": {\"colorbar\": {\"outlinewidth\": 0, \"ticks\": \"\"}}, \"type\": \"scatterpolar\"}], \"scatterpolargl\": [{\"marker\": {\"colorbar\": {\"outlinewidth\": 0, \"ticks\": \"\"}}, \"type\": \"scatterpolargl\"}], \"scatterternary\": [{\"marker\": {\"colorbar\": {\"outlinewidth\": 0, \"ticks\": \"\"}}, \"type\": \"scatterternary\"}], \"surface\": [{\"colorbar\": {\"outlinewidth\": 0, \"ticks\": \"\"}, \"colorscale\": [[0.0, \"#0d0887\"], [0.1111111111111111, \"#46039f\"], [0.2222222222222222, \"#7201a8\"], [0.3333333333333333, \"#9c179e\"], [0.4444444444444444, \"#bd3786\"], [0.5555555555555556, \"#d8576b\"], [0.6666666666666666, \"#ed7953\"], [0.7777777777777778, \"#fb9f3a\"], [0.8888888888888888, \"#fdca26\"], [1.0, \"#f0f921\"]], \"type\": \"surface\"}], \"table\": [{\"cells\": {\"fill\": {\"color\": \"#EBF0F8\"}, \"line\": {\"color\": \"white\"}}, \"header\": {\"fill\": {\"color\": \"#C8D4E3\"}, \"line\": {\"color\": \"white\"}}, \"type\": \"table\"}]}, \"layout\": {\"annotationdefaults\": {\"arrowcolor\": \"#2a3f5f\", \"arrowhead\": 0, \"arrowwidth\": 1}, \"coloraxis\": {\"colorbar\": {\"outlinewidth\": 0, \"ticks\": \"\"}}, \"colorscale\": {\"diverging\": [[0, \"#8e0152\"], [0.1, \"#c51b7d\"], [0.2, \"#de77ae\"], [0.3, \"#f1b6da\"], [0.4, \"#fde0ef\"], [0.5, \"#f7f7f7\"], [0.6, \"#e6f5d0\"], [0.7, \"#b8e186\"], [0.8, \"#7fbc41\"], [0.9, \"#4d9221\"], [1, \"#276419\"]], \"sequential\": [[0.0, \"#0d0887\"], [0.1111111111111111, \"#46039f\"], [0.2222222222222222, \"#7201a8\"], [0.3333333333333333, \"#9c179e\"], [0.4444444444444444, \"#bd3786\"], [0.5555555555555556, \"#d8576b\"], [0.6666666666666666, \"#ed7953\"], [0.7777777777777778, \"#fb9f3a\"], [0.8888888888888888, \"#fdca26\"], [1.0, \"#f0f921\"]], \"sequentialminus\": [[0.0, \"#0d0887\"], [0.1111111111111111, \"#46039f\"], [0.2222222222222222, \"#7201a8\"], [0.3333333333333333, \"#9c179e\"], [0.4444444444444444, \"#bd3786\"], [0.5555555555555556, \"#d8576b\"], [0.6666666666666666, \"#ed7953\"], [0.7777777777777778, \"#fb9f3a\"], [0.8888888888888888, \"#fdca26\"], [1.0, \"#f0f921\"]]}, \"colorway\": [\"#636efa\", \"#EF553B\", \"#00cc96\", \"#ab63fa\", \"#FFA15A\", \"#19d3f3\", \"#FF6692\", \"#B6E880\", \"#FF97FF\", \"#FECB52\"], \"font\": {\"color\": \"#2a3f5f\"}, \"geo\": {\"bgcolor\": \"white\", \"lakecolor\": \"white\", \"landcolor\": \"#E5ECF6\", \"showlakes\": true, \"showland\": true, \"subunitcolor\": \"white\"}, \"hoverlabel\": {\"align\": \"left\"}, \"hovermode\": \"closest\", \"mapbox\": {\"style\": \"light\"}, \"paper_bgcolor\": \"white\", \"plot_bgcolor\": \"#E5ECF6\", \"polar\": {\"angularaxis\": {\"gridcolor\": \"white\", \"linecolor\": \"white\", \"ticks\": \"\"}, \"bgcolor\": \"#E5ECF6\", \"radialaxis\": {\"gridcolor\": \"white\", \"linecolor\": \"white\", \"ticks\": \"\"}}, \"scene\": {\"xaxis\": {\"backgroundcolor\": \"#E5ECF6\", \"gridcolor\": \"white\", \"gridwidth\": 2, \"linecolor\": \"white\", \"showbackground\": true, \"ticks\": \"\", \"zerolinecolor\": \"white\"}, \"yaxis\": {\"backgroundcolor\": \"#E5ECF6\", \"gridcolor\": \"white\", \"gridwidth\": 2, \"linecolor\": \"white\", \"showbackground\": true, \"ticks\": \"\", \"zerolinecolor\": \"white\"}, \"zaxis\": {\"backgroundcolor\": \"#E5ECF6\", \"gridcolor\": \"white\", \"gridwidth\": 2, \"linecolor\": \"white\", \"showbackground\": true, \"ticks\": \"\", \"zerolinecolor\": \"white\"}}, \"shapedefaults\": {\"line\": {\"color\": \"#2a3f5f\"}}, \"ternary\": {\"aaxis\": {\"gridcolor\": \"white\", \"linecolor\": \"white\", \"ticks\": \"\"}, \"baxis\": {\"gridcolor\": \"white\", \"linecolor\": \"white\", \"ticks\": \"\"}, \"bgcolor\": \"#E5ECF6\", \"caxis\": {\"gridcolor\": \"white\", \"linecolor\": \"white\", \"ticks\": \"\"}}, \"title\": {\"x\": 0.05}, \"xaxis\": {\"automargin\": true, \"gridcolor\": \"white\", \"linecolor\": \"white\", \"ticks\": \"\", \"title\": {\"standoff\": 15}, \"zerolinecolor\": \"white\", \"zerolinewidth\": 2}, \"yaxis\": {\"automargin\": true, \"gridcolor\": \"white\", \"linecolor\": \"white\", \"ticks\": \"\", \"title\": {\"standoff\": 15}, \"zerolinecolor\": \"white\", \"zerolinewidth\": 2}}}, \"title\": {\"text\": \"Score Distribution and Drop_Outs\"}, \"xaxis\": {\"anchor\": \"y\", \"domain\": [0.0, 1.0], \"title\": {\"text\": \"mean_score\"}}, \"xaxis2\": {\"anchor\": \"y2\", \"domain\": [0.0, 1.0], \"matches\": \"x\", \"showgrid\": true, \"showticklabels\": false}, \"yaxis\": {\"anchor\": \"x\", \"domain\": [0.0, 0.7326], \"title\": {\"text\": \"count\"}}, \"yaxis2\": {\"anchor\": \"x2\", \"domain\": [0.7426, 1.0], \"matches\": \"y2\", \"showgrid\": false, \"showline\": false, \"showticklabels\": false, \"ticks\": \"\"}},\n",
              "                        {\"responsive\": true}\n",
              "                    ).then(function(){\n",
              "                            \n",
              "var gd = document.getElementById('f475046a-f1e3-49cb-ab4e-a6d1e11cfc22');\n",
              "var x = new MutationObserver(function (mutations, observer) {{\n",
              "        var display = window.getComputedStyle(gd).display;\n",
              "        if (!display || display === 'none') {{\n",
              "            console.log([gd, 'removed!']);\n",
              "            Plotly.purge(gd);\n",
              "            observer.disconnect();\n",
              "        }}\n",
              "}});\n",
              "\n",
              "// Listen for the removal of the full notebook cells\n",
              "var notebookContainer = gd.closest('#notebook-container');\n",
              "if (notebookContainer) {{\n",
              "    x.observe(notebookContainer, {childList: true});\n",
              "}}\n",
              "\n",
              "// Listen for the clearing of the current output cell\n",
              "var outputEl = gd.closest('.output');\n",
              "if (outputEl) {{\n",
              "    x.observe(outputEl, {childList: true});\n",
              "}}\n",
              "\n",
              "                        })\n",
              "                };\n",
              "                \n",
              "            </script>\n",
              "        </div>\n",
              "</body>\n",
              "</html>"
            ]
          },
          "metadata": {
            "tags": []
          }
        }
      ]
    },
    {
      "cell_type": "code",
      "metadata": {
        "colab": {
          "base_uri": "https://localhost:8080/",
          "height": 542
        },
        "id": "r2hEa7Q-ZtoM",
        "outputId": "fb64448e-1633-4e5f-cce7-3a37ef2c62dd"
      },
      "source": [
        "#visualize the scores and drop outs distribution by country\n",
        "fig = px.histogram(student_df, x='mean_score',\n",
        "                   color='Country', nbins=10, hover_name = 'Drop_out',marginal = 'rug',\n",
        "                   title=\"Score Distribution and Drop_Outs\",\n",
        "                   \n",
        "                   )\n",
        "fig.update_layout(# customize fonts and the legends\n",
        "                  font_family = \"Rockwell\",\n",
        "                  legend = dict(\n",
        "                      orientation=\"h\", y=0.5, yanchor=\"bottom\", x=1.5, xanchor=\"center\"\n",
        "                  ))\n",
        "fig.show()"
      ],
      "execution_count": 26,
      "outputs": [
        {
          "output_type": "display_data",
          "data": {
            "text/html": [
              "<html>\n",
              "<head><meta charset=\"utf-8\" /></head>\n",
              "<body>\n",
              "    <div>\n",
              "            <script src=\"https://cdnjs.cloudflare.com/ajax/libs/mathjax/2.7.5/MathJax.js?config=TeX-AMS-MML_SVG\"></script><script type=\"text/javascript\">if (window.MathJax) {MathJax.Hub.Config({SVG: {font: \"STIX-Web\"}});}</script>\n",
              "                <script type=\"text/javascript\">window.PlotlyConfig = {MathJaxConfig: 'local'};</script>\n",
              "        <script src=\"https://cdn.plot.ly/plotly-latest.min.js\"></script>    \n",
              "            <div id=\"ea418783-20f4-4386-8711-f9186522b655\" class=\"plotly-graph-div\" style=\"height:525px; width:100%;\"></div>\n",
              "            <script type=\"text/javascript\">\n",
              "                \n",
              "                    window.PLOTLYENV=window.PLOTLYENV || {};\n",
              "                    \n",
              "                if (document.getElementById(\"ea418783-20f4-4386-8711-f9186522b655\")) {\n",
              "                    Plotly.newPlot(\n",
              "                        'ea418783-20f4-4386-8711-f9186522b655',\n",
              "                        [{\"alignmentgroup\": \"True\", \"bingroup\": \"x\", \"hoverlabel\": {\"namelength\": 0}, \"hovertemplate\": \"Country=Ethiopia<br>mean_score=%{x}<br>count=%{y}\", \"legendgroup\": \"Country=Ethiopia\", \"marker\": {\"color\": \"#636efa\"}, \"name\": \"Country=Ethiopia\", \"nbinsx\": 10, \"offsetgroup\": \"Country=Ethiopia\", \"orientation\": \"v\", \"showlegend\": true, \"type\": \"histogram\", \"x\": [35.001999999999995, 21.404000000000003, 4.7, 1.9100000000000001, 53.568000000000005, 2.468, 29.442, 17.529999999999998, 62.65, 81.53, 118.83, 20.582, 61.288, 30.558000000000003, 36.258, 2.468, 1.9100000000000001, 1.9100000000000001, 50.678, 78.572, 1.9100000000000001, 66.00999999999999, 2.468, 1.9100000000000001, 1.9100000000000001, 1.8219999999999998, 1.9100000000000001, 5.356, 1.9100000000000001, 1.9100000000000001, 1.9100000000000001, 1.9100000000000001, 2.272, 2.468, 5.914000000000001, 2.468, 2.468, 2.468, 2.468, 2.468, 2.468, 2.468, 2.468, 2.468, 2.598, 12.309999999999999, 19.176, 32.274, 51.75, 55.394000000000005, 5.69, 37.436, 122.79, 89.97200000000001, 142.516, 128.844, 111.58800000000001, 105.54, 103.09200000000001, 147.312, 62.746, 27.303999999999995, 73.22200000000001, 66.77000000000001, 52.348, 56.928, 145.56199999999998, 105.876, 122.082, 80.864, 118.68400000000001, 158.49, 98.28399999999999, 147.31599999999997, 98.716, 138.094, 82.61999999999998, 84.444, 166.846, 167.874, 127.17199999999998, 128.916, 171.262, 167.758, 97.074, 97.136, 136.134, 128.648, 108.25, 155.4, 94.446, 98.90799999999999, 122.606, 83.43199999999999], \"xaxis\": \"x\", \"yaxis\": \"y\"}, {\"alignmentgroup\": \"True\", \"boxpoints\": \"all\", \"fillcolor\": \"rgba(255,255,255,0)\", \"hoverlabel\": {\"namelength\": 0}, \"hoveron\": \"points\", \"hovertemplate\": \"<b>%{hovertext}</b><br><br>Country=Ethiopia<br>mean_score=%{x}\", \"hovertext\": [\"Yes\", \"Yes\", \"Yes\", \"Yes\", \"Yes\", \"Yes\", \"Yes\", \"Yes\", \"Yes\", \"Yes\", \"Yes\", \"Yes\", \"Yes\", \"Yes\", \"Yes\", \"Yes\", \"Yes\", \"Yes\", \"Yes\", \"Yes\", \"Yes\", \"Yes\", \"Yes\", \"Yes\", \"Yes\", \"Yes\", \"Yes\", \"Yes\", \"Yes\", \"Yes\", \"Yes\", \"Yes\", \"Yes\", \"Yes\", \"Yes\", \"Yes\", \"Yes\", \"Yes\", \"Yes\", \"Yes\", \"Yes\", \"Yes\", \"Yes\", \"Yes\", \"Yes\", \"Yes\", \"Yes\", \"Yes\", \"Yes\", \"Yes\", \"Yes\", \"Yes\", \"No\", \"No\", \"No\", \"No\", \"No\", \"No\", \"No\", \"No\", \"Yes\", \"No\", \"No\", \"No\", \"Yes\", \"Yes\", \"No\", \"No\", \"No\", \"No\", \"No\", \"No\", \"No\", \"No\", \"No\", \"No\", \"No\", \"No\", \"No\", \"No\", \"No\", \"No\", \"No\", \"No\", \"No\", \"No\", \"No\", \"No\", \"No\", \"No\", \"No\", \"No\", \"No\", \"No\"], \"jitter\": 0, \"legendgroup\": \"Country=Ethiopia\", \"line\": {\"color\": \"rgba(255,255,255,0)\"}, \"marker\": {\"color\": \"#636efa\", \"symbol\": \"line-ns-open\"}, \"name\": \"Country=Ethiopia\", \"offsetgroup\": \"Country=Ethiopia\", \"showlegend\": false, \"type\": \"box\", \"x\": [35.001999999999995, 21.404000000000003, 4.7, 1.9100000000000001, 53.568000000000005, 2.468, 29.442, 17.529999999999998, 62.65, 81.53, 118.83, 20.582, 61.288, 30.558000000000003, 36.258, 2.468, 1.9100000000000001, 1.9100000000000001, 50.678, 78.572, 1.9100000000000001, 66.00999999999999, 2.468, 1.9100000000000001, 1.9100000000000001, 1.8219999999999998, 1.9100000000000001, 5.356, 1.9100000000000001, 1.9100000000000001, 1.9100000000000001, 1.9100000000000001, 2.272, 2.468, 5.914000000000001, 2.468, 2.468, 2.468, 2.468, 2.468, 2.468, 2.468, 2.468, 2.468, 2.598, 12.309999999999999, 19.176, 32.274, 51.75, 55.394000000000005, 5.69, 37.436, 122.79, 89.97200000000001, 142.516, 128.844, 111.58800000000001, 105.54, 103.09200000000001, 147.312, 62.746, 27.303999999999995, 73.22200000000001, 66.77000000000001, 52.348, 56.928, 145.56199999999998, 105.876, 122.082, 80.864, 118.68400000000001, 158.49, 98.28399999999999, 147.31599999999997, 98.716, 138.094, 82.61999999999998, 84.444, 166.846, 167.874, 127.17199999999998, 128.916, 171.262, 167.758, 97.074, 97.136, 136.134, 128.648, 108.25, 155.4, 94.446, 98.90799999999999, 122.606, 83.43199999999999], \"xaxis\": \"x2\", \"yaxis\": \"y2\"}, {\"alignmentgroup\": \"True\", \"bingroup\": \"x\", \"hoverlabel\": {\"namelength\": 0}, \"hovertemplate\": \"Country=Eswatini<br>mean_score=%{x}<br>count=%{y}\", \"legendgroup\": \"Country=Eswatini\", \"marker\": {\"color\": \"#EF553B\"}, \"name\": \"Country=Eswatini\", \"nbinsx\": 10, \"offsetgroup\": \"Country=Eswatini\", \"orientation\": \"v\", \"showlegend\": true, \"type\": \"histogram\", \"x\": [1.9100000000000001, 1.9100000000000001, 29.46, 27.784, 73.46199999999999], \"xaxis\": \"x\", \"yaxis\": \"y\"}, {\"alignmentgroup\": \"True\", \"boxpoints\": \"all\", \"fillcolor\": \"rgba(255,255,255,0)\", \"hoverlabel\": {\"namelength\": 0}, \"hoveron\": \"points\", \"hovertemplate\": \"<b>%{hovertext}</b><br><br>Country=Eswatini<br>mean_score=%{x}\", \"hovertext\": [\"Yes\", \"Yes\", \"Yes\", \"Yes\", \"No\"], \"jitter\": 0, \"legendgroup\": \"Country=Eswatini\", \"line\": {\"color\": \"rgba(255,255,255,0)\"}, \"marker\": {\"color\": \"#EF553B\", \"symbol\": \"line-ns-open\"}, \"name\": \"Country=Eswatini\", \"offsetgroup\": \"Country=Eswatini\", \"showlegend\": false, \"type\": \"box\", \"x\": [1.9100000000000001, 1.9100000000000001, 29.46, 27.784, 73.46199999999999], \"xaxis\": \"x2\", \"yaxis\": \"y2\"}, {\"alignmentgroup\": \"True\", \"bingroup\": \"x\", \"hoverlabel\": {\"namelength\": 0}, \"hovertemplate\": \"Country=Ivory Coast<br>mean_score=%{x}<br>count=%{y}\", \"legendgroup\": \"Country=Ivory Coast\", \"marker\": {\"color\": \"#00cc96\"}, \"name\": \"Country=Ivory Coast\", \"nbinsx\": 10, \"offsetgroup\": \"Country=Ivory Coast\", \"orientation\": \"v\", \"showlegend\": true, \"type\": \"histogram\", \"x\": [5.608], \"xaxis\": \"x\", \"yaxis\": \"y\"}, {\"alignmentgroup\": \"True\", \"boxpoints\": \"all\", \"fillcolor\": \"rgba(255,255,255,0)\", \"hoverlabel\": {\"namelength\": 0}, \"hoveron\": \"points\", \"hovertemplate\": \"<b>%{hovertext}</b><br><br>Country=Ivory Coast<br>mean_score=%{x}\", \"hovertext\": [\"Yes\"], \"jitter\": 0, \"legendgroup\": \"Country=Ivory Coast\", \"line\": {\"color\": \"rgba(255,255,255,0)\"}, \"marker\": {\"color\": \"#00cc96\", \"symbol\": \"line-ns-open\"}, \"name\": \"Country=Ivory Coast\", \"offsetgroup\": \"Country=Ivory Coast\", \"showlegend\": false, \"type\": \"box\", \"x\": [5.608], \"xaxis\": \"x2\", \"yaxis\": \"y2\"}, {\"alignmentgroup\": \"True\", \"bingroup\": \"x\", \"hoverlabel\": {\"namelength\": 0}, \"hovertemplate\": \"Country=Nigeria<br>mean_score=%{x}<br>count=%{y}\", \"legendgroup\": \"Country=Nigeria\", \"marker\": {\"color\": \"#ab63fa\"}, \"name\": \"Country=Nigeria\", \"nbinsx\": 10, \"offsetgroup\": \"Country=Nigeria\", \"orientation\": \"v\", \"showlegend\": true, \"type\": \"histogram\", \"x\": [15.668000000000001, 1.9100000000000001, 5.044, 33.61, 49.00000000000001, 4.156000000000001, 3.9899999999999998, 1.9100000000000001, 44.46600000000001, 2.468, 2.468, 8.506, 21.522, 26.272, 26.682, 40.52, 11.76, 56.977999999999994, 73.084, 67.16, 35.358000000000004, 146.16, 91.198, 78.43, 114.58800000000001], \"xaxis\": \"x\", \"yaxis\": \"y\"}, {\"alignmentgroup\": \"True\", \"boxpoints\": \"all\", \"fillcolor\": \"rgba(255,255,255,0)\", \"hoverlabel\": {\"namelength\": 0}, \"hoveron\": \"points\", \"hovertemplate\": \"<b>%{hovertext}</b><br><br>Country=Nigeria<br>mean_score=%{x}\", \"hovertext\": [\"Yes\", \"Yes\", \"Yes\", \"Yes\", \"Yes\", \"Yes\", \"Yes\", \"Yes\", \"Yes\", \"Yes\", \"Yes\", \"Yes\", \"Yes\", \"Yes\", \"Yes\", \"Yes\", \"Yes\", \"Yes\", \"Yes\", \"No\", \"Yes\", \"No\", \"No\", \"No\", \"No\"], \"jitter\": 0, \"legendgroup\": \"Country=Nigeria\", \"line\": {\"color\": \"rgba(255,255,255,0)\"}, \"marker\": {\"color\": \"#ab63fa\", \"symbol\": \"line-ns-open\"}, \"name\": \"Country=Nigeria\", \"offsetgroup\": \"Country=Nigeria\", \"showlegend\": false, \"type\": \"box\", \"x\": [15.668000000000001, 1.9100000000000001, 5.044, 33.61, 49.00000000000001, 4.156000000000001, 3.9899999999999998, 1.9100000000000001, 44.46600000000001, 2.468, 2.468, 8.506, 21.522, 26.272, 26.682, 40.52, 11.76, 56.977999999999994, 73.084, 67.16, 35.358000000000004, 146.16, 91.198, 78.43, 114.58800000000001], \"xaxis\": \"x2\", \"yaxis\": \"y2\"}, {\"alignmentgroup\": \"True\", \"bingroup\": \"x\", \"hoverlabel\": {\"namelength\": 0}, \"hovertemplate\": \"Country=Rwanda<br>mean_score=%{x}<br>count=%{y}\", \"legendgroup\": \"Country=Rwanda\", \"marker\": {\"color\": \"#FFA15A\"}, \"name\": \"Country=Rwanda\", \"nbinsx\": 10, \"offsetgroup\": \"Country=Rwanda\", \"orientation\": \"v\", \"showlegend\": true, \"type\": \"histogram\", \"x\": [6.314, 2.468, 88.49199999999999, 1.9100000000000001, 1.9100000000000001, 2.468, 18.702, 33.263999999999996, 28.089999999999996, 135.202, 126.46, 98.18400000000001], \"xaxis\": \"x\", \"yaxis\": \"y\"}, {\"alignmentgroup\": \"True\", \"boxpoints\": \"all\", \"fillcolor\": \"rgba(255,255,255,0)\", \"hoverlabel\": {\"namelength\": 0}, \"hoveron\": \"points\", \"hovertemplate\": \"<b>%{hovertext}</b><br><br>Country=Rwanda<br>mean_score=%{x}\", \"hovertext\": [\"Yes\", \"Yes\", \"Yes\", \"Yes\", \"Yes\", \"Yes\", \"Yes\", \"Yes\", \"Yes\", \"No\", \"No\", \"No\"], \"jitter\": 0, \"legendgroup\": \"Country=Rwanda\", \"line\": {\"color\": \"rgba(255,255,255,0)\"}, \"marker\": {\"color\": \"#FFA15A\", \"symbol\": \"line-ns-open\"}, \"name\": \"Country=Rwanda\", \"offsetgroup\": \"Country=Rwanda\", \"showlegend\": false, \"type\": \"box\", \"x\": [6.314, 2.468, 88.49199999999999, 1.9100000000000001, 1.9100000000000001, 2.468, 18.702, 33.263999999999996, 28.089999999999996, 135.202, 126.46, 98.18400000000001], \"xaxis\": \"x2\", \"yaxis\": \"y2\"}, {\"alignmentgroup\": \"True\", \"bingroup\": \"x\", \"hoverlabel\": {\"namelength\": 0}, \"hovertemplate\": \"Country=Kenya<br>mean_score=%{x}<br>count=%{y}\", \"legendgroup\": \"Country=Kenya\", \"marker\": {\"color\": \"#19d3f3\"}, \"name\": \"Country=Kenya\", \"nbinsx\": 10, \"offsetgroup\": \"Country=Kenya\", \"orientation\": \"v\", \"showlegend\": true, \"type\": \"histogram\", \"x\": [9.956, 72.776, 11.010000000000002, 23.282, 15.925999999999998, 46.02, 39.664, 27.192, 14.068000000000001, 22.49, 2.144, 16.755999999999997, 13.963999999999999, 1.9100000000000001, 4.7, 50.012, 2.468, 75.95, 44.776, 95.95199999999998, 100.546, 126.73799999999999, 2.468, 11.484, 10.066, 2.468, 105.83, 6.119999999999999, 1.9100000000000001, 2.468, 1.9100000000000001, 2.272, 2.468, 2.468, 2.468, 2.468, 2.468, 4.7, 7.523999999999999, 8.73, 16.848, 16.794000000000004, 26.572000000000003, 47.546, 18.97, 34.642, 126.69800000000001, 99.39, 81.946, 73.2, 136.926, 42.736000000000004, 57.062, 54.378, 39.974000000000004, 49.706, 56.779999999999994, 145.58999999999997, 77.014, 91.56199999999998, 121.33399999999999, 98.128, 117.316, 110.574, 94.524, 97.132, 130.73600000000002, 135.676, 85.006, 111.63, 133.246, 102.312, 111.10999999999999, 78.36800000000001, 87.85799999999999, 114.204, 62.944, 71.982, 101.91400000000002, 146.37400000000002, 94.452, 90.484], \"xaxis\": \"x\", \"yaxis\": \"y\"}, {\"alignmentgroup\": \"True\", \"boxpoints\": \"all\", \"fillcolor\": \"rgba(255,255,255,0)\", \"hoverlabel\": {\"namelength\": 0}, \"hoveron\": \"points\", \"hovertemplate\": \"<b>%{hovertext}</b><br><br>Country=Kenya<br>mean_score=%{x}\", \"hovertext\": [\"Yes\", \"Yes\", \"Yes\", \"Yes\", \"Yes\", \"Yes\", \"Yes\", \"Yes\", \"Yes\", \"Yes\", \"Yes\", \"Yes\", \"Yes\", \"Yes\", \"Yes\", \"Yes\", \"Yes\", \"Yes\", \"Yes\", \"Yes\", \"Yes\", \"Yes\", \"Yes\", \"Yes\", \"Yes\", \"Yes\", \"Yes\", \"Yes\", \"Yes\", \"Yes\", \"Yes\", \"Yes\", \"Yes\", \"Yes\", \"Yes\", \"Yes\", \"Yes\", \"Yes\", \"Yes\", \"Yes\", \"Yes\", \"Yes\", \"Yes\", \"Yes\", \"Yes\", \"Yes\", \"No\", \"No\", \"No\", \"No\", \"No\", \"Yes\", \"No\", \"Yes\", \"Yes\", \"Yes\", \"No\", \"No\", \"No\", \"No\", \"No\", \"No\", \"No\", \"No\", \"No\", \"No\", \"No\", \"No\", \"No\", \"No\", \"No\", \"No\", \"No\", \"No\", \"No\", \"No\", \"No\", \"No\", \"No\", \"No\", \"No\", \"No\"], \"jitter\": 0, \"legendgroup\": \"Country=Kenya\", \"line\": {\"color\": \"rgba(255,255,255,0)\"}, \"marker\": {\"color\": \"#19d3f3\", \"symbol\": \"line-ns-open\"}, \"name\": \"Country=Kenya\", \"offsetgroup\": \"Country=Kenya\", \"showlegend\": false, \"type\": \"box\", \"x\": [9.956, 72.776, 11.010000000000002, 23.282, 15.925999999999998, 46.02, 39.664, 27.192, 14.068000000000001, 22.49, 2.144, 16.755999999999997, 13.963999999999999, 1.9100000000000001, 4.7, 50.012, 2.468, 75.95, 44.776, 95.95199999999998, 100.546, 126.73799999999999, 2.468, 11.484, 10.066, 2.468, 105.83, 6.119999999999999, 1.9100000000000001, 2.468, 1.9100000000000001, 2.272, 2.468, 2.468, 2.468, 2.468, 2.468, 4.7, 7.523999999999999, 8.73, 16.848, 16.794000000000004, 26.572000000000003, 47.546, 18.97, 34.642, 126.69800000000001, 99.39, 81.946, 73.2, 136.926, 42.736000000000004, 57.062, 54.378, 39.974000000000004, 49.706, 56.779999999999994, 145.58999999999997, 77.014, 91.56199999999998, 121.33399999999999, 98.128, 117.316, 110.574, 94.524, 97.132, 130.73600000000002, 135.676, 85.006, 111.63, 133.246, 102.312, 111.10999999999999, 78.36800000000001, 87.85799999999999, 114.204, 62.944, 71.982, 101.91400000000002, 146.37400000000002, 94.452, 90.484], \"xaxis\": \"x2\", \"yaxis\": \"y2\"}, {\"alignmentgroup\": \"True\", \"bingroup\": \"x\", \"hoverlabel\": {\"namelength\": 0}, \"hovertemplate\": \"Country=South Africa<br>mean_score=%{x}<br>count=%{y}\", \"legendgroup\": \"Country=South Africa\", \"marker\": {\"color\": \"#FF6692\"}, \"name\": \"Country=South Africa\", \"nbinsx\": 10, \"offsetgroup\": \"Country=South Africa\", \"orientation\": \"v\", \"showlegend\": true, \"type\": \"histogram\", \"x\": [3.6100000000000003, 33.49], \"xaxis\": \"x\", \"yaxis\": \"y\"}, {\"alignmentgroup\": \"True\", \"boxpoints\": \"all\", \"fillcolor\": \"rgba(255,255,255,0)\", \"hoverlabel\": {\"namelength\": 0}, \"hoveron\": \"points\", \"hovertemplate\": \"<b>%{hovertext}</b><br><br>Country=South Africa<br>mean_score=%{x}\", \"hovertext\": [\"Yes\", \"Yes\"], \"jitter\": 0, \"legendgroup\": \"Country=South Africa\", \"line\": {\"color\": \"rgba(255,255,255,0)\"}, \"marker\": {\"color\": \"#FF6692\", \"symbol\": \"line-ns-open\"}, \"name\": \"Country=South Africa\", \"offsetgroup\": \"Country=South Africa\", \"showlegend\": false, \"type\": \"box\", \"x\": [3.6100000000000003, 33.49], \"xaxis\": \"x2\", \"yaxis\": \"y2\"}, {\"alignmentgroup\": \"True\", \"bingroup\": \"x\", \"hoverlabel\": {\"namelength\": 0}, \"hovertemplate\": \"Country=US<br>mean_score=%{x}<br>count=%{y}\", \"legendgroup\": \"Country=US\", \"marker\": {\"color\": \"#B6E880\"}, \"name\": \"Country=US\", \"nbinsx\": 10, \"offsetgroup\": \"Country=US\", \"orientation\": \"v\", \"showlegend\": true, \"type\": \"histogram\", \"x\": [1.9100000000000001], \"xaxis\": \"x\", \"yaxis\": \"y\"}, {\"alignmentgroup\": \"True\", \"boxpoints\": \"all\", \"fillcolor\": \"rgba(255,255,255,0)\", \"hoverlabel\": {\"namelength\": 0}, \"hoveron\": \"points\", \"hovertemplate\": \"<b>%{hovertext}</b><br><br>Country=US<br>mean_score=%{x}\", \"hovertext\": [\"Yes\"], \"jitter\": 0, \"legendgroup\": \"Country=US\", \"line\": {\"color\": \"rgba(255,255,255,0)\"}, \"marker\": {\"color\": \"#B6E880\", \"symbol\": \"line-ns-open\"}, \"name\": \"Country=US\", \"offsetgroup\": \"Country=US\", \"showlegend\": false, \"type\": \"box\", \"x\": [1.9100000000000001], \"xaxis\": \"x2\", \"yaxis\": \"y2\"}, {\"alignmentgroup\": \"True\", \"bingroup\": \"x\", \"hoverlabel\": {\"namelength\": 0}, \"hovertemplate\": \"Country=Arab Emirates<br>mean_score=%{x}<br>count=%{y}\", \"legendgroup\": \"Country=Arab Emirates\", \"marker\": {\"color\": \"#FF97FF\"}, \"name\": \"Country=Arab Emirates\", \"nbinsx\": 10, \"offsetgroup\": \"Country=Arab Emirates\", \"orientation\": \"v\", \"showlegend\": true, \"type\": \"histogram\", \"x\": [17.708, 25.676, 74.99199999999999], \"xaxis\": \"x\", \"yaxis\": \"y\"}, {\"alignmentgroup\": \"True\", \"boxpoints\": \"all\", \"fillcolor\": \"rgba(255,255,255,0)\", \"hoverlabel\": {\"namelength\": 0}, \"hoveron\": \"points\", \"hovertemplate\": \"<b>%{hovertext}</b><br><br>Country=Arab Emirates<br>mean_score=%{x}\", \"hovertext\": [\"Yes\", \"Yes\", \"No\"], \"jitter\": 0, \"legendgroup\": \"Country=Arab Emirates\", \"line\": {\"color\": \"rgba(255,255,255,0)\"}, \"marker\": {\"color\": \"#FF97FF\", \"symbol\": \"line-ns-open\"}, \"name\": \"Country=Arab Emirates\", \"offsetgroup\": \"Country=Arab Emirates\", \"showlegend\": false, \"type\": \"box\", \"x\": [17.708, 25.676, 74.99199999999999], \"xaxis\": \"x2\", \"yaxis\": \"y2\"}, {\"alignmentgroup\": \"True\", \"bingroup\": \"x\", \"hoverlabel\": {\"namelength\": 0}, \"hovertemplate\": \"Country=Ghana<br>mean_score=%{x}<br>count=%{y}\", \"legendgroup\": \"Country=Ghana\", \"marker\": {\"color\": \"#FECB52\"}, \"name\": \"Country=Ghana\", \"nbinsx\": 10, \"offsetgroup\": \"Country=Ghana\", \"orientation\": \"v\", \"showlegend\": true, \"type\": \"histogram\", \"x\": [43.705999999999996], \"xaxis\": \"x\", \"yaxis\": \"y\"}, {\"alignmentgroup\": \"True\", \"boxpoints\": \"all\", \"fillcolor\": \"rgba(255,255,255,0)\", \"hoverlabel\": {\"namelength\": 0}, \"hoveron\": \"points\", \"hovertemplate\": \"<b>%{hovertext}</b><br><br>Country=Ghana<br>mean_score=%{x}\", \"hovertext\": [\"Yes\"], \"jitter\": 0, \"legendgroup\": \"Country=Ghana\", \"line\": {\"color\": \"rgba(255,255,255,0)\"}, \"marker\": {\"color\": \"#FECB52\", \"symbol\": \"line-ns-open\"}, \"name\": \"Country=Ghana\", \"offsetgroup\": \"Country=Ghana\", \"showlegend\": false, \"type\": \"box\", \"x\": [43.705999999999996], \"xaxis\": \"x2\", \"yaxis\": \"y2\"}],\n",
              "                        {\"barmode\": \"relative\", \"font\": {\"family\": \"Rockwell\"}, \"legend\": {\"orientation\": \"h\", \"tracegroupgap\": 0, \"x\": 1.5, \"xanchor\": \"center\", \"y\": 0.5, \"yanchor\": \"bottom\"}, \"template\": {\"data\": {\"bar\": [{\"error_x\": {\"color\": \"#2a3f5f\"}, \"error_y\": {\"color\": \"#2a3f5f\"}, \"marker\": {\"line\": {\"color\": \"#E5ECF6\", \"width\": 0.5}}, \"type\": \"bar\"}], \"barpolar\": [{\"marker\": {\"line\": {\"color\": \"#E5ECF6\", \"width\": 0.5}}, \"type\": \"barpolar\"}], \"carpet\": [{\"aaxis\": {\"endlinecolor\": \"#2a3f5f\", \"gridcolor\": \"white\", \"linecolor\": \"white\", \"minorgridcolor\": \"white\", \"startlinecolor\": \"#2a3f5f\"}, \"baxis\": {\"endlinecolor\": \"#2a3f5f\", \"gridcolor\": \"white\", \"linecolor\": \"white\", \"minorgridcolor\": \"white\", \"startlinecolor\": \"#2a3f5f\"}, \"type\": \"carpet\"}], \"choropleth\": [{\"colorbar\": {\"outlinewidth\": 0, \"ticks\": \"\"}, \"type\": \"choropleth\"}], \"contour\": [{\"colorbar\": {\"outlinewidth\": 0, \"ticks\": \"\"}, \"colorscale\": [[0.0, \"#0d0887\"], [0.1111111111111111, \"#46039f\"], [0.2222222222222222, \"#7201a8\"], [0.3333333333333333, \"#9c179e\"], [0.4444444444444444, \"#bd3786\"], [0.5555555555555556, \"#d8576b\"], [0.6666666666666666, \"#ed7953\"], [0.7777777777777778, \"#fb9f3a\"], [0.8888888888888888, \"#fdca26\"], [1.0, \"#f0f921\"]], \"type\": \"contour\"}], \"contourcarpet\": [{\"colorbar\": {\"outlinewidth\": 0, \"ticks\": \"\"}, \"type\": \"contourcarpet\"}], \"heatmap\": [{\"colorbar\": {\"outlinewidth\": 0, \"ticks\": \"\"}, \"colorscale\": [[0.0, \"#0d0887\"], [0.1111111111111111, \"#46039f\"], [0.2222222222222222, \"#7201a8\"], [0.3333333333333333, \"#9c179e\"], [0.4444444444444444, \"#bd3786\"], [0.5555555555555556, \"#d8576b\"], [0.6666666666666666, \"#ed7953\"], [0.7777777777777778, \"#fb9f3a\"], [0.8888888888888888, \"#fdca26\"], [1.0, \"#f0f921\"]], \"type\": \"heatmap\"}], \"heatmapgl\": [{\"colorbar\": {\"outlinewidth\": 0, \"ticks\": \"\"}, \"colorscale\": [[0.0, \"#0d0887\"], [0.1111111111111111, \"#46039f\"], [0.2222222222222222, \"#7201a8\"], [0.3333333333333333, \"#9c179e\"], [0.4444444444444444, \"#bd3786\"], [0.5555555555555556, \"#d8576b\"], [0.6666666666666666, \"#ed7953\"], [0.7777777777777778, \"#fb9f3a\"], [0.8888888888888888, \"#fdca26\"], [1.0, \"#f0f921\"]], \"type\": \"heatmapgl\"}], \"histogram\": [{\"marker\": {\"colorbar\": {\"outlinewidth\": 0, \"ticks\": \"\"}}, \"type\": \"histogram\"}], \"histogram2d\": [{\"colorbar\": {\"outlinewidth\": 0, \"ticks\": \"\"}, \"colorscale\": [[0.0, \"#0d0887\"], [0.1111111111111111, \"#46039f\"], [0.2222222222222222, \"#7201a8\"], [0.3333333333333333, \"#9c179e\"], [0.4444444444444444, \"#bd3786\"], [0.5555555555555556, \"#d8576b\"], [0.6666666666666666, \"#ed7953\"], [0.7777777777777778, \"#fb9f3a\"], [0.8888888888888888, \"#fdca26\"], [1.0, \"#f0f921\"]], \"type\": \"histogram2d\"}], \"histogram2dcontour\": [{\"colorbar\": {\"outlinewidth\": 0, \"ticks\": \"\"}, \"colorscale\": [[0.0, \"#0d0887\"], [0.1111111111111111, \"#46039f\"], [0.2222222222222222, \"#7201a8\"], [0.3333333333333333, \"#9c179e\"], [0.4444444444444444, \"#bd3786\"], [0.5555555555555556, \"#d8576b\"], [0.6666666666666666, \"#ed7953\"], [0.7777777777777778, \"#fb9f3a\"], [0.8888888888888888, \"#fdca26\"], [1.0, \"#f0f921\"]], \"type\": \"histogram2dcontour\"}], \"mesh3d\": [{\"colorbar\": {\"outlinewidth\": 0, \"ticks\": \"\"}, \"type\": \"mesh3d\"}], \"parcoords\": [{\"line\": {\"colorbar\": {\"outlinewidth\": 0, \"ticks\": \"\"}}, \"type\": \"parcoords\"}], \"pie\": [{\"automargin\": true, \"type\": \"pie\"}], \"scatter\": [{\"marker\": {\"colorbar\": {\"outlinewidth\": 0, \"ticks\": \"\"}}, \"type\": \"scatter\"}], \"scatter3d\": [{\"line\": {\"colorbar\": {\"outlinewidth\": 0, \"ticks\": \"\"}}, \"marker\": {\"colorbar\": {\"outlinewidth\": 0, \"ticks\": \"\"}}, \"type\": \"scatter3d\"}], \"scattercarpet\": [{\"marker\": {\"colorbar\": {\"outlinewidth\": 0, \"ticks\": \"\"}}, \"type\": \"scattercarpet\"}], \"scattergeo\": [{\"marker\": {\"colorbar\": {\"outlinewidth\": 0, \"ticks\": \"\"}}, \"type\": \"scattergeo\"}], \"scattergl\": [{\"marker\": {\"colorbar\": {\"outlinewidth\": 0, \"ticks\": \"\"}}, \"type\": \"scattergl\"}], \"scattermapbox\": [{\"marker\": {\"colorbar\": {\"outlinewidth\": 0, \"ticks\": \"\"}}, \"type\": \"scattermapbox\"}], \"scatterpolar\": [{\"marker\": {\"colorbar\": {\"outlinewidth\": 0, \"ticks\": \"\"}}, \"type\": \"scatterpolar\"}], \"scatterpolargl\": [{\"marker\": {\"colorbar\": {\"outlinewidth\": 0, \"ticks\": \"\"}}, \"type\": \"scatterpolargl\"}], \"scatterternary\": [{\"marker\": {\"colorbar\": {\"outlinewidth\": 0, \"ticks\": \"\"}}, \"type\": \"scatterternary\"}], \"surface\": [{\"colorbar\": {\"outlinewidth\": 0, \"ticks\": \"\"}, \"colorscale\": [[0.0, \"#0d0887\"], [0.1111111111111111, \"#46039f\"], [0.2222222222222222, \"#7201a8\"], [0.3333333333333333, \"#9c179e\"], [0.4444444444444444, \"#bd3786\"], [0.5555555555555556, \"#d8576b\"], [0.6666666666666666, \"#ed7953\"], [0.7777777777777778, \"#fb9f3a\"], [0.8888888888888888, \"#fdca26\"], [1.0, \"#f0f921\"]], \"type\": \"surface\"}], \"table\": [{\"cells\": {\"fill\": {\"color\": \"#EBF0F8\"}, \"line\": {\"color\": \"white\"}}, \"header\": {\"fill\": {\"color\": \"#C8D4E3\"}, \"line\": {\"color\": \"white\"}}, \"type\": \"table\"}]}, \"layout\": {\"annotationdefaults\": {\"arrowcolor\": \"#2a3f5f\", \"arrowhead\": 0, \"arrowwidth\": 1}, \"coloraxis\": {\"colorbar\": {\"outlinewidth\": 0, \"ticks\": \"\"}}, \"colorscale\": {\"diverging\": [[0, \"#8e0152\"], [0.1, \"#c51b7d\"], [0.2, \"#de77ae\"], [0.3, \"#f1b6da\"], [0.4, \"#fde0ef\"], [0.5, \"#f7f7f7\"], [0.6, \"#e6f5d0\"], [0.7, \"#b8e186\"], [0.8, \"#7fbc41\"], [0.9, \"#4d9221\"], [1, \"#276419\"]], \"sequential\": [[0.0, \"#0d0887\"], [0.1111111111111111, \"#46039f\"], [0.2222222222222222, \"#7201a8\"], [0.3333333333333333, \"#9c179e\"], [0.4444444444444444, \"#bd3786\"], [0.5555555555555556, \"#d8576b\"], [0.6666666666666666, \"#ed7953\"], [0.7777777777777778, \"#fb9f3a\"], [0.8888888888888888, \"#fdca26\"], [1.0, \"#f0f921\"]], \"sequentialminus\": [[0.0, \"#0d0887\"], [0.1111111111111111, \"#46039f\"], [0.2222222222222222, \"#7201a8\"], [0.3333333333333333, \"#9c179e\"], [0.4444444444444444, \"#bd3786\"], [0.5555555555555556, \"#d8576b\"], [0.6666666666666666, \"#ed7953\"], [0.7777777777777778, \"#fb9f3a\"], [0.8888888888888888, \"#fdca26\"], [1.0, \"#f0f921\"]]}, \"colorway\": [\"#636efa\", \"#EF553B\", \"#00cc96\", \"#ab63fa\", \"#FFA15A\", \"#19d3f3\", \"#FF6692\", \"#B6E880\", \"#FF97FF\", \"#FECB52\"], \"font\": {\"color\": \"#2a3f5f\"}, \"geo\": {\"bgcolor\": \"white\", \"lakecolor\": \"white\", \"landcolor\": \"#E5ECF6\", \"showlakes\": true, \"showland\": true, \"subunitcolor\": \"white\"}, \"hoverlabel\": {\"align\": \"left\"}, \"hovermode\": \"closest\", \"mapbox\": {\"style\": \"light\"}, \"paper_bgcolor\": \"white\", \"plot_bgcolor\": \"#E5ECF6\", \"polar\": {\"angularaxis\": {\"gridcolor\": \"white\", \"linecolor\": \"white\", \"ticks\": \"\"}, \"bgcolor\": \"#E5ECF6\", \"radialaxis\": {\"gridcolor\": \"white\", \"linecolor\": \"white\", \"ticks\": \"\"}}, \"scene\": {\"xaxis\": {\"backgroundcolor\": \"#E5ECF6\", \"gridcolor\": \"white\", \"gridwidth\": 2, \"linecolor\": \"white\", \"showbackground\": true, \"ticks\": \"\", \"zerolinecolor\": \"white\"}, \"yaxis\": {\"backgroundcolor\": \"#E5ECF6\", \"gridcolor\": \"white\", \"gridwidth\": 2, \"linecolor\": \"white\", \"showbackground\": true, \"ticks\": \"\", \"zerolinecolor\": \"white\"}, \"zaxis\": {\"backgroundcolor\": \"#E5ECF6\", \"gridcolor\": \"white\", \"gridwidth\": 2, \"linecolor\": \"white\", \"showbackground\": true, \"ticks\": \"\", \"zerolinecolor\": \"white\"}}, \"shapedefaults\": {\"line\": {\"color\": \"#2a3f5f\"}}, \"ternary\": {\"aaxis\": {\"gridcolor\": \"white\", \"linecolor\": \"white\", \"ticks\": \"\"}, \"baxis\": {\"gridcolor\": \"white\", \"linecolor\": \"white\", \"ticks\": \"\"}, \"bgcolor\": \"#E5ECF6\", \"caxis\": {\"gridcolor\": \"white\", \"linecolor\": \"white\", \"ticks\": \"\"}}, \"title\": {\"x\": 0.05}, \"xaxis\": {\"automargin\": true, \"gridcolor\": \"white\", \"linecolor\": \"white\", \"ticks\": \"\", \"title\": {\"standoff\": 15}, \"zerolinecolor\": \"white\", \"zerolinewidth\": 2}, \"yaxis\": {\"automargin\": true, \"gridcolor\": \"white\", \"linecolor\": \"white\", \"ticks\": \"\", \"title\": {\"standoff\": 15}, \"zerolinecolor\": \"white\", \"zerolinewidth\": 2}}}, \"title\": {\"text\": \"Score Distribution and Drop_Outs\"}, \"xaxis\": {\"anchor\": \"y\", \"domain\": [0.0, 1.0], \"title\": {\"text\": \"mean_score\"}}, \"xaxis2\": {\"anchor\": \"y2\", \"domain\": [0.0, 1.0], \"matches\": \"x\", \"showgrid\": true, \"showticklabels\": false}, \"yaxis\": {\"anchor\": \"x\", \"domain\": [0.0, 0.7326], \"title\": {\"text\": \"count\"}}, \"yaxis2\": {\"anchor\": \"x2\", \"domain\": [0.7426, 1.0], \"matches\": \"y2\", \"showgrid\": false, \"showline\": false, \"showticklabels\": false, \"ticks\": \"\"}},\n",
              "                        {\"responsive\": true}\n",
              "                    ).then(function(){\n",
              "                            \n",
              "var gd = document.getElementById('ea418783-20f4-4386-8711-f9186522b655');\n",
              "var x = new MutationObserver(function (mutations, observer) {{\n",
              "        var display = window.getComputedStyle(gd).display;\n",
              "        if (!display || display === 'none') {{\n",
              "            console.log([gd, 'removed!']);\n",
              "            Plotly.purge(gd);\n",
              "            observer.disconnect();\n",
              "        }}\n",
              "}});\n",
              "\n",
              "// Listen for the removal of the full notebook cells\n",
              "var notebookContainer = gd.closest('#notebook-container');\n",
              "if (notebookContainer) {{\n",
              "    x.observe(notebookContainer, {childList: true});\n",
              "}}\n",
              "\n",
              "// Listen for the clearing of the current output cell\n",
              "var outputEl = gd.closest('.output');\n",
              "if (outputEl) {{\n",
              "    x.observe(outputEl, {childList: true});\n",
              "}}\n",
              "\n",
              "                        })\n",
              "                };\n",
              "                \n",
              "            </script>\n",
              "        </div>\n",
              "</body>\n",
              "</html>"
            ]
          },
          "metadata": {
            "tags": []
          }
        }
      ]
    },
    {
      "cell_type": "markdown",
      "metadata": {
        "id": "HW5DJTAGZ04R"
      },
      "source": [
        "## Let us replace the variable values to Numerical form & display the Value Counts\n",
        "This is to avoid disturbance in building the model\n"
      ]
    },
    {
      "cell_type": "code",
      "metadata": {
        "colab": {
          "base_uri": "https://localhost:8080/"
        },
        "id": "c-OA7LfzZwS_",
        "outputId": "2fa0bf1c-e932-4e4c-e838-eb7b17bd00be"
      },
      "source": [
        "student_df['Drop_out'].replace('Yes', 1, inplace=True)\n",
        "student_df['Drop_out'].replace('No', 0, inplace=True)\n",
        "\n",
        "student_df['Drop_out'].value_counts()\n",
        "\n",
        "student_df.Gender = student_df.Gender.map({'Male': 1, 'Female':0})\n",
        "\n",
        "student_df['Overal_<60_?'].replace('Yes', 1, inplace=True)\n",
        "student_df['Overal_<60_?'].replace('No', 0, inplace=True)\n",
        "\n",
        "student_df['LevelStatus'].value_counts()"
      ],
      "execution_count": 27,
      "outputs": [
        {
          "output_type": "execute_result",
          "data": {
            "text/plain": [
              "Student accepted to join    226\n",
              "Name: LevelStatus, dtype: int64"
            ]
          },
          "metadata": {
            "tags": []
          },
          "execution_count": 27
        }
      ]
    },
    {
      "cell_type": "markdown",
      "metadata": {
        "id": "Uo_4UTNBZ-6f"
      },
      "source": [
        "## Final DataFrame"
      ]
    },
    {
      "cell_type": "code",
      "metadata": {
        "colab": {
          "base_uri": "https://localhost:8080/",
          "height": 413
        },
        "id": "NE3UDi48Z726",
        "outputId": "92548f2c-4350-40fd-f8e6-43a8d53c6e6b"
      },
      "source": [
        "student_df.head()"
      ],
      "execution_count": 28,
      "outputs": [
        {
          "output_type": "execute_result",
          "data": {
            "text/html": [
              "<div>\n",
              "<style scoped>\n",
              "    .dataframe tbody tr th:only-of-type {\n",
              "        vertical-align: middle;\n",
              "    }\n",
              "\n",
              "    .dataframe tbody tr th {\n",
              "        vertical-align: top;\n",
              "    }\n",
              "\n",
              "    .dataframe thead th {\n",
              "        text-align: right;\n",
              "    }\n",
              "</style>\n",
              "<table border=\"1\" class=\"dataframe\">\n",
              "  <thead>\n",
              "    <tr style=\"text-align: right;\">\n",
              "      <th></th>\n",
              "      <th>Gender</th>\n",
              "      <th>Age</th>\n",
              "      <th>20-25_years</th>\n",
              "      <th>&gt;28_years</th>\n",
              "      <th>&gt;30_years</th>\n",
              "      <th>Country</th>\n",
              "      <th>LevelStatus</th>\n",
              "      <th>Score_1</th>\n",
              "      <th>Score_2</th>\n",
              "      <th>Score_3</th>\n",
              "      <th>Score_4</th>\n",
              "      <th>Score_5</th>\n",
              "      <th>mean_score</th>\n",
              "      <th>Overal_&lt;60_?</th>\n",
              "      <th>Drop_out</th>\n",
              "    </tr>\n",
              "  </thead>\n",
              "  <tbody>\n",
              "    <tr>\n",
              "      <th>0</th>\n",
              "      <td>1</td>\n",
              "      <td>21.0</td>\n",
              "      <td>1.0</td>\n",
              "      <td>0.0</td>\n",
              "      <td>0.0</td>\n",
              "      <td>Ethiopia</td>\n",
              "      <td>Student accepted to join</td>\n",
              "      <td>23.72</td>\n",
              "      <td>31.50</td>\n",
              "      <td>34.65</td>\n",
              "      <td>39.53</td>\n",
              "      <td>45.61</td>\n",
              "      <td>35.002</td>\n",
              "      <td>1</td>\n",
              "      <td>1</td>\n",
              "    </tr>\n",
              "    <tr>\n",
              "      <th>1</th>\n",
              "      <td>1</td>\n",
              "      <td>29.0</td>\n",
              "      <td>0.0</td>\n",
              "      <td>1.0</td>\n",
              "      <td>0.0</td>\n",
              "      <td>Eswatini</td>\n",
              "      <td>Student accepted to join</td>\n",
              "      <td>0.00</td>\n",
              "      <td>4.55</td>\n",
              "      <td>5.00</td>\n",
              "      <td>0.00</td>\n",
              "      <td>0.00</td>\n",
              "      <td>1.910</td>\n",
              "      <td>1</td>\n",
              "      <td>1</td>\n",
              "    </tr>\n",
              "    <tr>\n",
              "      <th>2</th>\n",
              "      <td>1</td>\n",
              "      <td>24.0</td>\n",
              "      <td>1.0</td>\n",
              "      <td>0.0</td>\n",
              "      <td>0.0</td>\n",
              "      <td>Ivory Coast</td>\n",
              "      <td>Student accepted to join</td>\n",
              "      <td>2.65</td>\n",
              "      <td>7.56</td>\n",
              "      <td>8.31</td>\n",
              "      <td>4.42</td>\n",
              "      <td>5.10</td>\n",
              "      <td>5.608</td>\n",
              "      <td>1</td>\n",
              "      <td>1</td>\n",
              "    </tr>\n",
              "    <tr>\n",
              "      <th>3</th>\n",
              "      <td>1</td>\n",
              "      <td>23.0</td>\n",
              "      <td>1.0</td>\n",
              "      <td>0.0</td>\n",
              "      <td>0.0</td>\n",
              "      <td>Nigeria</td>\n",
              "      <td>Student accepted to join</td>\n",
              "      <td>10.21</td>\n",
              "      <td>15.69</td>\n",
              "      <td>17.25</td>\n",
              "      <td>16.34</td>\n",
              "      <td>18.85</td>\n",
              "      <td>15.668</td>\n",
              "      <td>1</td>\n",
              "      <td>1</td>\n",
              "    </tr>\n",
              "    <tr>\n",
              "      <th>4</th>\n",
              "      <td>1</td>\n",
              "      <td>21.0</td>\n",
              "      <td>1.0</td>\n",
              "      <td>0.0</td>\n",
              "      <td>0.0</td>\n",
              "      <td>Rwanda</td>\n",
              "      <td>Student accepted to join</td>\n",
              "      <td>3.16</td>\n",
              "      <td>8.13</td>\n",
              "      <td>8.95</td>\n",
              "      <td>5.26</td>\n",
              "      <td>6.07</td>\n",
              "      <td>6.314</td>\n",
              "      <td>1</td>\n",
              "      <td>1</td>\n",
              "    </tr>\n",
              "  </tbody>\n",
              "</table>\n",
              "</div>"
            ],
            "text/plain": [
              "   Gender   Age  20-25_years  ...  mean_score  Overal_<60_? Drop_out\n",
              "0       1  21.0          1.0  ...      35.002             1        1\n",
              "1       1  29.0          0.0  ...       1.910             1        1\n",
              "2       1  24.0          1.0  ...       5.608             1        1\n",
              "3       1  23.0          1.0  ...      15.668             1        1\n",
              "4       1  21.0          1.0  ...       6.314             1        1\n",
              "\n",
              "[5 rows x 15 columns]"
            ]
          },
          "metadata": {
            "tags": []
          },
          "execution_count": 28
        }
      ]
    },
    {
      "cell_type": "markdown",
      "metadata": {
        "id": "1riuUGX1aEw4"
      },
      "source": [
        "# Importing packages for classification Algortithm"
      ]
    },
    {
      "cell_type": "code",
      "metadata": {
        "id": "JeiGTu90aBiK"
      },
      "source": [
        "from sklearn.model_selection import train_test_split\n",
        "from sklearn.linear_model import LogisticRegression\n",
        "from sklearn import metrics"
      ],
      "execution_count": 29,
      "outputs": []
    },
    {
      "cell_type": "code",
      "metadata": {
        "id": "XxqyZrkvaHhJ"
      },
      "source": [
        "#split the data into training and test sets\n",
        "X = student_df.iloc[:,[0,1, 7,8,9,10,11]]\n",
        "Y = student_df.iloc[:, 14]\n",
        "\n",
        "X_train, X_test, y_train, y_test = train_test_split(X, Y, test_size = 0.3, random_state = 0)"
      ],
      "execution_count": 30,
      "outputs": []
    },
    {
      "cell_type": "markdown",
      "metadata": {
        "id": "gIMEBJoMaPO_"
      },
      "source": [
        "\"\"\"# Logistic Regression (LR)\n",
        "Logistic regression is a supervised learning classification algorithm used to predict the probability of a target variable.\n",
        "Mathematically, a logistic regression model predicts P(Y=1) as a function of X. It is one of the simplest ML algorithms that can be used for various classification problems such as spam detection, Diabetes prediction, cancer detection etc.\n",
        "\n",
        "\n",
        "![image](data:image/jpeg;base64,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)\n",
        "\"\"\""
      ]
    },
    {
      "cell_type": "code",
      "metadata": {
        "colab": {
          "base_uri": "https://localhost:8080/"
        },
        "id": "ayDCAb9DaNQA",
        "outputId": "3dce83c9-e8ea-475e-82ef-6fedfb3bd525"
      },
      "source": [
        "model = LogisticRegression()\n",
        "model.fit(X_train, y_train)\n",
        "\n",
        "lr_prediction = model.predict(X_test)\n",
        "print('Logistic regression accuracy {}'.format(metrics.accuracy_score(lr_prediction, y_test)))"
      ],
      "execution_count": 31,
      "outputs": [
        {
          "output_type": "stream",
          "text": [
            "Logistic regression accuracy 0.8970588235294118\n"
          ],
          "name": "stdout"
        }
      ]
    },
    {
      "cell_type": "code",
      "metadata": {
        "colab": {
          "base_uri": "https://localhost:8080/"
        },
        "id": "CmWb-nQoaVzE",
        "outputId": "42788f64-f664-49e9-a987-b98a34572cb6"
      },
      "source": [
        "print(\"y_predicted\", lr_prediction)\n",
        "print(\"y_test\", y_test)"
      ],
      "execution_count": 32,
      "outputs": [
        {
          "output_type": "stream",
          "text": [
            "y_predicted [1 1 1 0 1 0 1 1 0 0 1 1 1 1 0 1 0 1 1 0 1 0 0 0 1 1 0 1 1 1 1 0 1 0 0 1 1\n",
            " 0 1 1 0 0 1 1 1 1 1 0 1 0 1 0 0 1 1 0 1 0 0 1 1 1 1 0 1 1 1 1]\n",
            "y_test 130    1\n",
            "83     1\n",
            "158    1\n",
            "184    0\n",
            "76     1\n",
            "      ..\n",
            "157    1\n",
            "4      1\n",
            "110    1\n",
            "61     1\n",
            "52     1\n",
            "Name: Drop_out, Length: 68, dtype: int64\n"
          ],
          "name": "stdout"
        }
      ]
    },
    {
      "cell_type": "markdown",
      "metadata": {
        "id": "W54kYs6dad0C"
      },
      "source": [
        "# Conclusion \n",
        "1. The drop out is heavily dependent on the Scores for prediction\n",
        "2. The Logistic Regression algorithm gives us the maximum Accuracy (89% approx) compared to the other 3 Machine Learning Classification Algorithms."
      ]
    }
  ]
}