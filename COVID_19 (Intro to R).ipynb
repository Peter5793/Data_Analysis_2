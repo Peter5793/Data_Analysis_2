{
    "cells": [
        {
            "cell_type": "markdown",
            "metadata": {},
            "source": "<a href=\"https://cognitiveclass.ai/?utm_medium=Exinfluencer&utm_source=Exinfluencer&utm_content=000026UJ&utm_term=10006555&utm_id=NA-SkillsNetwork-Channel-SkillsNetworkCoursesIBMDeveloperSkillsNetworkRP0101ENCoursera23911160-2021-01-01\">\n    <img src=\"https://cf-courses-data.s3.us.cloud-object-storage.appdomain.cloud/IBMDeveloperSkillsNetwork-RP0101EN-Coursera/v2/M1_R_Basics/images/IDSNlogo.png\" width=\"200\" align=\"center\">\n</a>\n"
        },
        {
            "cell_type": "markdown",
            "metadata": {},
            "source": "<h1>Analysis of Global COVID-19 Pandemic Data</h1>\n\nEstimated time needed: **90** minutes\n"
        },
        {
            "cell_type": "markdown",
            "metadata": {},
            "source": "## Overview:\n\nThere are 10 tasks in this final project. All tasks will be graded by your peers who are also completing this assignment within the same session.\n\nYou need to submit the following the screenshot for the code and output for each task for review.\n\nIf you need to refresh your memories about specific coding details, you may refer to previous hands-on labs for code examples.\n"
        },
        {
            "cell_type": "code",
            "execution_count": 1,
            "metadata": {},
            "outputs": [
                {
                    "name": "stderr",
                    "output_type": "stream",
                    "text": "Loading required package: httr\nLoading required package: rvest\nLoading required package: xml2\nRegistered S3 method overwritten by 'rvest':\n  method            from\n  read_xml.response xml2\n"
                }
            ],
            "source": "require(\"httr\")\nrequire(\"rvest\")\n\nlibrary(httr)\nlibrary(rvest)"
        },
        {
            "cell_type": "markdown",
            "metadata": {},
            "source": "Note: if you can import above libraries, please use install.packages() to install them first.\n"
        },
        {
            "cell_type": "markdown",
            "metadata": {},
            "source": "## TASK 1: Get a `COVID-19 pandemic` Wiki page using HTTP request\n"
        },
        {
            "cell_type": "markdown",
            "metadata": {},
            "source": "First, let's write a function to use HTTP request to get a public COVID-19 Wiki page.\n\nBefore you write the function, you can open this public page from this\n\nURL [https://en.wikipedia.org/w/index.php?title=Template\\:COVID-19\\_testing_by_country](https://en.wikipedia.org/w/index.php?utm_medium=Exinfluencer&utm_source=Exinfluencer&utm_content=000026UJ&utm_term=10006555&utm_id=NA-SkillsNetwork-Channel-SkillsNetworkCoursesIBMDeveloperSkillsNetworkRP0101ENCoursera23911160-2021-01-01&title=Template%3ACOVID-19\\_testing_by_country) using a web browser.\n\nThe goal of task 1 is to get the html page using HTTP request (`httr` library)\n"
        },
        {
            "cell_type": "code",
            "execution_count": 13,
            "metadata": {},
            "outputs": [],
            "source": "\nget_wiki_covid19_page <- function() {\n    \n  # Our target COVID-19 wiki page URL is: https://en.wikipedia.org/w/index.php?title=Template:COVID-19_testing_by_country  \n  # Which has two parts: \n    # 1) base URL `https://en.wikipedia.org/w/index.php  \n    # 2) URL parameter: `title=Template:COVID-19_testing_by_country`, seperated by question mark ?\n    \n  # Wiki page base\n  wiki_base_url <- \"https://en.wikipedia.org/w/index.php\"\n  # You will need to create a List which has an element called `title` to specify which page you want to get from Wiki\n  # in our case, it will be `Template:COVID-19_testing_by_country`\n \n  # - Use the `GET` function in httr library with a `url` argument and a `query` arugment to get a HTTP response\n    \n  # Use the `return` function to return the response\n    \n#adding the url parameters to the GET API creating a named list with parameters\n# and values\n    query_params <- list(title = 'Template:COVID-19_testing_by_country' )\n    response <- GET(wiki_base_url, query = query_params)\n    return (response)\n\n}\n\n\n"
        },
        {
            "cell_type": "code",
            "execution_count": 11,
            "metadata": {
                "scrolled": true
            },
            "outputs": [
                {
                    "data": {
                        "text/plain": "Response [https://en.wikipedia.org/w/index.php?title=Template%3ACOVID-19_testing_by_country]\n  Date: 2021-08-10 13:03\n  Status: 200\n  Content-Type: text/html; charset=UTF-8\n  Size: 406 kB\n<!DOCTYPE html>\n<html class=\"client-nojs\" lang=\"en\" dir=\"ltr\">\n<head>\n<meta charset=\"UTF-8\"/>\n<title>Template:COVID-19 testing by country - Wikipedia</title>\n<script>document.documentElement.className=\"client-js\";RLCONF={\"wgBreakFrames...\n\"CS1 German-language sources (de)\",\"CS1 Azerbaijani-language sources (az)\",\"C...\n\"CS1 uses Japanese-language script (ja)\",\"CS1 Japanese-language sources (ja)\"...\n\"COVID-19 pandemic templates\"],\"wgPageContentLanguage\":\"en\",\"wgPageContentMod...\n\"wgGEAskQuestionEnabled\":!1,\"wgGELinkRecommendationsFrontendEnabled\":!1,\"wgWi...\n..."
                    },
                    "metadata": {},
                    "output_type": "display_data"
                }
            ],
            "source": "wiki_base_url <- \"https://en.wikipedia.org/w/index.php\"\n#adding the url parameters to the GET API creating a named list with parameters\n# and values\nquery_params <- list(title = 'Template:COVID-19_testing_by_country' )\nresponse <- GET(wiki_base_url, query = query_params)\nresponse"
        },
        {
            "cell_type": "code",
            "execution_count": 10,
            "metadata": {},
            "outputs": [
                {
                    "data": {
                        "text/plain": "{xml_document}\n<html class=\"client-nojs\" lang=\"en\" dir=\"ltr\">\n[1] <head>\\n<meta http-equiv=\"Content-Type\" content=\"text/html; charset=UTF-8 ...\n[2] <body class=\"mediawiki ltr sitedir-ltr mw-hide-empty-elt ns-10 ns-subject ..."
                    },
                    "metadata": {},
                    "output_type": "display_data"
                }
            ],
            "source": "content(response)"
        },
        {
            "cell_type": "markdown",
            "metadata": {},
            "source": "Call the `get_wiki_covid19_page` function to get a http response with the target html page\n"
        },
        {
            "cell_type": "code",
            "execution_count": 15,
            "metadata": {},
            "outputs": [
                {
                    "data": {
                        "text/plain": "Response [https://en.wikipedia.org/w/index.php?title=Template%3ACOVID-19_testing_by_country]\n  Date: 2021-08-10 13:06\n  Status: 200\n  Content-Type: text/html; charset=UTF-8\n  Size: 406 kB\n<!DOCTYPE html>\n<html class=\"client-nojs\" lang=\"en\" dir=\"ltr\">\n<head>\n<meta charset=\"UTF-8\"/>\n<title>Template:COVID-19 testing by country - Wikipedia</title>\n<script>document.documentElement.className=\"client-js\";RLCONF={\"wgBreakFrames...\n\"CS1 German-language sources (de)\",\"CS1 Azerbaijani-language sources (az)\",\"C...\n\"CS1 uses Japanese-language script (ja)\",\"CS1 Japanese-language sources (ja)\"...\n\"COVID-19 pandemic templates\"],\"wgPageContentLanguage\":\"en\",\"wgPageContentMod...\n\"wgGEAskQuestionEnabled\":!1,\"wgGELinkRecommendationsFrontendEnabled\":!1,\"wgWi...\n..."
                    },
                    "metadata": {},
                    "output_type": "display_data"
                }
            ],
            "source": "# Call the get_wiki_covid19_page function and print the response\nget_wiki_covid19_page()"
        },
        {
            "cell_type": "markdown",
            "metadata": {},
            "source": "## TASK 2: Extract COVID-19 testing data table from the wiki HTML page\n"
        },
        {
            "cell_type": "markdown",
            "metadata": {},
            "source": "On the COVID-19 testing wiki page, you should see a data table `<table>` node contains COVID-19 testing data by country on the page:\n\n<a href=\"https://cognitiveclass.ai/?utm_medium=Exinfluencer&utm_source=Exinfluencer&utm_content=000026UJ&utm_term=10006555&utm_id=NA-SkillsNetwork-Channel-SkillsNetworkCoursesIBMDeveloperSkillsNetworkRP0101ENCoursera23911160-2021-01-01\">\n    <img src=\"https://cf-courses-data.s3.us.cloud-object-storage.appdomain.cloud/IBMDeveloperSkillsNetwork-RP0101EN-Coursera/v2/M5_Final/images/covid-19-by-country.png\" width=\"400\" align=\"center\">\n</a>\n\nNote the numbers you actually see on your page may be different from above because it is still an on-going pandemic when creating this notebook.\n\nThe goal of task 2 is to extract above data table and convert it into a data frame\n"
        },
        {
            "cell_type": "markdown",
            "metadata": {},
            "source": "Now use the `read_html` function in rvest library to get the root html node from response\n"
        },
        {
            "cell_type": "code",
            "execution_count": 16,
            "metadata": {},
            "outputs": [
                {
                    "data": {
                        "text/plain": "{xml_document}\n<html class=\"client-nojs\" lang=\"en\" dir=\"ltr\">\n[1] <head>\\n<meta http-equiv=\"Content-Type\" content=\"text/html; charset=UTF-8 ...\n[2] <body class=\"mediawiki ltr sitedir-ltr mw-hide-empty-elt ns-10 ns-subject ..."
                    },
                    "metadata": {},
                    "output_type": "display_data"
                }
            ],
            "source": "# Get the root html node from the http response in task 1 \nroot_node <- read_html(response)\nroot_node"
        },
        {
            "cell_type": "code",
            "execution_count": 17,
            "metadata": {},
            "outputs": [
                {
                    "data": {
                        "text/html": "<ol class=list-inline>\n\t<li>'xml_document'</li>\n\t<li>'xml_node'</li>\n</ol>\n",
                        "text/latex": "\\begin{enumerate*}\n\\item 'xml\\_document'\n\\item 'xml\\_node'\n\\end{enumerate*}\n",
                        "text/markdown": "1. 'xml_document'\n2. 'xml_node'\n\n\n",
                        "text/plain": "[1] \"xml_document\" \"xml_node\"    "
                    },
                    "metadata": {},
                    "output_type": "display_data"
                }
            ],
            "source": "class(root_node)"
        },
        {
            "cell_type": "markdown",
            "metadata": {},
            "source": "Get the first table in the HTML root node using `html_node` function\n"
        },
        {
            "cell_type": "code",
            "execution_count": 18,
            "metadata": {},
            "outputs": [
                {
                    "data": {
                        "text/plain": "{xml_node}\n<table class=\"wikitable plainrowheaders sortable collapsible autocollapse\">\n[1] <caption>\\n<style data-mw-deduplicate=\"TemplateStyles:r992953826\">.mw-par ...\n[2] <tbody>\\n<tr>\\n<th>Country or region\\n</th>\\n<th>Date<sup id=\"cite_ref-1\" ..."
                    },
                    "metadata": {},
                    "output_type": "display_data"
                }
            ],
            "source": "# Get the table node from the root html node\nroot_node <-read_html(response)\ntable_node <- html_node(root_node, \"table\")\ntable_node"
        },
        {
            "cell_type": "markdown",
            "metadata": {},
            "source": "Read the table node as a data frame using `html_table` function\n"
        },
        {
            "cell_type": "code",
            "execution_count": 21,
            "metadata": {},
            "outputs": [
                {
                    "data": {
                        "text/html": "<table>\n<thead><tr><th scope=col>Country or region</th><th scope=col>Date[a]</th><th scope=col>Tested</th><th scope=col>Units[b]</th><th scope=col>Confirmed(cases)</th><th scope=col>Confirmed\u2009/tested,%</th><th scope=col>Tested\u2009/population,%</th><th scope=col>Confirmed\u2009/population,%</th><th scope=col>Ref.</th></tr></thead>\n<tbody>\n\t<tr><td>Afghanistan        </td><td>17 Dec 2020        </td><td>154,767            </td><td>samples            </td><td>49,621             </td><td>32.1               </td><td>0.40               </td><td>0.13               </td><td>[1]                </td></tr>\n\t<tr><td>Albania            </td><td>18 Feb 2021        </td><td>428,654            </td><td>samples            </td><td>96,838             </td><td>22.6               </td><td>15.0               </td><td>3.4                </td><td>[2]                </td></tr>\n\t<tr><td>Algeria            </td><td>2 Nov 2020         </td><td>230,553            </td><td>samples            </td><td>58,574             </td><td>25.4               </td><td>0.53               </td><td>0.13               </td><td>[3][4]             </td></tr>\n\t<tr><td>Andorra            </td><td>2 Aug 2021         </td><td>204,740            </td><td>samples            </td><td>14,748             </td><td>7.2                </td><td>264                </td><td>19.0               </td><td>[5]                </td></tr>\n\t<tr><td>Angola             </td><td>12 Mar 2021        </td><td>399,228            </td><td>samples            </td><td>20,981             </td><td>5.3                </td><td>1.3                </td><td>0.067              </td><td>[6]                </td></tr>\n\t<tr><td>Antigua and Barbuda</td><td>6 Mar 2021         </td><td>15,268             </td><td>samples            </td><td>832                </td><td>5.4                </td><td>15.9               </td><td>0.86               </td><td>[7]                </td></tr>\n</tbody>\n</table>\n",
                        "text/latex": "\\begin{tabular}{r|lllllllll}\n Country or region & Date{[}a{]} & Tested & Units{[}b{]} & Confirmed(cases) & Confirmed\u2009/tested,\\% & Tested\u2009/population,\\% & Confirmed\u2009/population,\\% & Ref.\\\\\n\\hline\n\t Afghanistan         & 17 Dec 2020         & 154,767             & samples             & 49,621              & 32.1                & 0.40                & 0.13                & {[}1{]}            \\\\\n\t Albania             & 18 Feb 2021         & 428,654             & samples             & 96,838              & 22.6                & 15.0                & 3.4                 & {[}2{]}            \\\\\n\t Algeria             & 2 Nov 2020          & 230,553             & samples             & 58,574              & 25.4                & 0.53                & 0.13                & {[}3{]}{[}4{]}     \\\\\n\t Andorra             & 2 Aug 2021          & 204,740             & samples             & 14,748              & 7.2                 & 264                 & 19.0                & {[}5{]}            \\\\\n\t Angola              & 12 Mar 2021         & 399,228             & samples             & 20,981              & 5.3                 & 1.3                 & 0.067               & {[}6{]}            \\\\\n\t Antigua and Barbuda & 6 Mar 2021          & 15,268              & samples             & 832                 & 5.4                 & 15.9                & 0.86                & {[}7{]}            \\\\\n\\end{tabular}\n",
                        "text/markdown": "\n| Country or region | Date[a] | Tested | Units[b] | Confirmed(cases) | Confirmed\u2009/tested,% | Tested\u2009/population,% | Confirmed\u2009/population,% | Ref. |\n|---|---|---|---|---|---|---|---|---|\n| Afghanistan         | 17 Dec 2020         | 154,767             | samples             | 49,621              | 32.1                | 0.40                | 0.13                | [1]                 |\n| Albania             | 18 Feb 2021         | 428,654             | samples             | 96,838              | 22.6                | 15.0                | 3.4                 | [2]                 |\n| Algeria             | 2 Nov 2020          | 230,553             | samples             | 58,574              | 25.4                | 0.53                | 0.13                | [3][4]              |\n| Andorra             | 2 Aug 2021          | 204,740             | samples             | 14,748              | 7.2                 | 264                 | 19.0                | [5]                 |\n| Angola              | 12 Mar 2021         | 399,228             | samples             | 20,981              | 5.3                 | 1.3                 | 0.067               | [6]                 |\n| Antigua and Barbuda | 6 Mar 2021          | 15,268              | samples             | 832                 | 5.4                 | 15.9                | 0.86                | [7]                 |\n\n",
                        "text/plain": "  Country or region   Date[a]     Tested  Units[b] Confirmed(cases)\n1 Afghanistan         17 Dec 2020 154,767 samples  49,621          \n2 Albania             18 Feb 2021 428,654 samples  96,838          \n3 Algeria             2 Nov 2020  230,553 samples  58,574          \n4 Andorra             2 Aug 2021  204,740 samples  14,748          \n5 Angola              12 Mar 2021 399,228 samples  20,981          \n6 Antigua and Barbuda 6 Mar 2021  15,268  samples  832             \n  Confirmed\u2009/tested,% Tested\u2009/population,% Confirmed\u2009/population,% Ref.  \n1 32.1                0.40                 0.13                    [1]   \n2 22.6                15.0                 3.4                     [2]   \n3 25.4                0.53                 0.13                    [3][4]\n4 7.2                 264                  19.0                    [5]   \n5 5.3                 1.3                  0.067                   [6]   \n6 5.4                 15.9                 0.86                    [7]   "
                    },
                    "metadata": {},
                    "output_type": "display_data"
                }
            ],
            "source": "# Read the table node and convert it into a data frame, and print the data frame for review\ncovid_data_frame <- html_table(table_node)\nhead(covid_data_frame)"
        },
        {
            "cell_type": "markdown",
            "metadata": {},
            "source": "## TASK 3: Pre-process and export the extracted data frame\n\nThe goal of task 3 is to pre-process the extracted data frame from the previous step, and export it as a csv file\n"
        },
        {
            "cell_type": "markdown",
            "metadata": {},
            "source": "Let's get a summary of the data frame\n"
        },
        {
            "cell_type": "code",
            "execution_count": 23,
            "metadata": {},
            "outputs": [
                {
                    "data": {
                        "text/plain": " Country or region    Date[a]             Tested            Units[b]        \n Length:173         Length:173         Length:173         Length:173        \n Class :character   Class :character   Class :character   Class :character  \n Mode  :character   Mode  :character   Mode  :character   Mode  :character  \n Confirmed(cases)   Confirmed\u2009/tested,% Tested\u2009/population,%\n Length:173         Length:173          Length:173          \n Class :character   Class :character    Class :character    \n Mode  :character   Mode  :character    Mode  :character    \n Confirmed\u2009/population,%     Ref.          \n Length:173              Length:173        \n Class :character        Class :character  \n Mode  :character        Mode  :character  "
                    },
                    "metadata": {},
                    "output_type": "display_data"
                }
            ],
            "source": "# Print the summary of the data frame\nsummary(covid_data_frame)"
        },
        {
            "cell_type": "markdown",
            "metadata": {},
            "source": "As you can see from the summary, the columns names are little bit different to understand and some column data types are not correct. For example, the `Tested` column shows as `character`.\n\nAs such, the data frame read from HTML table will need some pre-processing such as removing irrelvant columns, renaming columns, and convert columns into proper data types.\n"
        },
        {
            "cell_type": "markdown",
            "metadata": {},
            "source": "We have prepared a pre-processing function for you to conver the data frame but you can also try to write one by yourself\n"
        },
        {
            "cell_type": "code",
            "execution_count": 24,
            "metadata": {},
            "outputs": [],
            "source": "preprocess_covid_data_frame <- function(data_frame) {\n    \n    shape <- dim(data_frame)\n\n    # Remove the World row\n    data_frame<-data_frame[!(data_frame$`Country or region`==\"World\"),]\n    # Remove the last row\n    data_frame <- data_frame[1:172, ]\n    \n    # We dont need the Units and Ref columns, so can be removed\n    data_frame[\"Ref.\"] <- NULL\n    data_frame[\"Units[b]\"] <- NULL\n    \n    # Renaming the columns\n    names(data_frame) <- c(\"country\", \"date\", \"tested\", \"confirmed\", \"confirmed.tested.ratio\", \"tested.population.ratio\", \"confirmed.population.ratio\")\n    \n    # Convert column data types\n    data_frame$country <- as.factor(data_frame$country)\n    data_frame$date <- as.factor(data_frame$date)\n    data_frame$tested <- as.numeric(gsub(\",\",\"\",data_frame$tested))\n    data_frame$confirmed <- as.numeric(gsub(\",\",\"\",data_frame$confirmed))\n    data_frame$'confirmed.tested.ratio' <- as.numeric(gsub(\",\",\"\",data_frame$`confirmed.tested.ratio`))\n    data_frame$'tested.population.ratio' <- as.numeric(gsub(\",\",\"\",data_frame$`tested.population.ratio`))\n    data_frame$'confirmed.population.ratio' <- as.numeric(gsub(\",\",\"\",data_frame$`confirmed.population.ratio`))\n    \n    return(data_frame)\n}\n\n"
        },
        {
            "cell_type": "markdown",
            "metadata": {},
            "source": "Call the `preprocess_covid_data_frame` function\n"
        },
        {
            "cell_type": "code",
            "execution_count": 25,
            "metadata": {},
            "outputs": [
                {
                    "data": {
                        "text/html": "<table>\n<thead><tr><th scope=col>country</th><th scope=col>date</th><th scope=col>tested</th><th scope=col>confirmed</th><th scope=col>confirmed.tested.ratio</th><th scope=col>tested.population.ratio</th><th scope=col>confirmed.population.ratio</th></tr></thead>\n<tbody>\n\t<tr><td>Afghanistan           </td><td>17 Dec 2020           </td><td>  154767              </td><td>   49621              </td><td>32.10                 </td><td>  0.40                </td><td> 0.1300               </td></tr>\n\t<tr><td>Albania               </td><td>18 Feb 2021           </td><td>  428654              </td><td>   96838              </td><td>22.60                 </td><td> 15.00                </td><td> 3.4000               </td></tr>\n\t<tr><td>Algeria               </td><td>2 Nov 2020            </td><td>  230553              </td><td>   58574              </td><td>25.40                 </td><td>  0.53                </td><td> 0.1300               </td></tr>\n\t<tr><td>Andorra               </td><td>2 Aug 2021            </td><td>  204740              </td><td>   14748              </td><td> 7.20                 </td><td>264.00                </td><td>19.0000               </td></tr>\n\t<tr><td>Angola                </td><td>12 Mar 2021           </td><td>  399228              </td><td>   20981              </td><td> 5.30                 </td><td>  1.30                </td><td> 0.0670               </td></tr>\n\t<tr><td>Antigua and Barbuda   </td><td>6 Mar 2021            </td><td>   15268              </td><td>     832              </td><td> 5.40                 </td><td> 15.90                </td><td> 0.8600               </td></tr>\n\t<tr><td>Argentina             </td><td>7 Aug 2021            </td><td>20076112              </td><td> 5012754              </td><td>25.00                 </td><td> 44.20                </td><td>11.0000               </td></tr>\n\t<tr><td>Armenia               </td><td>9 Aug 2021            </td><td> 1396508              </td><td>  232297              </td><td>16.60                 </td><td> 47.30                </td><td> 7.9000               </td></tr>\n\t<tr><td>Australia             </td><td>9 Aug 2021            </td><td>26751476              </td><td>   36630              </td><td> 0.14                 </td><td>106.60                </td><td> 0.1500               </td></tr>\n\t<tr><td>Austria               </td><td>8 Aug 2021            </td><td>68525533              </td><td>  658161              </td><td> 1.00                 </td><td>770.00                </td><td> 7.4000               </td></tr>\n\t<tr><td>Azerbaijan            </td><td>7 Aug 2021            </td><td> 4107190              </td><td>  350605              </td><td> 8.50                 </td><td> 41.50                </td><td> 3.5000               </td></tr>\n\t<tr><td>Bahamas               </td><td>4 Aug 2021            </td><td>  121548              </td><td>   15191              </td><td>12.50                 </td><td> 31.50                </td><td> 3.9000               </td></tr>\n\t<tr><td>Bahrain               </td><td>9 Aug 2021            </td><td> 5585146              </td><td>  270161              </td><td> 4.80                 </td><td>356.00                </td><td>17.2000               </td></tr>\n\t<tr><td>Bangladesh            </td><td>24 Jul 2021           </td><td> 7417714              </td><td> 1151644              </td><td>15.50                 </td><td>  4.50                </td><td> 0.7000               </td></tr>\n\t<tr><td>Barbados              </td><td>8 Aug 2021            </td><td>  230548              </td><td>    4480              </td><td> 1.90                 </td><td> 80.30                </td><td> 1.6000               </td></tr>\n\t<tr><td>Belarus               </td><td>8 Aug 2021            </td><td> 7426441              </td><td>  453932              </td><td> 6.10                 </td><td> 78.20                </td><td> 4.8000               </td></tr>\n\t<tr><td>Belgium               </td><td>9 Aug 2021            </td><td>17701750              </td><td> 1141379              </td><td> 6.40                 </td><td>154.00                </td><td> 9.9000               </td></tr>\n\t<tr><td>Belize                </td><td>5 Aug 2021            </td><td>  190068              </td><td>   14382              </td><td> 7.60                 </td><td> 46.50                </td><td> 3.5000               </td></tr>\n\t<tr><td>Benin                 </td><td>4 May 2021            </td><td>  595112              </td><td>    7884              </td><td> 1.30                 </td><td>  5.10                </td><td> 0.0670               </td></tr>\n\t<tr><td>Bhutan                </td><td>27 May 2021           </td><td>  798573              </td><td>    1491              </td><td> 0.19                 </td><td>108.00                </td><td> 0.2000               </td></tr>\n\t<tr><td>Bolivia               </td><td>4 Aug 2021            </td><td> 2118177              </td><td>  476097              </td><td>22.50                 </td><td> 18.50                </td><td> 4.2000               </td></tr>\n\t<tr><td>Bosnia and Herzegovina</td><td>6 Aug 2021            </td><td> 1083943              </td><td>  206106              </td><td>19.00                 </td><td> 31.70                </td><td> 6.0000               </td></tr>\n\t<tr><td>Botswana              </td><td>5 Aug 2021            </td><td> 1514979              </td><td>  115220              </td><td> 7.60                 </td><td> 67.20                </td><td> 5.1000               </td></tr>\n\t<tr><td>Brazil                </td><td>19 Feb 2021           </td><td>23561497              </td><td>10081676              </td><td>42.80                 </td><td> 11.20                </td><td> 4.8000               </td></tr>\n\t<tr><td>Brunei                </td><td>2 Aug 2021            </td><td>  153804              </td><td>     338              </td><td> 0.22                 </td><td> 33.50                </td><td> 0.0740               </td></tr>\n\t<tr><td>Bulgaria              </td><td>9 Aug 2021            </td><td> 3775295              </td><td>  428823              </td><td>11.40                 </td><td> 54.30                </td><td> 6.2000               </td></tr>\n\t<tr><td>Burkina Faso          </td><td>4 Mar 2021            </td><td>  158777              </td><td>   12123              </td><td> 7.60                 </td><td>  0.76                </td><td> 0.0580               </td></tr>\n\t<tr><td>Burundi               </td><td>5 Jan 2021            </td><td>   90019              </td><td>     884              </td><td> 0.98                 </td><td>  0.76                </td><td> 0.0074               </td></tr>\n\t<tr><td>Cambodia              </td><td>1 Aug 2021            </td><td> 1812706              </td><td>   77914              </td><td> 4.30                 </td><td> 11.20                </td><td> 0.4800               </td></tr>\n\t<tr><td>Cameroon              </td><td>18 Feb 2021           </td><td>  942685              </td><td>   32681              </td><td> 3.50                 </td><td>  3.60                </td><td> 0.1200               </td></tr>\n\t<tr><td>...</td><td>...</td><td>...</td><td>...</td><td>...</td><td>...</td><td>...</td></tr>\n\t<tr><td>Serbia              </td><td>8 Aug 2021          </td><td>  4745124           </td><td>  725702            </td><td>15.30               </td><td> 68.1000            </td><td>10.40000            </td></tr>\n\t<tr><td>Singapore           </td><td>3 Aug 2021          </td><td> 16206203           </td><td>   65315            </td><td> 0.40               </td><td>284.0000            </td><td> 1.10000            </td></tr>\n\t<tr><td>Slovakia            </td><td>9 Aug 2021          </td><td>  3197030           </td><td>  393059            </td><td>12.30               </td><td> 58.6000            </td><td> 7.20000            </td></tr>\n\t<tr><td>Slovenia            </td><td>8 Aug 2021          </td><td>  1403360           </td><td>  260156            </td><td>18.50               </td><td> 67.0000            </td><td>12.40000            </td></tr>\n\t<tr><td>South Africa        </td><td>24 May 2021         </td><td> 11378282           </td><td> 1637848            </td><td>14.40               </td><td> 19.2000            </td><td> 2.80000            </td></tr>\n\t<tr><td>South Korea         </td><td>1 Mar 2021          </td><td>  6592010           </td><td>   90029            </td><td> 1.40               </td><td> 12.7000            </td><td> 0.17000            </td></tr>\n\t<tr><td>South Sudan         </td><td>26 May 2021         </td><td>   164472           </td><td>   10688            </td><td> 6.50               </td><td>  1.3000            </td><td> 0.08400            </td></tr>\n\t<tr><td>Spain               </td><td>1 Jul 2021          </td><td> 54128524           </td><td> 3821305            </td><td> 7.10               </td><td>116.0000            </td><td> 8.20000            </td></tr>\n\t<tr><td>Sri Lanka           </td><td>30 Mar 2021         </td><td>  2384745           </td><td>   93128            </td><td> 3.90               </td><td> 10.9000            </td><td> 0.43000            </td></tr>\n\t<tr><td>Sudan               </td><td>7 Jan 2021          </td><td>   158804           </td><td>   23316            </td><td>14.70               </td><td>  0.3600            </td><td> 0.05300            </td></tr>\n\t<tr><td>Sweden              </td><td>24 May 2021         </td><td>  9996795           </td><td> 1074751            </td><td>10.80               </td><td> 96.8000            </td><td>10.40000            </td></tr>\n\t<tr><td>Switzerland[l]      </td><td>9 Aug 2021          </td><td>  9250039           </td><td>  727113            </td><td> 0.80               </td><td>107.4000            </td><td> 8.40000            </td></tr>\n\t<tr><td>Taiwan[m]           </td><td>5 Aug 2021          </td><td>  4025266           </td><td>   15753            </td><td> 0.39               </td><td> 17.1000            </td><td> 0.06600            </td></tr>\n\t<tr><td>Tanzania            </td><td>18 Nov 2020         </td><td>     3880           </td><td>     509            </td><td>13.10               </td><td>  0.0065            </td><td> 0.00085            </td></tr>\n\t<tr><td>Thailand            </td><td>4 Mar 2021          </td><td>  1579597           </td><td>   26162            </td><td> 1.70               </td><td>  2.3000            </td><td> 0.03800            </td></tr>\n\t<tr><td>Togo                </td><td>1 Aug 2021          </td><td>   406719           </td><td>   15870            </td><td> 3.90               </td><td>  4.7000            </td><td> 0.18000            </td></tr>\n\t<tr><td>Trinidad and Tobago </td><td>5 Aug 2021          </td><td>   276152           </td><td>   39577            </td><td>14.30               </td><td> 20.2000            </td><td> 2.90000            </td></tr>\n\t<tr><td>Tunisia             </td><td>3 Aug 2021          </td><td>  2303573           </td><td>  602757            </td><td>26.20               </td><td> 19.5000            </td><td> 5.10000            </td></tr>\n\t<tr><td>Turkey              </td><td>2 Jul 2021          </td><td> 61236294           </td><td> 5435831            </td><td> 8.90               </td><td> 73.6000            </td><td> 6.50000            </td></tr>\n\t<tr><td>Uganda              </td><td>11 Feb 2021         </td><td>   852444           </td><td>   39979            </td><td> 4.70               </td><td>  1.9000            </td><td> 0.08700            </td></tr>\n\t<tr><td>Ukraine             </td><td>8 Aug 2021          </td><td> 11537474           </td><td> 2259451            </td><td>19.60               </td><td> 27.5000            </td><td> 5.40000            </td></tr>\n\t<tr><td>United Arab Emirates</td><td>10 Aug 2021         </td><td> 68387144           </td><td>  695619            </td><td> 1.00               </td><td>712.0000            </td><td> 7.20000            </td></tr>\n\t<tr><td>United Kingdom      </td><td>9 Aug 2021          </td><td>252045149           </td><td> 6094243            </td><td> 2.40               </td><td>373.0000            </td><td> 9.00000            </td></tr>\n\t<tr><td>United States       </td><td>9 Aug 2021          </td><td>512152348           </td><td>35940893            </td><td> 7.00               </td><td>155.0000            </td><td>10.90000            </td></tr>\n\t<tr><td>Uruguay             </td><td>8 Aug 2021          </td><td>  3142262           </td><td>  382506            </td><td>12.20               </td><td> 90.5000            </td><td>11.00000            </td></tr>\n\t<tr><td>Uzbekistan          </td><td>7 Sep 2020          </td><td>  2630000           </td><td>   43975            </td><td> 1.70               </td><td>  7.7000            </td><td> 0.13000            </td></tr>\n\t<tr><td>Venezuela           </td><td>30 Mar 2021         </td><td>  3179074           </td><td>  159149            </td><td> 5.00               </td><td> 11.0000            </td><td> 0.55000            </td></tr>\n\t<tr><td>Vietnam             </td><td>25 Jul 2021         </td><td> 12767206           </td><td>   98465            </td><td> 0.77               </td><td> 12.9000            </td><td> 0.10000            </td></tr>\n\t<tr><td>Zambia              </td><td>3 Aug 2021          </td><td>  2104430           </td><td>  197123            </td><td> 9.40               </td><td> 12.1000            </td><td> 1.10000            </td></tr>\n\t<tr><td>Zimbabwe            </td><td>1 Aug 2021          </td><td>  1097378           </td><td>  109546            </td><td>10.00               </td><td>  7.4000            </td><td> 0.74000            </td></tr>\n</tbody>\n</table>\n",
                        "text/latex": "\\begin{tabular}{r|lllllll}\n country & date & tested & confirmed & confirmed.tested.ratio & tested.population.ratio & confirmed.population.ratio\\\\\n\\hline\n\t Afghanistan            & 17 Dec 2020            &   154767               &    49621               & 32.10                  &   0.40                 &  0.1300               \\\\\n\t Albania                & 18 Feb 2021            &   428654               &    96838               & 22.60                  &  15.00                 &  3.4000               \\\\\n\t Algeria                & 2 Nov 2020             &   230553               &    58574               & 25.40                  &   0.53                 &  0.1300               \\\\\n\t Andorra                & 2 Aug 2021             &   204740               &    14748               &  7.20                  & 264.00                 & 19.0000               \\\\\n\t Angola                 & 12 Mar 2021            &   399228               &    20981               &  5.30                  &   1.30                 &  0.0670               \\\\\n\t Antigua and Barbuda    & 6 Mar 2021             &    15268               &      832               &  5.40                  &  15.90                 &  0.8600               \\\\\n\t Argentina              & 7 Aug 2021             & 20076112               &  5012754               & 25.00                  &  44.20                 & 11.0000               \\\\\n\t Armenia                & 9 Aug 2021             &  1396508               &   232297               & 16.60                  &  47.30                 &  7.9000               \\\\\n\t Australia              & 9 Aug 2021             & 26751476               &    36630               &  0.14                  & 106.60                 &  0.1500               \\\\\n\t Austria                & 8 Aug 2021             & 68525533               &   658161               &  1.00                  & 770.00                 &  7.4000               \\\\\n\t Azerbaijan             & 7 Aug 2021             &  4107190               &   350605               &  8.50                  &  41.50                 &  3.5000               \\\\\n\t Bahamas                & 4 Aug 2021             &   121548               &    15191               & 12.50                  &  31.50                 &  3.9000               \\\\\n\t Bahrain                & 9 Aug 2021             &  5585146               &   270161               &  4.80                  & 356.00                 & 17.2000               \\\\\n\t Bangladesh             & 24 Jul 2021            &  7417714               &  1151644               & 15.50                  &   4.50                 &  0.7000               \\\\\n\t Barbados               & 8 Aug 2021             &   230548               &     4480               &  1.90                  &  80.30                 &  1.6000               \\\\\n\t Belarus                & 8 Aug 2021             &  7426441               &   453932               &  6.10                  &  78.20                 &  4.8000               \\\\\n\t Belgium                & 9 Aug 2021             & 17701750               &  1141379               &  6.40                  & 154.00                 &  9.9000               \\\\\n\t Belize                 & 5 Aug 2021             &   190068               &    14382               &  7.60                  &  46.50                 &  3.5000               \\\\\n\t Benin                  & 4 May 2021             &   595112               &     7884               &  1.30                  &   5.10                 &  0.0670               \\\\\n\t Bhutan                 & 27 May 2021            &   798573               &     1491               &  0.19                  & 108.00                 &  0.2000               \\\\\n\t Bolivia                & 4 Aug 2021             &  2118177               &   476097               & 22.50                  &  18.50                 &  4.2000               \\\\\n\t Bosnia and Herzegovina & 6 Aug 2021             &  1083943               &   206106               & 19.00                  &  31.70                 &  6.0000               \\\\\n\t Botswana               & 5 Aug 2021             &  1514979               &   115220               &  7.60                  &  67.20                 &  5.1000               \\\\\n\t Brazil                 & 19 Feb 2021            & 23561497               & 10081676               & 42.80                  &  11.20                 &  4.8000               \\\\\n\t Brunei                 & 2 Aug 2021             &   153804               &      338               &  0.22                  &  33.50                 &  0.0740               \\\\\n\t Bulgaria               & 9 Aug 2021             &  3775295               &   428823               & 11.40                  &  54.30                 &  6.2000               \\\\\n\t Burkina Faso           & 4 Mar 2021             &   158777               &    12123               &  7.60                  &   0.76                 &  0.0580               \\\\\n\t Burundi                & 5 Jan 2021             &    90019               &      884               &  0.98                  &   0.76                 &  0.0074               \\\\\n\t Cambodia               & 1 Aug 2021             &  1812706               &    77914               &  4.30                  &  11.20                 &  0.4800               \\\\\n\t Cameroon               & 18 Feb 2021            &   942685               &    32681               &  3.50                  &   3.60                 &  0.1200               \\\\\n\t ... & ... & ... & ... & ... & ... & ...\\\\\n\t Serbia               & 8 Aug 2021           &   4745124            &   725702             & 15.30                &  68.1000             & 10.40000            \\\\\n\t Singapore            & 3 Aug 2021           &  16206203            &    65315             &  0.40                & 284.0000             &  1.10000            \\\\\n\t Slovakia             & 9 Aug 2021           &   3197030            &   393059             & 12.30                &  58.6000             &  7.20000            \\\\\n\t Slovenia             & 8 Aug 2021           &   1403360            &   260156             & 18.50                &  67.0000             & 12.40000            \\\\\n\t South Africa         & 24 May 2021          &  11378282            &  1637848             & 14.40                &  19.2000             &  2.80000            \\\\\n\t South Korea          & 1 Mar 2021           &   6592010            &    90029             &  1.40                &  12.7000             &  0.17000            \\\\\n\t South Sudan          & 26 May 2021          &    164472            &    10688             &  6.50                &   1.3000             &  0.08400            \\\\\n\t Spain                & 1 Jul 2021           &  54128524            &  3821305             &  7.10                & 116.0000             &  8.20000            \\\\\n\t Sri Lanka            & 30 Mar 2021          &   2384745            &    93128             &  3.90                &  10.9000             &  0.43000            \\\\\n\t Sudan                & 7 Jan 2021           &    158804            &    23316             & 14.70                &   0.3600             &  0.05300            \\\\\n\t Sweden               & 24 May 2021          &   9996795            &  1074751             & 10.80                &  96.8000             & 10.40000            \\\\\n\t Switzerland{[}l{]}       & 9 Aug 2021               &   9250039                &   727113                 &  0.80                    & 107.4000                 &  8.40000                \\\\\n\t Taiwan{[}m{]}            & 5 Aug 2021               &   4025266                &    15753                 &  0.39                    &  17.1000                 &  0.06600                \\\\\n\t Tanzania             & 18 Nov 2020          &      3880            &      509             & 13.10                &   0.0065             &  0.00085            \\\\\n\t Thailand             & 4 Mar 2021           &   1579597            &    26162             &  1.70                &   2.3000             &  0.03800            \\\\\n\t Togo                 & 1 Aug 2021           &    406719            &    15870             &  3.90                &   4.7000             &  0.18000            \\\\\n\t Trinidad and Tobago  & 5 Aug 2021           &    276152            &    39577             & 14.30                &  20.2000             &  2.90000            \\\\\n\t Tunisia              & 3 Aug 2021           &   2303573            &   602757             & 26.20                &  19.5000             &  5.10000            \\\\\n\t Turkey               & 2 Jul 2021           &  61236294            &  5435831             &  8.90                &  73.6000             &  6.50000            \\\\\n\t Uganda               & 11 Feb 2021          &    852444            &    39979             &  4.70                &   1.9000             &  0.08700            \\\\\n\t Ukraine              & 8 Aug 2021           &  11537474            &  2259451             & 19.60                &  27.5000             &  5.40000            \\\\\n\t United Arab Emirates & 10 Aug 2021          &  68387144            &   695619             &  1.00                & 712.0000             &  7.20000            \\\\\n\t United Kingdom       & 9 Aug 2021           & 252045149            &  6094243             &  2.40                & 373.0000             &  9.00000            \\\\\n\t United States        & 9 Aug 2021           & 512152348            & 35940893             &  7.00                & 155.0000             & 10.90000            \\\\\n\t Uruguay              & 8 Aug 2021           &   3142262            &   382506             & 12.20                &  90.5000             & 11.00000            \\\\\n\t Uzbekistan           & 7 Sep 2020           &   2630000            &    43975             &  1.70                &   7.7000             &  0.13000            \\\\\n\t Venezuela            & 30 Mar 2021          &   3179074            &   159149             &  5.00                &  11.0000             &  0.55000            \\\\\n\t Vietnam              & 25 Jul 2021          &  12767206            &    98465             &  0.77                &  12.9000             &  0.10000            \\\\\n\t Zambia               & 3 Aug 2021           &   2104430            &   197123             &  9.40                &  12.1000             &  1.10000            \\\\\n\t Zimbabwe             & 1 Aug 2021           &   1097378            &   109546             & 10.00                &   7.4000             &  0.74000            \\\\\n\\end{tabular}\n",
                        "text/markdown": "\n| country | date | tested | confirmed | confirmed.tested.ratio | tested.population.ratio | confirmed.population.ratio |\n|---|---|---|---|---|---|---|\n| Afghanistan            | 17 Dec 2020            |   154767               |    49621               | 32.10                  |   0.40                 |  0.1300                |\n| Albania                | 18 Feb 2021            |   428654               |    96838               | 22.60                  |  15.00                 |  3.4000                |\n| Algeria                | 2 Nov 2020             |   230553               |    58574               | 25.40                  |   0.53                 |  0.1300                |\n| Andorra                | 2 Aug 2021             |   204740               |    14748               |  7.20                  | 264.00                 | 19.0000                |\n| Angola                 | 12 Mar 2021            |   399228               |    20981               |  5.30                  |   1.30                 |  0.0670                |\n| Antigua and Barbuda    | 6 Mar 2021             |    15268               |      832               |  5.40                  |  15.90                 |  0.8600                |\n| Argentina              | 7 Aug 2021             | 20076112               |  5012754               | 25.00                  |  44.20                 | 11.0000                |\n| Armenia                | 9 Aug 2021             |  1396508               |   232297               | 16.60                  |  47.30                 |  7.9000                |\n| Australia              | 9 Aug 2021             | 26751476               |    36630               |  0.14                  | 106.60                 |  0.1500                |\n| Austria                | 8 Aug 2021             | 68525533               |   658161               |  1.00                  | 770.00                 |  7.4000                |\n| Azerbaijan             | 7 Aug 2021             |  4107190               |   350605               |  8.50                  |  41.50                 |  3.5000                |\n| Bahamas                | 4 Aug 2021             |   121548               |    15191               | 12.50                  |  31.50                 |  3.9000                |\n| Bahrain                | 9 Aug 2021             |  5585146               |   270161               |  4.80                  | 356.00                 | 17.2000                |\n| Bangladesh             | 24 Jul 2021            |  7417714               |  1151644               | 15.50                  |   4.50                 |  0.7000                |\n| Barbados               | 8 Aug 2021             |   230548               |     4480               |  1.90                  |  80.30                 |  1.6000                |\n| Belarus                | 8 Aug 2021             |  7426441               |   453932               |  6.10                  |  78.20                 |  4.8000                |\n| Belgium                | 9 Aug 2021             | 17701750               |  1141379               |  6.40                  | 154.00                 |  9.9000                |\n| Belize                 | 5 Aug 2021             |   190068               |    14382               |  7.60                  |  46.50                 |  3.5000                |\n| Benin                  | 4 May 2021             |   595112               |     7884               |  1.30                  |   5.10                 |  0.0670                |\n| Bhutan                 | 27 May 2021            |   798573               |     1491               |  0.19                  | 108.00                 |  0.2000                |\n| Bolivia                | 4 Aug 2021             |  2118177               |   476097               | 22.50                  |  18.50                 |  4.2000                |\n| Bosnia and Herzegovina | 6 Aug 2021             |  1083943               |   206106               | 19.00                  |  31.70                 |  6.0000                |\n| Botswana               | 5 Aug 2021             |  1514979               |   115220               |  7.60                  |  67.20                 |  5.1000                |\n| Brazil                 | 19 Feb 2021            | 23561497               | 10081676               | 42.80                  |  11.20                 |  4.8000                |\n| Brunei                 | 2 Aug 2021             |   153804               |      338               |  0.22                  |  33.50                 |  0.0740                |\n| Bulgaria               | 9 Aug 2021             |  3775295               |   428823               | 11.40                  |  54.30                 |  6.2000                |\n| Burkina Faso           | 4 Mar 2021             |   158777               |    12123               |  7.60                  |   0.76                 |  0.0580                |\n| Burundi                | 5 Jan 2021             |    90019               |      884               |  0.98                  |   0.76                 |  0.0074                |\n| Cambodia               | 1 Aug 2021             |  1812706               |    77914               |  4.30                  |  11.20                 |  0.4800                |\n| Cameroon               | 18 Feb 2021            |   942685               |    32681               |  3.50                  |   3.60                 |  0.1200                |\n| ... | ... | ... | ... | ... | ... | ... |\n| Serbia               | 8 Aug 2021           |   4745124            |   725702             | 15.30                |  68.1000             | 10.40000             |\n| Singapore            | 3 Aug 2021           |  16206203            |    65315             |  0.40                | 284.0000             |  1.10000             |\n| Slovakia             | 9 Aug 2021           |   3197030            |   393059             | 12.30                |  58.6000             |  7.20000             |\n| Slovenia             | 8 Aug 2021           |   1403360            |   260156             | 18.50                |  67.0000             | 12.40000             |\n| South Africa         | 24 May 2021          |  11378282            |  1637848             | 14.40                |  19.2000             |  2.80000             |\n| South Korea          | 1 Mar 2021           |   6592010            |    90029             |  1.40                |  12.7000             |  0.17000             |\n| South Sudan          | 26 May 2021          |    164472            |    10688             |  6.50                |   1.3000             |  0.08400             |\n| Spain                | 1 Jul 2021           |  54128524            |  3821305             |  7.10                | 116.0000             |  8.20000             |\n| Sri Lanka            | 30 Mar 2021          |   2384745            |    93128             |  3.90                |  10.9000             |  0.43000             |\n| Sudan                | 7 Jan 2021           |    158804            |    23316             | 14.70                |   0.3600             |  0.05300             |\n| Sweden               | 24 May 2021          |   9996795            |  1074751             | 10.80                |  96.8000             | 10.40000             |\n| Switzerland[l]       | 9 Aug 2021           |   9250039            |   727113             |  0.80                | 107.4000             |  8.40000             |\n| Taiwan[m]            | 5 Aug 2021           |   4025266            |    15753             |  0.39                |  17.1000             |  0.06600             |\n| Tanzania             | 18 Nov 2020          |      3880            |      509             | 13.10                |   0.0065             |  0.00085             |\n| Thailand             | 4 Mar 2021           |   1579597            |    26162             |  1.70                |   2.3000             |  0.03800             |\n| Togo                 | 1 Aug 2021           |    406719            |    15870             |  3.90                |   4.7000             |  0.18000             |\n| Trinidad and Tobago  | 5 Aug 2021           |    276152            |    39577             | 14.30                |  20.2000             |  2.90000             |\n| Tunisia              | 3 Aug 2021           |   2303573            |   602757             | 26.20                |  19.5000             |  5.10000             |\n| Turkey               | 2 Jul 2021           |  61236294            |  5435831             |  8.90                |  73.6000             |  6.50000             |\n| Uganda               | 11 Feb 2021          |    852444            |    39979             |  4.70                |   1.9000             |  0.08700             |\n| Ukraine              | 8 Aug 2021           |  11537474            |  2259451             | 19.60                |  27.5000             |  5.40000             |\n| United Arab Emirates | 10 Aug 2021          |  68387144            |   695619             |  1.00                | 712.0000             |  7.20000             |\n| United Kingdom       | 9 Aug 2021           | 252045149            |  6094243             |  2.40                | 373.0000             |  9.00000             |\n| United States        | 9 Aug 2021           | 512152348            | 35940893             |  7.00                | 155.0000             | 10.90000             |\n| Uruguay              | 8 Aug 2021           |   3142262            |   382506             | 12.20                |  90.5000             | 11.00000             |\n| Uzbekistan           | 7 Sep 2020           |   2630000            |    43975             |  1.70                |   7.7000             |  0.13000             |\n| Venezuela            | 30 Mar 2021          |   3179074            |   159149             |  5.00                |  11.0000             |  0.55000             |\n| Vietnam              | 25 Jul 2021          |  12767206            |    98465             |  0.77                |  12.9000             |  0.10000             |\n| Zambia               | 3 Aug 2021           |   2104430            |   197123             |  9.40                |  12.1000             |  1.10000             |\n| Zimbabwe             | 1 Aug 2021           |   1097378            |   109546             | 10.00                |   7.4000             |  0.74000             |\n\n",
                        "text/plain": "    country                date        tested    confirmed\n1   Afghanistan            17 Dec 2020   154767     49621 \n2   Albania                18 Feb 2021   428654     96838 \n3   Algeria                2 Nov 2020    230553     58574 \n4   Andorra                2 Aug 2021    204740     14748 \n5   Angola                 12 Mar 2021   399228     20981 \n6   Antigua and Barbuda    6 Mar 2021     15268       832 \n7   Argentina              7 Aug 2021  20076112   5012754 \n8   Armenia                9 Aug 2021   1396508    232297 \n9   Australia              9 Aug 2021  26751476     36630 \n10  Austria                8 Aug 2021  68525533    658161 \n11  Azerbaijan             7 Aug 2021   4107190    350605 \n12  Bahamas                4 Aug 2021    121548     15191 \n13  Bahrain                9 Aug 2021   5585146    270161 \n14  Bangladesh             24 Jul 2021  7417714   1151644 \n15  Barbados               8 Aug 2021    230548      4480 \n16  Belarus                8 Aug 2021   7426441    453932 \n17  Belgium                9 Aug 2021  17701750   1141379 \n18  Belize                 5 Aug 2021    190068     14382 \n19  Benin                  4 May 2021    595112      7884 \n20  Bhutan                 27 May 2021   798573      1491 \n21  Bolivia                4 Aug 2021   2118177    476097 \n22  Bosnia and Herzegovina 6 Aug 2021   1083943    206106 \n23  Botswana               5 Aug 2021   1514979    115220 \n24  Brazil                 19 Feb 2021 23561497  10081676 \n25  Brunei                 2 Aug 2021    153804       338 \n26  Bulgaria               9 Aug 2021   3775295    428823 \n27  Burkina Faso           4 Mar 2021    158777     12123 \n28  Burundi                5 Jan 2021     90019       884 \n29  Cambodia               1 Aug 2021   1812706     77914 \n30  Cameroon               18 Feb 2021   942685     32681 \n... ...                    ...         ...       ...      \n143 Serbia                 8 Aug 2021    4745124   725702 \n144 Singapore              3 Aug 2021   16206203    65315 \n145 Slovakia               9 Aug 2021    3197030   393059 \n146 Slovenia               8 Aug 2021    1403360   260156 \n147 South Africa           24 May 2021  11378282  1637848 \n148 South Korea            1 Mar 2021    6592010    90029 \n149 South Sudan            26 May 2021    164472    10688 \n150 Spain                  1 Jul 2021   54128524  3821305 \n151 Sri Lanka              30 Mar 2021   2384745    93128 \n152 Sudan                  7 Jan 2021     158804    23316 \n153 Sweden                 24 May 2021   9996795  1074751 \n154 Switzerland[l]         9 Aug 2021    9250039   727113 \n155 Taiwan[m]              5 Aug 2021    4025266    15753 \n156 Tanzania               18 Nov 2020      3880      509 \n157 Thailand               4 Mar 2021    1579597    26162 \n158 Togo                   1 Aug 2021     406719    15870 \n159 Trinidad and Tobago    5 Aug 2021     276152    39577 \n160 Tunisia                3 Aug 2021    2303573   602757 \n161 Turkey                 2 Jul 2021   61236294  5435831 \n162 Uganda                 11 Feb 2021    852444    39979 \n163 Ukraine                8 Aug 2021   11537474  2259451 \n164 United Arab Emirates   10 Aug 2021  68387144   695619 \n165 United Kingdom         9 Aug 2021  252045149  6094243 \n166 United States          9 Aug 2021  512152348 35940893 \n167 Uruguay                8 Aug 2021    3142262   382506 \n168 Uzbekistan             7 Sep 2020    2630000    43975 \n169 Venezuela              30 Mar 2021   3179074   159149 \n170 Vietnam                25 Jul 2021  12767206    98465 \n171 Zambia                 3 Aug 2021    2104430   197123 \n172 Zimbabwe               1 Aug 2021    1097378   109546 \n    confirmed.tested.ratio tested.population.ratio confirmed.population.ratio\n1   32.10                    0.40                   0.1300                   \n2   22.60                   15.00                   3.4000                   \n3   25.40                    0.53                   0.1300                   \n4    7.20                  264.00                  19.0000                   \n5    5.30                    1.30                   0.0670                   \n6    5.40                   15.90                   0.8600                   \n7   25.00                   44.20                  11.0000                   \n8   16.60                   47.30                   7.9000                   \n9    0.14                  106.60                   0.1500                   \n10   1.00                  770.00                   7.4000                   \n11   8.50                   41.50                   3.5000                   \n12  12.50                   31.50                   3.9000                   \n13   4.80                  356.00                  17.2000                   \n14  15.50                    4.50                   0.7000                   \n15   1.90                   80.30                   1.6000                   \n16   6.10                   78.20                   4.8000                   \n17   6.40                  154.00                   9.9000                   \n18   7.60                   46.50                   3.5000                   \n19   1.30                    5.10                   0.0670                   \n20   0.19                  108.00                   0.2000                   \n21  22.50                   18.50                   4.2000                   \n22  19.00                   31.70                   6.0000                   \n23   7.60                   67.20                   5.1000                   \n24  42.80                   11.20                   4.8000                   \n25   0.22                   33.50                   0.0740                   \n26  11.40                   54.30                   6.2000                   \n27   7.60                    0.76                   0.0580                   \n28   0.98                    0.76                   0.0074                   \n29   4.30                   11.20                   0.4800                   \n30   3.50                    3.60                   0.1200                   \n... ...                    ...                     ...                       \n143 15.30                   68.1000                10.40000                  \n144  0.40                  284.0000                 1.10000                  \n145 12.30                   58.6000                 7.20000                  \n146 18.50                   67.0000                12.40000                  \n147 14.40                   19.2000                 2.80000                  \n148  1.40                   12.7000                 0.17000                  \n149  6.50                    1.3000                 0.08400                  \n150  7.10                  116.0000                 8.20000                  \n151  3.90                   10.9000                 0.43000                  \n152 14.70                    0.3600                 0.05300                  \n153 10.80                   96.8000                10.40000                  \n154  0.80                  107.4000                 8.40000                  \n155  0.39                   17.1000                 0.06600                  \n156 13.10                    0.0065                 0.00085                  \n157  1.70                    2.3000                 0.03800                  \n158  3.90                    4.7000                 0.18000                  \n159 14.30                   20.2000                 2.90000                  \n160 26.20                   19.5000                 5.10000                  \n161  8.90                   73.6000                 6.50000                  \n162  4.70                    1.9000                 0.08700                  \n163 19.60                   27.5000                 5.40000                  \n164  1.00                  712.0000                 7.20000                  \n165  2.40                  373.0000                 9.00000                  \n166  7.00                  155.0000                10.90000                  \n167 12.20                   90.5000                11.00000                  \n168  1.70                    7.7000                 0.13000                  \n169  5.00                   11.0000                 0.55000                  \n170  0.77                   12.9000                 0.10000                  \n171  9.40                   12.1000                 1.10000                  \n172 10.00                    7.4000                 0.74000                  "
                    },
                    "metadata": {},
                    "output_type": "display_data"
                }
            ],
            "source": "# call `preprocess_covid_data_frame` function and assign it to a new data frame\ncovid_data_frame_1 <- preprocess_covid_data_frame(covid_data_frame)\ncovid_data_frame_1"
        },
        {
            "cell_type": "markdown",
            "metadata": {},
            "source": "Get the summary of the processed data frame again\n"
        },
        {
            "cell_type": "code",
            "execution_count": 26,
            "metadata": {},
            "outputs": [
                {
                    "data": {
                        "text/plain": "                country            date        tested         \n Afghanistan        :  1   9 Aug 2021:29   Min.   :     3880  \n Albania            :  1   8 Aug 2021:25   1st Qu.:   360949  \n Algeria            :  1   4 Aug 2021: 8   Median :  1971574  \n Andorra            :  1   7 Aug 2021: 8   Mean   : 16593302  \n Angola             :  1   5 Aug 2021: 7   3rd Qu.:  7880346  \n Antigua and Barbuda:  1   1 Aug 2021: 5   Max.   :512152348  \n (Other)            :166   (Other)   :90                      \n   confirmed        confirmed.tested.ratio tested.population.ratio\n Min.   :       0   Min.   :  0.000        Min.   :  0.0065       \n 1st Qu.:   22444   1st Qu.:  3.775        1st Qu.:  6.5750       \n Median :  127722   Median :  7.500        Median : 27.7000       \n Mean   : 1077418   Mean   : 10.421        Mean   : 80.9036       \n 3rd Qu.:  535799   3rd Qu.: 14.325        3rd Qu.: 82.8750       \n Max.   :35940893   Max.   :152.500        Max.   :782.0000       \n                                                                  \n confirmed.population.ratio\n Min.   : 0.0000           \n 1st Qu.: 0.2375           \n Median : 2.5500           \n Mean   : 4.3141           \n 3rd Qu.: 7.2000           \n Max.   :55.6000           \n                           "
                    },
                    "metadata": {},
                    "output_type": "display_data"
                }
            ],
            "source": "# Print the summary of the processed data frame again\nsummary(covid_data_frame_1)"
        },
        {
            "cell_type": "markdown",
            "metadata": {},
            "source": "After pre-processing, you can see the columns and columns names are simplified, and columns types are converted into correct types.\n"
        },
        {
            "cell_type": "markdown",
            "metadata": {},
            "source": "The data frame has following columns:\n\n*   **country** - The name of the country\n*   **date** - Reported date\n*   **tested** - Total tested cases by the reported date\n*   **confirmed** - Total confirmed cases by the reported date\n*   **confirmed.tested.ratio** - The ratio of confirmed cases to the tested cases\n*   **tested.population.ratio** - The ratio of tested cases to the population of the country\n*   **confirmed.population.ratio** - The ratio of confirmed cases to the population of the country\n"
        },
        {
            "cell_type": "markdown",
            "metadata": {},
            "source": "OK, we can call `write.csv()` function to save the csv file into a file.\n"
        },
        {
            "cell_type": "code",
            "execution_count": 29,
            "metadata": {},
            "outputs": [],
            "source": "# Export the data frame to a csv file\nwrite.csv(covid_data_frame_1, \"covid.csv\")"
        },
        {
            "cell_type": "markdown",
            "metadata": {},
            "source": "Note for IBM Waston Studio, there is no traditional \"hard disk\" associated with a R workspace.\n\nEven if you call `write.csv()` method to save the data frame as a csv file, it won't be shown in IBM Cloud Object Storage asset UI automatically.\n\nHowever, you may still check if the `covid.csv` exists using following code snippet:\n"
        },
        {
            "cell_type": "code",
            "execution_count": 30,
            "metadata": {},
            "outputs": [
                {
                    "name": "stdout",
                    "output_type": "stream",
                    "text": "[1] \"/home/dsxuser/work/covid.csv\"\n"
                },
                {
                    "data": {
                        "text/html": "TRUE",
                        "text/latex": "TRUE",
                        "text/markdown": "TRUE",
                        "text/plain": "[1] TRUE"
                    },
                    "metadata": {},
                    "output_type": "display_data"
                }
            ],
            "source": "# Get working directory\nwd <- getwd()\n# Get exported \nfile_path <- paste(wd, sep=\"\", \"/covid.csv\")\n# File path\nprint(file_path)\nfile.exists(file_path)"
        },
        {
            "cell_type": "markdown",
            "metadata": {},
            "source": "**Optional Step**: If you have difficulties finishing above webscraping tasks, you may still continue with next tasks by downloading a provided csv file from here:\n"
        },
        {
            "cell_type": "code",
            "execution_count": null,
            "metadata": {},
            "outputs": [],
            "source": "## Download a sample csv file\n# covid_csv_file <- download.file(\"https://cf-courses-data.s3.us.cloud-object-storage.appdomain.cloud/IBMDeveloperSkillsNetwork-RP0101EN-Coursera/v2/dataset/covid.csv\", destfile=\"covid.csv\")\n# covid_data_frame_csv <- read.csv(\"covid.csv\", header=TRUE, sep=\",\")"
        },
        {
            "cell_type": "markdown",
            "metadata": {},
            "source": "## TASK 4: Get a subset of the extracted data frame\n\nThe goal of task 4 is to get the 5th to 10th rows from the data frame with only `country` and `confirmed` columns selected\n"
        },
        {
            "cell_type": "code",
            "execution_count": 32,
            "metadata": {},
            "outputs": [
                {
                    "data": {
                        "text/html": "<table>\n<thead><tr><th></th><th scope=col>country</th><th scope=col>confirmed</th></tr></thead>\n<tbody>\n\t<tr><th scope=row>5</th><td>Angola             </td><td>  20981            </td></tr>\n\t<tr><th scope=row>6</th><td>Antigua and Barbuda</td><td>    832            </td></tr>\n\t<tr><th scope=row>7</th><td>Argentina          </td><td>5012754            </td></tr>\n\t<tr><th scope=row>8</th><td>Armenia            </td><td> 232297            </td></tr>\n\t<tr><th scope=row>9</th><td>Australia          </td><td>  36630            </td></tr>\n\t<tr><th scope=row>10</th><td>Austria            </td><td> 658161            </td></tr>\n</tbody>\n</table>\n",
                        "text/latex": "\\begin{tabular}{r|ll}\n  & country & confirmed\\\\\n\\hline\n\t5 & Angola              &   20981            \\\\\n\t6 & Antigua and Barbuda &     832            \\\\\n\t7 & Argentina           & 5012754            \\\\\n\t8 & Armenia             &  232297            \\\\\n\t9 & Australia           &   36630            \\\\\n\t10 & Austria             &  658161            \\\\\n\\end{tabular}\n",
                        "text/markdown": "\n| <!--/--> | country | confirmed |\n|---|---|---|\n| 5 | Angola              |   20981             |\n| 6 | Antigua and Barbuda |     832             |\n| 7 | Argentina           | 5012754             |\n| 8 | Armenia             |  232297             |\n| 9 | Australia           |   36630             |\n| 10 | Austria             |  658161             |\n\n",
                        "text/plain": "   country             confirmed\n5  Angola                20981  \n6  Antigua and Barbuda     832  \n7  Argentina           5012754  \n8  Armenia              232297  \n9  Australia             36630  \n10 Austria              658161  "
                    },
                    "metadata": {},
                    "output_type": "display_data"
                }
            ],
            "source": "# Read covid_data_frame_csv from the csv file\n\n# Get the 5th to 10th rows, with two \"country\" \"confirmed\" columns\ncovid_data_frame_1[5:10,c('country', 'confirmed')]"
        },
        {
            "cell_type": "markdown",
            "metadata": {},
            "source": "## TASK 5: Calculate worldwide COVID testing positive ratio\n\nThe goal of task 5 is to get the total confirmed and tested cases worldwide, and try to figure the overall positive ratio using `confirmed cases / tested cases`\n"
        },
        {
            "cell_type": "code",
            "execution_count": 41,
            "metadata": {},
            "outputs": [
                {
                    "data": {
                        "text/html": "0.0649308855807127",
                        "text/latex": "0.0649308855807127",
                        "text/markdown": "0.0649308855807127",
                        "text/plain": "[1] 0.06493089"
                    },
                    "metadata": {},
                    "output_type": "display_data"
                }
            ],
            "source": "# Get the total confirmed cases worldwide\nconfirmed_cases <- sum(covid_data_frame_1['confirmed'])\n#confirmed_cases\n# Get the total tested cases worldwide\ntested_cases <- sum(covid_data_frame_1['tested'])\n# Get the positive ratio (confirmed / tested)\npositive_ratio <- confirmed_cases/tested_cases\npositive_ratio\n"
        },
        {
            "cell_type": "markdown",
            "metadata": {},
            "source": "## TASK 6: Get a country list which reported their testing data\n\nThe goal of task 6 is to get a catalog or sorted list of countries who have reported their COVID-19 testing data\n"
        },
        {
            "cell_type": "code",
            "execution_count": 79,
            "metadata": {},
            "outputs": [
                {
                    "data": {
                        "text/html": "'factor'",
                        "text/latex": "'factor'",
                        "text/markdown": "'factor'",
                        "text/plain": "[1] \"factor\""
                    },
                    "metadata": {},
                    "output_type": "display_data"
                },
                {
                    "name": "stdout",
                    "output_type": "stream",
                    "text": "  [1] \"Zimbabwe\"               \"Zambia\"                 \"Vietnam\"               \n  [4] \"Venezuela\"              \"Uzbekistan\"             \"Uruguay\"               \n  [7] \"United States\"          \"United Kingdom\"         \"United Arab Emirates\"  \n [10] \"Ukraine\"                \"Uganda\"                 \"Turkey\"                \n [13] \"Tunisia\"                \"Trinidad and Tobago\"    \"Togo\"                  \n [16] \"Thailand\"               \"Tanzania\"               \"Taiwan[m]\"             \n [19] \"Switzerland[l]\"         \"Sweden\"                 \"Sudan\"                 \n [22] \"Sri Lanka\"              \"Spain\"                  \"South Sudan\"           \n [25] \"South Korea\"            \"South Africa\"           \"Slovenia\"              \n [28] \"Slovakia\"               \"Singapore\"              \"Serbia\"                \n [31] \"Senegal\"                \"Saudi Arabia\"           \"San Marino\"            \n [34] \"Saint Vincent\"          \"Saint Lucia\"            \"Saint Kitts and Nevis\" \n [37] \"Rwanda\"                 \"Russia\"                 \"Romania\"               \n [40] \"Qatar\"                  \"Portugal\"               \"Poland\"                \n [43] \"Philippines\"            \"Peru\"                   \"Paraguay\"              \n [46] \"Papua New Guinea\"       \"Panama\"                 \"Palestine\"             \n [49] \"Pakistan\"               \"Oman\"                   \"Norway\"                \n [52] \"Northern Cyprus[k]\"     \"North Macedonia\"        \"North Korea\"           \n [55] \"Nigeria\"                \"Niger\"                  \"New Zealand\"           \n [58] \"New Caledonia\"          \"Netherlands\"            \"Nepal\"                 \n [61] \"Namibia\"                \"Myanmar\"                \"Mozambique\"            \n [64] \"Morocco\"                \"Montenegro\"             \"Mongolia\"              \n [67] \"Moldova[j]\"             \"Mexico\"                 \"Mauritius\"             \n [70] \"Mauritania\"             \"Malta\"                  \"Mali\"                  \n [73] \"Maldives\"               \"Malaysia\"               \"Malawi\"                \n [76] \"Madagascar\"             \"Luxembourg[i]\"          \"Lithuania\"             \n [79] \"Libya\"                  \"Liberia\"                \"Lesotho\"               \n [82] \"Lebanon\"                \"Latvia\"                 \"Laos\"                  \n [85] \"Kyrgyzstan\"             \"Kuwait\"                 \"Kosovo\"                \n [88] \"Kenya\"                  \"Kazakhstan\"             \"Jordan\"                \n [91] \"Japan\"                  \"Jamaica\"                \"Ivory Coast\"           \n [94] \"Italy\"                  \"Israel\"                 \"Ireland\"               \n [97] \"Iraq\"                   \"Iran\"                   \"Indonesia\"             \n[100] \"India\"                  \"Iceland\"                \"Hungary\"               \n[103] \"Honduras\"               \"Haiti\"                  \"Guyana\"                \n[106] \"Guinea-Bissau\"          \"Guinea\"                 \"Guatemala\"             \n[109] \"Grenada\"                \"Greenland\"              \"Greece\"                \n[112] \"Ghana\"                  \"Germany\"                \"Georgia[h]\"            \n[115] \"Gambia\"                 \"Gabon\"                  \"France[f][g]\"          \n[118] \"Finland\"                \"Fiji\"                   \"Faroe Islands\"         \n[121] \"Ethiopia\"               \"Eswatini\"               \"Estonia\"               \n[124] \"Equatorial Guinea\"      \"El Salvador\"            \"Egypt\"                 \n[127] \"Ecuador\"                \"DR Congo\"               \"Dominican Republic\"    \n[130] \"Dominica\"               \"Djibouti\"               \"Denmark[e]\"            \n[133] \"Czechia\"                \"Cyprus[d]\"              \"Cuba\"                  \n[136] \"Croatia\"                \"Costa Rica\"             \"Colombia\"              \n[139] \"China[c]\"               \"Chile\"                  \"Chad\"                  \n[142] \"Canada\"                 \"Cameroon\"               \"Cambodia\"              \n[145] \"Burundi\"                \"Burkina Faso\"           \"Bulgaria\"              \n[148] \"Brunei\"                 \"Brazil\"                 \"Botswana\"              \n[151] \"Bosnia and Herzegovina\" \"Bolivia\"                \"Bhutan\"                \n[154] \"Benin\"                  \"Belize\"                 \"Belgium\"               \n[157] \"Belarus\"                \"Barbados\"               \"Bangladesh\"            \n[160] \"Bahrain\"                \"Bahamas\"                \"Azerbaijan\"            \n[163] \"Austria\"                \"Australia\"              \"Armenia\"               \n[166] \"Argentina\"              \"Antigua and Barbuda\"    \"Angola\"                \n[169] \"Andorra\"                \"Algeria\"                \"Albania\"               \n[172] \"Afghanistan\"           \n"
                }
            ],
            "source": "# Get the `country` column\ncountry <- covid_data_frame_1[,1]\n\n# Check its class (should be Factor)\nclass(country)\n# Conver the country column into character so that you can easily sort them\ncountry_char <- as.character(country)\n# Sort the countries AtoZ\ncountry_char <- (country_char)\n\nsort(country_char, decreasing=FALSE)\n\n# Sort the countries ZtoA\nsort(country_char, decreasing=TRUE)\n\n# Print the sorted ZtoA list\nprint(sort(country_char, decreasing=TRUE))\n\n"
        },
        {
            "cell_type": "markdown",
            "metadata": {},
            "source": "## TASK 7: Identify countries names with a specific pattern\n\nThe goal of task 7 is using a regular expression to find any countires start with `United`\n"
        },
        {
            "cell_type": "code",
            "execution_count": 84,
            "metadata": {},
            "outputs": [
                {
                    "data": {
                        "text/html": "<ol class=list-inline>\n\t<li>'United Arab Emirates'</li>\n\t<li>'United Kingdom'</li>\n\t<li>'United States'</li>\n</ol>\n",
                        "text/latex": "\\begin{enumerate*}\n\\item 'United Arab Emirates'\n\\item 'United Kingdom'\n\\item 'United States'\n\\end{enumerate*}\n",
                        "text/markdown": "1. 'United Arab Emirates'\n2. 'United Kingdom'\n3. 'United States'\n\n\n",
                        "text/plain": "[1] \"United Arab Emirates\" \"United Kingdom\"       \"United States\"       "
                    },
                    "metadata": {},
                    "output_type": "display_data"
                }
            ],
            "source": "# Use a regular expression `United.+` to find matches\ngrep(\"United.\", country, value=T)\n# Print the matched country names\n"
        },
        {
            "cell_type": "markdown",
            "metadata": {},
            "source": "## TASK 8: Pick two countries you are interested, and then review their testing data\n\nThe goal of task 8 is to compare the COVID-19 test data between two countires, you will need to select two rows from the dataframe, and select `country`, `confirmed`, `confirmed-population-ratio` columns\n"
        },
        {
            "cell_type": "code",
            "execution_count": 96,
            "metadata": {},
            "outputs": [],
            "source": "# Select a subset (should be only one row) of data frame based on a selected country name and columns\nchina <- covid_data_frame_1[34,c('country','confirmed','confirmed.population.ratio')]\n\n# Select a subset (should be only one row) of data frame based on a selected country name and columns\nmaldives <- covid_data_frame_1[100,c('country','confirmed','confirmed.population.ratio')]"
        },
        {
            "cell_type": "markdown",
            "metadata": {},
            "source": "## TASK 9: Compare which one of the selected countries has a larger ratio of confirmed cases to population\n\nThe goal of task 9 is to find out which country you have selected before has larger ratio of confirmed cases to population, which may indicate that country has higher COVID-19 infection risk\n"
        },
        {
            "cell_type": "code",
            "execution_count": 99,
            "metadata": {},
            "outputs": [
                {
                    "name": "stdout",
                    "output_type": "stream",
                    "text": "[1] \"Maldives has a larger confirmed cases to population\"\n"
                }
            ],
            "source": "# Use if-else statement\n# if (check which confirmed.population value is greater) {\n#    print()\n# } else {\n#    print()\n# }\n#china ratio\nchina_pr <- china['confirmed.population.ratio']\nmaldives <- maldives['confirmed.population.ratio']\n\nif (china_pr > maldives) {\n    print(\"China has a larger confirmed cases to population\")\n}else {\n    print(\"Maldives has a larger confirmed cases to population\")\n}"
        },
        {
            "cell_type": "markdown",
            "metadata": {},
            "source": "## TASK 10: Find countries with confirmed to population ratio rate less than a threshold\n\nThe goal of task 10 is to find out which countries have the confirmed to population ratio less than 1%, it may indicate the risk of those countries are relatively low\n"
        },
        {
            "cell_type": "code",
            "execution_count": 105,
            "metadata": {},
            "outputs": [
                {
                    "data": {
                        "text/html": "<table>\n<thead><tr><th></th><th scope=col>country</th><th scope=col>date</th><th scope=col>tested</th><th scope=col>confirmed</th><th scope=col>confirmed.tested.ratio</th><th scope=col>tested.population.ratio</th><th scope=col>confirmed.population.ratio</th></tr></thead>\n<tbody>\n\t<tr><th scope=row>28</th><td>Burundi    </td><td>5 Jan 2021 </td><td>    90019  </td><td>  884      </td><td> 0.980     </td><td> 0.7600    </td><td>0.00740    </td></tr>\n\t<tr><th scope=row>34</th><td>China[c]   </td><td>31 Jul 2020</td><td>160000000  </td><td>87655      </td><td> 0.055     </td><td>11.1000    </td><td>0.00610    </td></tr>\n\t<tr><th scope=row>89</th><td>Laos       </td><td>1 Mar 2021 </td><td>   114030  </td><td>   45      </td><td> 0.039     </td><td> 1.6000    </td><td>0.00063    </td></tr>\n\t<tr><th scope=row>119</th><td>North Korea</td><td>25 Nov 2020</td><td>    16914  </td><td>    0      </td><td> 0.000     </td><td> 0.0660    </td><td>0.00000    </td></tr>\n\t<tr><th scope=row>156</th><td>Tanzania   </td><td>18 Nov 2020</td><td>     3880  </td><td>  509      </td><td>13.100     </td><td> 0.0065    </td><td>0.00085    </td></tr>\n</tbody>\n</table>\n",
                        "text/latex": "\\begin{tabular}{r|lllllll}\n  & country & date & tested & confirmed & confirmed.tested.ratio & tested.population.ratio & confirmed.population.ratio\\\\\n\\hline\n\t28 & Burundi     & 5 Jan 2021  &     90019   &   884       &  0.980      &  0.7600     & 0.00740    \\\\\n\t34 & China{[}c{]}    & 31 Jul 2020     & 160000000       & 87655           &  0.055          & 11.1000         & 0.00610        \\\\\n\t89 & Laos        & 1 Mar 2021  &    114030   &    45       &  0.039      &  1.6000     & 0.00063    \\\\\n\t119 & North Korea & 25 Nov 2020 &     16914   &     0       &  0.000      &  0.0660     & 0.00000    \\\\\n\t156 & Tanzania    & 18 Nov 2020 &      3880   &   509       & 13.100      &  0.0065     & 0.00085    \\\\\n\\end{tabular}\n",
                        "text/markdown": "\n| <!--/--> | country | date | tested | confirmed | confirmed.tested.ratio | tested.population.ratio | confirmed.population.ratio |\n|---|---|---|---|---|---|---|---|\n| 28 | Burundi     | 5 Jan 2021  |     90019   |   884       |  0.980      |  0.7600     | 0.00740     |\n| 34 | China[c]    | 31 Jul 2020 | 160000000   | 87655       |  0.055      | 11.1000     | 0.00610     |\n| 89 | Laos        | 1 Mar 2021  |    114030   |    45       |  0.039      |  1.6000     | 0.00063     |\n| 119 | North Korea | 25 Nov 2020 |     16914   |     0       |  0.000      |  0.0660     | 0.00000     |\n| 156 | Tanzania    | 18 Nov 2020 |      3880   |   509       | 13.100      |  0.0065     | 0.00085     |\n\n",
                        "text/plain": "    country     date        tested    confirmed confirmed.tested.ratio\n28  Burundi     5 Jan 2021      90019   884      0.980                \n34  China[c]    31 Jul 2020 160000000 87655      0.055                \n89  Laos        1 Mar 2021     114030    45      0.039                \n119 North Korea 25 Nov 2020     16914     0      0.000                \n156 Tanzania    18 Nov 2020      3880   509     13.100                \n    tested.population.ratio confirmed.population.ratio\n28   0.7600                 0.00740                   \n34  11.1000                 0.00610                   \n89   1.6000                 0.00063                   \n119  0.0660                 0.00000                   \n156  0.0065                 0.00085                   "
                    },
                    "metadata": {},
                    "output_type": "display_data"
                }
            ],
            "source": "# Get a subset of any countries with `confirmed.population.ratio` less than the threshold\nsubset(covid_data_frame_1, confirmed.population.ratio < 0.01)"
        },
        {
            "cell_type": "code",
            "execution_count": null,
            "metadata": {},
            "outputs": [],
            "source": ""
        }
    ],
    "metadata": {
        "kernelspec": {
            "display_name": "R 3.6",
            "language": "R",
            "name": "r-3.6"
        },
        "language_info": {
            "codemirror_mode": "r",
            "file_extension": ".r",
            "mimetype": "text/x-r-source",
            "name": "R",
            "pygments_lexer": "r",
            "version": "3.6.1"
        }
    },
    "nbformat": 4,
    "nbformat_minor": 4
}